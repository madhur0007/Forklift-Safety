{
 "cells": [
  {
   "cell_type": "code",
   "execution_count": 28,
   "id": "65b95391-0e2e-44ba-9e90-b3cc00b15e17",
   "metadata": {},
   "outputs": [],
   "source": [
    " from ultralytics import YOLO"
   ]
  },
  {
   "cell_type": "code",
   "execution_count": 29,
   "id": "5b287780-7fe3-4854-bf55-9d06f89bd745",
   "metadata": {},
   "outputs": [],
   "source": [
    " import os"
   ]
  },
  {
   "cell_type": "code",
   "execution_count": 30,
   "id": "3a361d69-fc36-4604-a461-27d7797631b1",
   "metadata": {},
   "outputs": [],
   "source": [
    " os.environ[\"KMP_DUPLICATE_LIB_OK\"]=\"TRUE\""
   ]
  },
  {
   "cell_type": "code",
   "execution_count": 31,
   "id": "90ac32d1-3104-4023-b89e-b73f563e4685",
   "metadata": {},
   "outputs": [],
   "source": [
    " model=YOLO()"
   ]
  },
  {
   "cell_type": "code",
   "execution_count": 32,
   "id": "82df54fb-9a43-47b0-b754-12b99a2f0d82",
   "metadata": {},
   "outputs": [
    {
     "name": "stdout",
     "output_type": "stream",
     "text": [
      "Ultralytics YOLOv8.1.34 🚀 Python-3.12.0 torch-2.2.1+cpu CPU (11th Gen Intel Core(TM) i5-1135G7 2.40GHz)\n",
      "\u001b[34m\u001b[1mengine\\trainer: \u001b[0mtask=detect, mode=train, model=yolov8n.pt, data=data.yaml, epochs=60, time=None, patience=100, batch=16, imgsz=640, save=True, save_period=-1, cache=False, device=None, workers=8, project=None, name=train2, exist_ok=False, pretrained=True, optimizer=auto, verbose=True, seed=0, deterministic=True, single_cls=False, rect=False, cos_lr=False, close_mosaic=10, resume=False, amp=True, fraction=1.0, profile=False, freeze=None, multi_scale=False, overlap_mask=True, mask_ratio=4, dropout=0.0, val=True, split=val, save_json=False, save_hybrid=False, conf=None, iou=0.7, max_det=300, half=False, dnn=False, plots=True, source=None, vid_stride=1, stream_buffer=False, visualize=False, augment=False, agnostic_nms=False, classes=None, retina_masks=False, embed=None, show=False, save_frames=False, save_txt=False, save_conf=False, save_crop=False, show_labels=True, show_conf=True, show_boxes=True, line_width=None, format=torchscript, keras=False, optimize=False, int8=False, dynamic=False, simplify=False, opset=None, workspace=4, nms=False, lr0=0.01, lrf=0.01, momentum=0.937, weight_decay=0.0005, warmup_epochs=3.0, warmup_momentum=0.8, warmup_bias_lr=0.1, box=7.5, cls=0.5, dfl=1.5, pose=12.0, kobj=1.0, label_smoothing=0.0, nbs=64, hsv_h=0.015, hsv_s=0.7, hsv_v=0.4, degrees=0.0, translate=0.1, scale=0.5, shear=0.0, perspective=0.0, flipud=0.0, fliplr=0.5, bgr=0.0, mosaic=1.0, mixup=0.0, copy_paste=0.0, auto_augment=randaugment, erasing=0.4, crop_fraction=1.0, cfg=None, tracker=botsort.yaml, save_dir=runs\\detect\\train2\n",
      "WARNING ⚠️ renaming data YAML 'validation' key to 'val' to match YOLO format.\n",
      "Overriding model.yaml nc=80 with nc=1\n",
      "\n",
      "                   from  n    params  module                                       arguments                     \n",
      "  0                  -1  1       464  ultralytics.nn.modules.conv.Conv             [3, 16, 3, 2]                 \n",
      "  1                  -1  1      4672  ultralytics.nn.modules.conv.Conv             [16, 32, 3, 2]                \n",
      "  2                  -1  1      7360  ultralytics.nn.modules.block.C2f             [32, 32, 1, True]             \n",
      "  3                  -1  1     18560  ultralytics.nn.modules.conv.Conv             [32, 64, 3, 2]                \n",
      "  4                  -1  2     49664  ultralytics.nn.modules.block.C2f             [64, 64, 2, True]             \n",
      "  5                  -1  1     73984  ultralytics.nn.modules.conv.Conv             [64, 128, 3, 2]               \n",
      "  6                  -1  2    197632  ultralytics.nn.modules.block.C2f             [128, 128, 2, True]           \n",
      "  7                  -1  1    295424  ultralytics.nn.modules.conv.Conv             [128, 256, 3, 2]              \n",
      "  8                  -1  1    460288  ultralytics.nn.modules.block.C2f             [256, 256, 1, True]           \n",
      "  9                  -1  1    164608  ultralytics.nn.modules.block.SPPF            [256, 256, 5]                 \n",
      " 10                  -1  1         0  torch.nn.modules.upsampling.Upsample         [None, 2, 'nearest']          \n",
      " 11             [-1, 6]  1         0  ultralytics.nn.modules.conv.Concat           [1]                           \n",
      " 12                  -1  1    148224  ultralytics.nn.modules.block.C2f             [384, 128, 1]                 \n",
      " 13                  -1  1         0  torch.nn.modules.upsampling.Upsample         [None, 2, 'nearest']          \n",
      " 14             [-1, 4]  1         0  ultralytics.nn.modules.conv.Concat           [1]                           \n",
      " 15                  -1  1     37248  ultralytics.nn.modules.block.C2f             [192, 64, 1]                  \n",
      " 16                  -1  1     36992  ultralytics.nn.modules.conv.Conv             [64, 64, 3, 2]                \n",
      " 17            [-1, 12]  1         0  ultralytics.nn.modules.conv.Concat           [1]                           \n",
      " 18                  -1  1    123648  ultralytics.nn.modules.block.C2f             [192, 128, 1]                 \n",
      " 19                  -1  1    147712  ultralytics.nn.modules.conv.Conv             [128, 128, 3, 2]              \n",
      " 20             [-1, 9]  1         0  ultralytics.nn.modules.conv.Concat           [1]                           \n",
      " 21                  -1  1    493056  ultralytics.nn.modules.block.C2f             [384, 256, 1]                 \n",
      " 22        [15, 18, 21]  1    751507  ultralytics.nn.modules.head.Detect           [1, [64, 128, 256]]           \n",
      "Model summary: 225 layers, 3011043 parameters, 3011027 gradients, 8.2 GFLOPs\n",
      "\n",
      "Transferred 319/355 items from pretrained weights\n",
      "\u001b[34m\u001b[1mTensorBoard: \u001b[0mStart with 'tensorboard --logdir runs\\detect\\train2', view at http://localhost:6006/\n",
      "Freezing layer 'model.22.dfl.conv.weight'\n"
     ]
    },
    {
     "name": "stderr",
     "output_type": "stream",
     "text": [
      "\u001b[34m\u001b[1mtrain: \u001b[0mScanning C:\\Users\\Madhur.Gauri\\Desktop\\COMPUTER _VISION_WORK_\\FORKLIFT YOLO\\Data\\labels\\train.cache... 7 images,\u001b[0m\n",
      "\u001b[34m\u001b[1mval: \u001b[0mScanning C:\\Users\\Madhur.Gauri\\Desktop\\COMPUTER _VISION_WORK_\\FORKLIFT YOLO\\Data\\labels\\val.cache... 1 images, 0 b\u001b[0m\n"
     ]
    },
    {
     "name": "stdout",
     "output_type": "stream",
     "text": [
      "Plotting labels to runs\\detect\\train2\\labels.jpg... \n",
      "\u001b[34m\u001b[1moptimizer:\u001b[0m 'optimizer=auto' found, ignoring 'lr0=0.01' and 'momentum=0.937' and determining best 'optimizer', 'lr0' and 'momentum' automatically... \n",
      "\u001b[34m\u001b[1moptimizer:\u001b[0m AdamW(lr=0.002, momentum=0.9) with parameter groups 57 weight(decay=0.0), 64 weight(decay=0.0005), 63 bias(decay=0.0)\n",
      "\u001b[34m\u001b[1mTensorBoard: \u001b[0mmodel graph visualization added ✅\n",
      "Image sizes 640 train, 640 val\n",
      "Using 0 dataloader workers\n",
      "Logging results to \u001b[1mruns\\detect\\train2\u001b[0m\n",
      "Starting training for 60 epochs...\n",
      "\n",
      "      Epoch    GPU_mem   box_loss   cls_loss   dfl_loss  Instances       Size\n"
     ]
    },
    {
     "name": "stderr",
     "output_type": "stream",
     "text": [
      "       1/60         0G      1.238      2.859      1.523         16        640: 100%|██████████| 1/1 [00:09<00:00,  9.07\n",
      "                 Class     Images  Instances      Box(P          R      mAP50  mAP50-95): 100%|██████████| 1/1 [00:00<0"
     ]
    },
    {
     "name": "stdout",
     "output_type": "stream",
     "text": [
      "                   all          1          1    0.00333          1    0.00771    0.00536\n"
     ]
    },
    {
     "name": "stderr",
     "output_type": "stream",
     "text": [
      "\n"
     ]
    },
    {
     "name": "stdout",
     "output_type": "stream",
     "text": [
      "\n",
      "      Epoch    GPU_mem   box_loss   cls_loss   dfl_loss  Instances       Size\n"
     ]
    },
    {
     "name": "stderr",
     "output_type": "stream",
     "text": [
      "       2/60         0G      1.248      2.863      1.479         17        640: 100%|██████████| 1/1 [00:07<00:00,  7.90\n",
      "                 Class     Images  Instances      Box(P          R      mAP50  mAP50-95): 100%|██████████| 1/1 [00:00<0"
     ]
    },
    {
     "name": "stdout",
     "output_type": "stream",
     "text": [
      "                   all          1          1    0.00333          1    0.00777    0.00541\n"
     ]
    },
    {
     "name": "stderr",
     "output_type": "stream",
     "text": [
      "\n"
     ]
    },
    {
     "name": "stdout",
     "output_type": "stream",
     "text": [
      "\n",
      "      Epoch    GPU_mem   box_loss   cls_loss   dfl_loss  Instances       Size\n"
     ]
    },
    {
     "name": "stderr",
     "output_type": "stream",
     "text": [
      "       3/60         0G      1.145      2.688      1.436         20        640: 100%|██████████| 1/1 [00:08<00:00,  8.65\n",
      "                 Class     Images  Instances      Box(P          R      mAP50  mAP50-95): 100%|██████████| 1/1 [00:00<0"
     ]
    },
    {
     "name": "stdout",
     "output_type": "stream",
     "text": [
      "                   all          1          1    0.00333          1    0.00777    0.00541\n"
     ]
    },
    {
     "name": "stderr",
     "output_type": "stream",
     "text": [
      "\n"
     ]
    },
    {
     "name": "stdout",
     "output_type": "stream",
     "text": [
      "\n",
      "      Epoch    GPU_mem   box_loss   cls_loss   dfl_loss  Instances       Size\n"
     ]
    },
    {
     "name": "stderr",
     "output_type": "stream",
     "text": [
      "       4/60         0G      1.224      2.823      1.405         12        640: 100%|██████████| 1/1 [00:08<00:00,  8.09\n",
      "                 Class     Images  Instances      Box(P          R      mAP50  mAP50-95): 100%|██████████| 1/1 [00:00<0"
     ]
    },
    {
     "name": "stdout",
     "output_type": "stream",
     "text": [
      "                   all          1          1    0.00333          1     0.0262    0.00711\n"
     ]
    },
    {
     "name": "stderr",
     "output_type": "stream",
     "text": [
      "\n"
     ]
    },
    {
     "name": "stdout",
     "output_type": "stream",
     "text": [
      "\n",
      "      Epoch    GPU_mem   box_loss   cls_loss   dfl_loss  Instances       Size\n"
     ]
    },
    {
     "name": "stderr",
     "output_type": "stream",
     "text": [
      "       5/60         0G      1.161      2.811       1.21         18        640: 100%|██████████| 1/1 [00:08<00:00,  8.20\n",
      "                 Class     Images  Instances      Box(P          R      mAP50  mAP50-95): 100%|██████████| 1/1 [00:00<0"
     ]
    },
    {
     "name": "stdout",
     "output_type": "stream",
     "text": [
      "                   all          1          1    0.00333          1     0.0553     0.0276\n"
     ]
    },
    {
     "name": "stderr",
     "output_type": "stream",
     "text": [
      "\n"
     ]
    },
    {
     "name": "stdout",
     "output_type": "stream",
     "text": [
      "\n",
      "      Epoch    GPU_mem   box_loss   cls_loss   dfl_loss  Instances       Size\n"
     ]
    },
    {
     "name": "stderr",
     "output_type": "stream",
     "text": [
      "       6/60         0G     0.9225      2.766      1.311         12        640: 100%|██████████| 1/1 [00:08<00:00,  8.22\n",
      "                 Class     Images  Instances      Box(P          R      mAP50  mAP50-95): 100%|██████████| 1/1 [00:00<0"
     ]
    },
    {
     "name": "stdout",
     "output_type": "stream",
     "text": [
      "                   all          1          1    0.00333          1      0.111     0.0884\n"
     ]
    },
    {
     "name": "stderr",
     "output_type": "stream",
     "text": [
      "\n"
     ]
    },
    {
     "name": "stdout",
     "output_type": "stream",
     "text": [
      "\n",
      "      Epoch    GPU_mem   box_loss   cls_loss   dfl_loss  Instances       Size\n"
     ]
    },
    {
     "name": "stderr",
     "output_type": "stream",
     "text": [
      "       7/60         0G     0.9316      2.451      1.188         17        640: 100%|██████████| 1/1 [00:08<00:00,  8.12\n",
      "                 Class     Images  Instances      Box(P          R      mAP50  mAP50-95): 100%|██████████| 1/1 [00:00<0"
     ]
    },
    {
     "name": "stdout",
     "output_type": "stream",
     "text": [
      "                   all          1          1    0.00333          1      0.497      0.448\n"
     ]
    },
    {
     "name": "stderr",
     "output_type": "stream",
     "text": [
      "\n"
     ]
    },
    {
     "name": "stdout",
     "output_type": "stream",
     "text": [
      "\n",
      "      Epoch    GPU_mem   box_loss   cls_loss   dfl_loss  Instances       Size\n"
     ]
    },
    {
     "name": "stderr",
     "output_type": "stream",
     "text": [
      "       8/60         0G     0.7684      2.299       1.04         17        640: 100%|██████████| 1/1 [00:08<00:00,  8.31\n",
      "                 Class     Images  Instances      Box(P          R      mAP50  mAP50-95): 100%|██████████| 1/1 [00:00<0"
     ]
    },
    {
     "name": "stdout",
     "output_type": "stream",
     "text": [
      "                   all          1          1    0.00333          1      0.995      0.895\n"
     ]
    },
    {
     "name": "stderr",
     "output_type": "stream",
     "text": [
      "\n"
     ]
    },
    {
     "name": "stdout",
     "output_type": "stream",
     "text": [
      "\n",
      "      Epoch    GPU_mem   box_loss   cls_loss   dfl_loss  Instances       Size\n"
     ]
    },
    {
     "name": "stderr",
     "output_type": "stream",
     "text": [
      "       9/60         0G      0.871      2.095      1.274         12        640: 100%|██████████| 1/1 [00:08<00:00,  8.27\n",
      "                 Class     Images  Instances      Box(P          R      mAP50  mAP50-95): 100%|██████████| 1/1 [00:00<0"
     ]
    },
    {
     "name": "stdout",
     "output_type": "stream",
     "text": [
      "                   all          1          1    0.00333          1      0.995      0.895\n"
     ]
    },
    {
     "name": "stderr",
     "output_type": "stream",
     "text": [
      "\n"
     ]
    },
    {
     "name": "stdout",
     "output_type": "stream",
     "text": [
      "\n",
      "      Epoch    GPU_mem   box_loss   cls_loss   dfl_loss  Instances       Size\n"
     ]
    },
    {
     "name": "stderr",
     "output_type": "stream",
     "text": [
      "      10/60         0G     0.9564      1.939      1.288         12        640: 100%|██████████| 1/1 [00:08<00:00,  8.29\n",
      "                 Class     Images  Instances      Box(P          R      mAP50  mAP50-95): 100%|██████████| 1/1 [00:00<0"
     ]
    },
    {
     "name": "stdout",
     "output_type": "stream",
     "text": [
      "                   all          1          1    0.00333          1      0.995      0.895\n"
     ]
    },
    {
     "name": "stderr",
     "output_type": "stream",
     "text": [
      "\n"
     ]
    },
    {
     "name": "stdout",
     "output_type": "stream",
     "text": [
      "\n",
      "      Epoch    GPU_mem   box_loss   cls_loss   dfl_loss  Instances       Size\n"
     ]
    },
    {
     "name": "stderr",
     "output_type": "stream",
     "text": [
      "      11/60         0G     0.7738      1.675      1.066         18        640: 100%|██████████| 1/1 [00:08<00:00,  8.18\n",
      "                 Class     Images  Instances      Box(P          R      mAP50  mAP50-95): 100%|██████████| 1/1 [00:00<0"
     ]
    },
    {
     "name": "stdout",
     "output_type": "stream",
     "text": [
      "                   all          1          1    0.00333          1      0.995      0.796\n"
     ]
    },
    {
     "name": "stderr",
     "output_type": "stream",
     "text": [
      "\n"
     ]
    },
    {
     "name": "stdout",
     "output_type": "stream",
     "text": [
      "\n",
      "      Epoch    GPU_mem   box_loss   cls_loss   dfl_loss  Instances       Size\n"
     ]
    },
    {
     "name": "stderr",
     "output_type": "stream",
     "text": [
      "      12/60         0G     0.7152      1.604     0.9875         16        640: 100%|██████████| 1/1 [00:08<00:00,  8.31\n",
      "                 Class     Images  Instances      Box(P          R      mAP50  mAP50-95): 100%|██████████| 1/1 [00:00<0"
     ]
    },
    {
     "name": "stdout",
     "output_type": "stream",
     "text": [
      "                   all          1          1    0.00333          1      0.995      0.796\n"
     ]
    },
    {
     "name": "stderr",
     "output_type": "stream",
     "text": [
      "\n"
     ]
    },
    {
     "name": "stdout",
     "output_type": "stream",
     "text": [
      "\n",
      "      Epoch    GPU_mem   box_loss   cls_loss   dfl_loss  Instances       Size\n"
     ]
    },
    {
     "name": "stderr",
     "output_type": "stream",
     "text": [
      "      13/60         0G     0.5052      1.246      0.888         15        640: 100%|██████████| 1/1 [00:08<00:00,  8.24\n",
      "                 Class     Images  Instances      Box(P          R      mAP50  mAP50-95): 100%|██████████| 1/1 [00:00<0"
     ]
    },
    {
     "name": "stdout",
     "output_type": "stream",
     "text": [
      "                   all          1          1    0.00333          1      0.995      0.796\n"
     ]
    },
    {
     "name": "stderr",
     "output_type": "stream",
     "text": [
      "\n"
     ]
    },
    {
     "name": "stdout",
     "output_type": "stream",
     "text": [
      "\n",
      "      Epoch    GPU_mem   box_loss   cls_loss   dfl_loss  Instances       Size\n"
     ]
    },
    {
     "name": "stderr",
     "output_type": "stream",
     "text": [
      "      14/60         0G     0.4462      1.022     0.8978         18        640: 100%|██████████| 1/1 [00:08<00:00,  8.27\n",
      "                 Class     Images  Instances      Box(P          R      mAP50  mAP50-95): 100%|██████████| 1/1 [00:00<0"
     ]
    },
    {
     "name": "stdout",
     "output_type": "stream",
     "text": [
      "                   all          1          1    0.00333          1      0.995      0.697\n"
     ]
    },
    {
     "name": "stderr",
     "output_type": "stream",
     "text": [
      "\n"
     ]
    },
    {
     "name": "stdout",
     "output_type": "stream",
     "text": [
      "\n",
      "      Epoch    GPU_mem   box_loss   cls_loss   dfl_loss  Instances       Size\n"
     ]
    },
    {
     "name": "stderr",
     "output_type": "stream",
     "text": [
      "      15/60         0G     0.6595      1.337      1.039         17        640: 100%|██████████| 1/1 [00:08<00:00,  8.37\n",
      "                 Class     Images  Instances      Box(P          R      mAP50  mAP50-95): 100%|██████████| 1/1 [00:00<0"
     ]
    },
    {
     "name": "stdout",
     "output_type": "stream",
     "text": [
      "                   all          1          1     0.0139          1      0.995      0.697\n"
     ]
    },
    {
     "name": "stderr",
     "output_type": "stream",
     "text": [
      "\n"
     ]
    },
    {
     "name": "stdout",
     "output_type": "stream",
     "text": [
      "\n",
      "      Epoch    GPU_mem   box_loss   cls_loss   dfl_loss  Instances       Size\n"
     ]
    },
    {
     "name": "stderr",
     "output_type": "stream",
     "text": [
      "      16/60         0G     0.5508      1.072      0.889         20        640: 100%|██████████| 1/1 [00:08<00:00,  8.58\n",
      "                 Class     Images  Instances      Box(P          R      mAP50  mAP50-95): 100%|██████████| 1/1 [00:00<0"
     ]
    },
    {
     "name": "stdout",
     "output_type": "stream",
     "text": [
      "                   all          1          1       0.59          1      0.995      0.796\n"
     ]
    },
    {
     "name": "stderr",
     "output_type": "stream",
     "text": [
      "\n"
     ]
    },
    {
     "name": "stdout",
     "output_type": "stream",
     "text": [
      "\n",
      "      Epoch    GPU_mem   box_loss   cls_loss   dfl_loss  Instances       Size\n"
     ]
    },
    {
     "name": "stderr",
     "output_type": "stream",
     "text": [
      "      17/60         0G     0.5824      1.184     0.9969         15        640: 100%|██████████| 1/1 [00:08<00:00,  8.24\n",
      "                 Class     Images  Instances      Box(P          R      mAP50  mAP50-95): 100%|██████████| 1/1 [00:00<0"
     ]
    },
    {
     "name": "stdout",
     "output_type": "stream",
     "text": [
      "                   all          1          1      0.694          1      0.995      0.796\n"
     ]
    },
    {
     "name": "stderr",
     "output_type": "stream",
     "text": [
      "\n"
     ]
    },
    {
     "name": "stdout",
     "output_type": "stream",
     "text": [
      "\n",
      "      Epoch    GPU_mem   box_loss   cls_loss   dfl_loss  Instances       Size\n"
     ]
    },
    {
     "name": "stderr",
     "output_type": "stream",
     "text": [
      "      18/60         0G      0.682      1.196      1.005         15        640: 100%|██████████| 1/1 [00:07<00:00,  7.88\n",
      "                 Class     Images  Instances      Box(P          R      mAP50  mAP50-95): 100%|██████████| 1/1 [00:00<0"
     ]
    },
    {
     "name": "stdout",
     "output_type": "stream",
     "text": [
      "                   all          1          1      0.694          1      0.995      0.796\n"
     ]
    },
    {
     "name": "stderr",
     "output_type": "stream",
     "text": [
      "\n"
     ]
    },
    {
     "name": "stdout",
     "output_type": "stream",
     "text": [
      "\n",
      "      Epoch    GPU_mem   box_loss   cls_loss   dfl_loss  Instances       Size\n"
     ]
    },
    {
     "name": "stderr",
     "output_type": "stream",
     "text": [
      "      19/60         0G     0.5715      1.224     0.9904         13        640: 100%|██████████| 1/1 [00:08<00:00,  8.37\n",
      "                 Class     Images  Instances      Box(P          R      mAP50  mAP50-95): 100%|██████████| 1/1 [00:00<0"
     ]
    },
    {
     "name": "stdout",
     "output_type": "stream",
     "text": [
      "                   all          1          1      0.673          1      0.995      0.796\n"
     ]
    },
    {
     "name": "stderr",
     "output_type": "stream",
     "text": [
      "\n"
     ]
    },
    {
     "name": "stdout",
     "output_type": "stream",
     "text": [
      "\n",
      "      Epoch    GPU_mem   box_loss   cls_loss   dfl_loss  Instances       Size\n"
     ]
    },
    {
     "name": "stderr",
     "output_type": "stream",
     "text": [
      "      20/60         0G     0.5026     0.9607      0.938         18        640: 100%|██████████| 1/1 [00:08<00:00,  8.09\n",
      "                 Class     Images  Instances      Box(P          R      mAP50  mAP50-95): 100%|██████████| 1/1 [00:00<0"
     ]
    },
    {
     "name": "stdout",
     "output_type": "stream",
     "text": [
      "                   all          1          1      0.673          1      0.995      0.796\n"
     ]
    },
    {
     "name": "stderr",
     "output_type": "stream",
     "text": [
      "\n"
     ]
    },
    {
     "name": "stdout",
     "output_type": "stream",
     "text": [
      "\n",
      "      Epoch    GPU_mem   box_loss   cls_loss   dfl_loss  Instances       Size\n"
     ]
    },
    {
     "name": "stderr",
     "output_type": "stream",
     "text": [
      "      21/60         0G     0.6276      1.071     0.8793         20        640: 100%|██████████| 1/1 [00:08<00:00,  8.12\n",
      "                 Class     Images  Instances      Box(P          R      mAP50  mAP50-95): 100%|██████████| 1/1 [00:00<0"
     ]
    },
    {
     "name": "stdout",
     "output_type": "stream",
     "text": [
      "                   all          1          1      0.564          1      0.995      0.796\n"
     ]
    },
    {
     "name": "stderr",
     "output_type": "stream",
     "text": [
      "\n"
     ]
    },
    {
     "name": "stdout",
     "output_type": "stream",
     "text": [
      "\n",
      "      Epoch    GPU_mem   box_loss   cls_loss   dfl_loss  Instances       Size\n"
     ]
    },
    {
     "name": "stderr",
     "output_type": "stream",
     "text": [
      "      22/60         0G     0.6219      1.257     0.9699         16        640: 100%|██████████| 1/1 [00:08<00:00,  8.28\n",
      "                 Class     Images  Instances      Box(P          R      mAP50  mAP50-95): 100%|██████████| 1/1 [00:00<0"
     ]
    },
    {
     "name": "stdout",
     "output_type": "stream",
     "text": [
      "                   all          1          1      0.564          1      0.995      0.796\n"
     ]
    },
    {
     "name": "stderr",
     "output_type": "stream",
     "text": [
      "\n"
     ]
    },
    {
     "name": "stdout",
     "output_type": "stream",
     "text": [
      "\n",
      "      Epoch    GPU_mem   box_loss   cls_loss   dfl_loss  Instances       Size\n"
     ]
    },
    {
     "name": "stderr",
     "output_type": "stream",
     "text": [
      "      23/60         0G     0.4795      1.011      0.893         15        640: 100%|██████████| 1/1 [00:08<00:00,  8.50\n",
      "                 Class     Images  Instances      Box(P          R      mAP50  mAP50-95): 100%|██████████| 1/1 [00:00<0"
     ]
    },
    {
     "name": "stdout",
     "output_type": "stream",
     "text": [
      "                   all          1          1     0.0282          1      0.995      0.796\n"
     ]
    },
    {
     "name": "stderr",
     "output_type": "stream",
     "text": [
      "\n"
     ]
    },
    {
     "name": "stdout",
     "output_type": "stream",
     "text": [
      "\n",
      "      Epoch    GPU_mem   box_loss   cls_loss   dfl_loss  Instances       Size\n"
     ]
    },
    {
     "name": "stderr",
     "output_type": "stream",
     "text": [
      "      24/60         0G     0.6554      1.128      1.004         20        640: 100%|██████████| 1/1 [00:08<00:00,  8.15\n",
      "                 Class     Images  Instances      Box(P          R      mAP50  mAP50-95): 100%|██████████| 1/1 [00:00<0"
     ]
    },
    {
     "name": "stdout",
     "output_type": "stream",
     "text": [
      "                   all          1          1     0.0282          1      0.995      0.796\n"
     ]
    },
    {
     "name": "stderr",
     "output_type": "stream",
     "text": [
      "\n"
     ]
    },
    {
     "name": "stdout",
     "output_type": "stream",
     "text": [
      "\n",
      "      Epoch    GPU_mem   box_loss   cls_loss   dfl_loss  Instances       Size\n"
     ]
    },
    {
     "name": "stderr",
     "output_type": "stream",
     "text": [
      "      25/60         0G     0.6039      1.046      0.917         21        640: 100%|██████████| 1/1 [00:09<00:00,  9.25\n",
      "                 Class     Images  Instances      Box(P          R      mAP50  mAP50-95): 100%|██████████| 1/1 [00:00<0"
     ]
    },
    {
     "name": "stdout",
     "output_type": "stream",
     "text": [
      "                   all          1          1     0.0353          1      0.995      0.796\n"
     ]
    },
    {
     "name": "stderr",
     "output_type": "stream",
     "text": [
      "\n"
     ]
    },
    {
     "name": "stdout",
     "output_type": "stream",
     "text": [
      "\n",
      "      Epoch    GPU_mem   box_loss   cls_loss   dfl_loss  Instances       Size\n"
     ]
    },
    {
     "name": "stderr",
     "output_type": "stream",
     "text": [
      "      26/60         0G     0.6318      1.252     0.9433         14        640: 100%|██████████| 1/1 [00:08<00:00,  8.86\n",
      "                 Class     Images  Instances      Box(P          R      mAP50  mAP50-95): 100%|██████████| 1/1 [00:00<0"
     ]
    },
    {
     "name": "stdout",
     "output_type": "stream",
     "text": [
      "                   all          1          1     0.0353          1      0.995      0.796\n"
     ]
    },
    {
     "name": "stderr",
     "output_type": "stream",
     "text": [
      "\n"
     ]
    },
    {
     "name": "stdout",
     "output_type": "stream",
     "text": [
      "\n",
      "      Epoch    GPU_mem   box_loss   cls_loss   dfl_loss  Instances       Size\n"
     ]
    },
    {
     "name": "stderr",
     "output_type": "stream",
     "text": [
      "      27/60         0G     0.5859     0.9448     0.8904         19        640: 100%|██████████| 1/1 [00:08<00:00,  8.80\n",
      "                 Class     Images  Instances      Box(P          R      mAP50  mAP50-95): 100%|██████████| 1/1 [00:00<0"
     ]
    },
    {
     "name": "stdout",
     "output_type": "stream",
     "text": [
      "                   all          1          1    0.00333          1      0.995      0.895\n"
     ]
    },
    {
     "name": "stderr",
     "output_type": "stream",
     "text": [
      "\n"
     ]
    },
    {
     "name": "stdout",
     "output_type": "stream",
     "text": [
      "\n",
      "      Epoch    GPU_mem   box_loss   cls_loss   dfl_loss  Instances       Size\n"
     ]
    },
    {
     "name": "stderr",
     "output_type": "stream",
     "text": [
      "      28/60         0G     0.5505      1.008     0.8703         17        640: 100%|██████████| 1/1 [00:08<00:00,  8.09\n",
      "                 Class     Images  Instances      Box(P          R      mAP50  mAP50-95): 100%|██████████| 1/1 [00:00<0"
     ]
    },
    {
     "name": "stdout",
     "output_type": "stream",
     "text": [
      "                   all          1          1    0.00333          1      0.995      0.895\n"
     ]
    },
    {
     "name": "stderr",
     "output_type": "stream",
     "text": [
      "\n"
     ]
    },
    {
     "name": "stdout",
     "output_type": "stream",
     "text": [
      "\n",
      "      Epoch    GPU_mem   box_loss   cls_loss   dfl_loss  Instances       Size\n"
     ]
    },
    {
     "name": "stderr",
     "output_type": "stream",
     "text": [
      "      29/60         0G     0.4686      1.031     0.8405         16        640: 100%|██████████| 1/1 [00:08<00:00,  8.70\n",
      "                 Class     Images  Instances      Box(P          R      mAP50  mAP50-95): 100%|██████████| 1/1 [00:00<0"
     ]
    },
    {
     "name": "stdout",
     "output_type": "stream",
     "text": [
      "                   all          1          1    0.00333          1      0.995      0.895\n"
     ]
    },
    {
     "name": "stderr",
     "output_type": "stream",
     "text": [
      "\n"
     ]
    },
    {
     "name": "stdout",
     "output_type": "stream",
     "text": [
      "\n",
      "      Epoch    GPU_mem   box_loss   cls_loss   dfl_loss  Instances       Size\n"
     ]
    },
    {
     "name": "stderr",
     "output_type": "stream",
     "text": [
      "      30/60         0G     0.6906      1.054      1.136         20        640: 100%|██████████| 1/1 [00:08<00:00,  8.15\n",
      "                 Class     Images  Instances      Box(P          R      mAP50  mAP50-95): 100%|██████████| 1/1 [00:00<0"
     ]
    },
    {
     "name": "stdout",
     "output_type": "stream",
     "text": [
      "                   all          1          1    0.00333          1      0.995      0.895\n"
     ]
    },
    {
     "name": "stderr",
     "output_type": "stream",
     "text": [
      "\n"
     ]
    },
    {
     "name": "stdout",
     "output_type": "stream",
     "text": [
      "\n",
      "      Epoch    GPU_mem   box_loss   cls_loss   dfl_loss  Instances       Size\n"
     ]
    },
    {
     "name": "stderr",
     "output_type": "stream",
     "text": [
      "      31/60         0G     0.5398      1.119      0.992         16        640: 100%|██████████| 1/1 [00:08<00:00,  8.47\n",
      "                 Class     Images  Instances      Box(P          R      mAP50  mAP50-95): 100%|██████████| 1/1 [00:00<0"
     ]
    },
    {
     "name": "stdout",
     "output_type": "stream",
     "text": [
      "                   all          1          1    0.00333          1      0.995      0.995\n"
     ]
    },
    {
     "name": "stderr",
     "output_type": "stream",
     "text": [
      "\n"
     ]
    },
    {
     "name": "stdout",
     "output_type": "stream",
     "text": [
      "\n",
      "      Epoch    GPU_mem   box_loss   cls_loss   dfl_loss  Instances       Size\n"
     ]
    },
    {
     "name": "stderr",
     "output_type": "stream",
     "text": [
      "      32/60         0G     0.5372       1.15     0.9538         15        640: 100%|██████████| 1/1 [00:08<00:00,  8.93\n",
      "                 Class     Images  Instances      Box(P          R      mAP50  mAP50-95): 100%|██████████| 1/1 [00:00<0"
     ]
    },
    {
     "name": "stdout",
     "output_type": "stream",
     "text": [
      "                   all          1          1    0.00333          1      0.995      0.995\n"
     ]
    },
    {
     "name": "stderr",
     "output_type": "stream",
     "text": [
      "\n"
     ]
    },
    {
     "name": "stdout",
     "output_type": "stream",
     "text": [
      "\n",
      "      Epoch    GPU_mem   box_loss   cls_loss   dfl_loss  Instances       Size\n"
     ]
    },
    {
     "name": "stderr",
     "output_type": "stream",
     "text": [
      "      33/60         0G     0.4266      1.083     0.8262         12        640: 100%|██████████| 1/1 [00:08<00:00,  8.55\n",
      "                 Class     Images  Instances      Box(P          R      mAP50  mAP50-95): 100%|██████████| 1/1 [00:00<0"
     ]
    },
    {
     "name": "stdout",
     "output_type": "stream",
     "text": [
      "                   all          1          1    0.00333          1      0.995      0.995\n"
     ]
    },
    {
     "name": "stderr",
     "output_type": "stream",
     "text": [
      "\n"
     ]
    },
    {
     "name": "stdout",
     "output_type": "stream",
     "text": [
      "\n",
      "      Epoch    GPU_mem   box_loss   cls_loss   dfl_loss  Instances       Size\n"
     ]
    },
    {
     "name": "stderr",
     "output_type": "stream",
     "text": [
      "      34/60         0G     0.5986     0.9579     0.9505         19        640: 100%|██████████| 1/1 [00:08<00:00,  8.17\n",
      "                 Class     Images  Instances      Box(P          R      mAP50  mAP50-95): 100%|██████████| 1/1 [00:00<0"
     ]
    },
    {
     "name": "stdout",
     "output_type": "stream",
     "text": [
      "                   all          1          1    0.00333          1      0.995      0.995\n"
     ]
    },
    {
     "name": "stderr",
     "output_type": "stream",
     "text": [
      "\n"
     ]
    },
    {
     "name": "stdout",
     "output_type": "stream",
     "text": [
      "\n",
      "      Epoch    GPU_mem   box_loss   cls_loss   dfl_loss  Instances       Size\n"
     ]
    },
    {
     "name": "stderr",
     "output_type": "stream",
     "text": [
      "      35/60         0G     0.5923     0.9715     0.9046         15        640: 100%|██████████| 1/1 [00:08<00:00,  8.13\n",
      "                 Class     Images  Instances      Box(P          R      mAP50  mAP50-95): 100%|██████████| 1/1 [00:00<0"
     ]
    },
    {
     "name": "stdout",
     "output_type": "stream",
     "text": [
      "                   all          1          1    0.00333          1      0.995      0.995\n"
     ]
    },
    {
     "name": "stderr",
     "output_type": "stream",
     "text": [
      "\n"
     ]
    },
    {
     "name": "stdout",
     "output_type": "stream",
     "text": [
      "\n",
      "      Epoch    GPU_mem   box_loss   cls_loss   dfl_loss  Instances       Size\n"
     ]
    },
    {
     "name": "stderr",
     "output_type": "stream",
     "text": [
      "      36/60         0G     0.4983      1.124     0.9667         15        640: 100%|██████████| 1/1 [00:08<00:00,  8.13\n",
      "                 Class     Images  Instances      Box(P          R      mAP50  mAP50-95): 100%|██████████| 1/1 [00:00<0"
     ]
    },
    {
     "name": "stdout",
     "output_type": "stream",
     "text": [
      "                   all          1          1    0.00333          1      0.995      0.995\n"
     ]
    },
    {
     "name": "stderr",
     "output_type": "stream",
     "text": [
      "\n"
     ]
    },
    {
     "name": "stdout",
     "output_type": "stream",
     "text": [
      "\n",
      "      Epoch    GPU_mem   box_loss   cls_loss   dfl_loss  Instances       Size\n"
     ]
    },
    {
     "name": "stderr",
     "output_type": "stream",
     "text": [
      "      37/60         0G     0.6186      1.049     0.9868         16        640: 100%|██████████| 1/1 [00:08<00:00,  8.53\n",
      "                 Class     Images  Instances      Box(P          R      mAP50  mAP50-95): 100%|██████████| 1/1 [00:00<0"
     ]
    },
    {
     "name": "stdout",
     "output_type": "stream",
     "text": [
      "                   all          1          1    0.00333          1      0.995      0.995\n"
     ]
    },
    {
     "name": "stderr",
     "output_type": "stream",
     "text": [
      "\n"
     ]
    },
    {
     "name": "stdout",
     "output_type": "stream",
     "text": [
      "\n",
      "      Epoch    GPU_mem   box_loss   cls_loss   dfl_loss  Instances       Size\n"
     ]
    },
    {
     "name": "stderr",
     "output_type": "stream",
     "text": [
      "      38/60         0G     0.5002     0.9977     0.9088         16        640: 100%|██████████| 1/1 [00:08<00:00,  8.20\n",
      "                 Class     Images  Instances      Box(P          R      mAP50  mAP50-95): 100%|██████████| 1/1 [00:00<0"
     ]
    },
    {
     "name": "stdout",
     "output_type": "stream",
     "text": [
      "                   all          1          1    0.00333          1      0.995      0.995\n"
     ]
    },
    {
     "name": "stderr",
     "output_type": "stream",
     "text": [
      "\n"
     ]
    },
    {
     "name": "stdout",
     "output_type": "stream",
     "text": [
      "\n",
      "      Epoch    GPU_mem   box_loss   cls_loss   dfl_loss  Instances       Size\n"
     ]
    },
    {
     "name": "stderr",
     "output_type": "stream",
     "text": [
      "      39/60         0G      0.395      1.316     0.8963         10        640: 100%|██████████| 1/1 [00:08<00:00,  8.70\n",
      "                 Class     Images  Instances      Box(P          R      mAP50  mAP50-95): 100%|██████████| 1/1 [00:00<0"
     ]
    },
    {
     "name": "stdout",
     "output_type": "stream",
     "text": [
      "                   all          1          1    0.00333          1      0.995      0.895\n"
     ]
    },
    {
     "name": "stderr",
     "output_type": "stream",
     "text": [
      "\n"
     ]
    },
    {
     "name": "stdout",
     "output_type": "stream",
     "text": [
      "\n",
      "      Epoch    GPU_mem   box_loss   cls_loss   dfl_loss  Instances       Size\n"
     ]
    },
    {
     "name": "stderr",
     "output_type": "stream",
     "text": [
      "      40/60         0G     0.5479      1.044     0.8939         17        640: 100%|██████████| 1/1 [00:08<00:00,  8.13\n",
      "                 Class     Images  Instances      Box(P          R      mAP50  mAP50-95): 100%|██████████| 1/1 [00:00<0"
     ]
    },
    {
     "name": "stdout",
     "output_type": "stream",
     "text": [
      "                   all          1          1    0.00333          1      0.995      0.895\n"
     ]
    },
    {
     "name": "stderr",
     "output_type": "stream",
     "text": [
      "\n"
     ]
    },
    {
     "name": "stdout",
     "output_type": "stream",
     "text": [
      "\n",
      "      Epoch    GPU_mem   box_loss   cls_loss   dfl_loss  Instances       Size\n"
     ]
    },
    {
     "name": "stderr",
     "output_type": "stream",
     "text": [
      "      41/60         0G     0.4845      1.031     0.9207         13        640: 100%|██████████| 1/1 [00:08<00:00,  8.32\n",
      "                 Class     Images  Instances      Box(P          R      mAP50  mAP50-95): 100%|██████████| 1/1 [00:00<0"
     ]
    },
    {
     "name": "stdout",
     "output_type": "stream",
     "text": [
      "                   all          1          1    0.00333          1      0.995      0.895\n"
     ]
    },
    {
     "name": "stderr",
     "output_type": "stream",
     "text": [
      "\n"
     ]
    },
    {
     "name": "stdout",
     "output_type": "stream",
     "text": [
      "\n",
      "      Epoch    GPU_mem   box_loss   cls_loss   dfl_loss  Instances       Size\n"
     ]
    },
    {
     "name": "stderr",
     "output_type": "stream",
     "text": [
      "      42/60         0G     0.5374      1.014     0.9149         13        640: 100%|██████████| 1/1 [00:08<00:00,  8.23\n",
      "                 Class     Images  Instances      Box(P          R      mAP50  mAP50-95): 100%|██████████| 1/1 [00:00<0"
     ]
    },
    {
     "name": "stdout",
     "output_type": "stream",
     "text": [
      "                   all          1          1    0.00333          1      0.995      0.895\n"
     ]
    },
    {
     "name": "stderr",
     "output_type": "stream",
     "text": [
      "\n"
     ]
    },
    {
     "name": "stdout",
     "output_type": "stream",
     "text": [
      "\n",
      "      Epoch    GPU_mem   box_loss   cls_loss   dfl_loss  Instances       Size\n"
     ]
    },
    {
     "name": "stderr",
     "output_type": "stream",
     "text": [
      "      43/60         0G     0.5698      1.009     0.8983         20        640: 100%|██████████| 1/1 [00:08<00:00,  8.36\n",
      "                 Class     Images  Instances      Box(P          R      mAP50  mAP50-95): 100%|██████████| 1/1 [00:00<0"
     ]
    },
    {
     "name": "stdout",
     "output_type": "stream",
     "text": [
      "                   all          1          1    0.00333          1      0.995      0.895\n"
     ]
    },
    {
     "name": "stderr",
     "output_type": "stream",
     "text": [
      "\n"
     ]
    },
    {
     "name": "stdout",
     "output_type": "stream",
     "text": [
      "\n",
      "      Epoch    GPU_mem   box_loss   cls_loss   dfl_loss  Instances       Size\n"
     ]
    },
    {
     "name": "stderr",
     "output_type": "stream",
     "text": [
      "      44/60         0G     0.5015     0.9867     0.8821         18        640: 100%|██████████| 1/1 [00:08<00:00,  8.16\n",
      "                 Class     Images  Instances      Box(P          R      mAP50  mAP50-95): 100%|██████████| 1/1 [00:00<0"
     ]
    },
    {
     "name": "stdout",
     "output_type": "stream",
     "text": [
      "                   all          1          1    0.00333          1      0.995      0.895\n"
     ]
    },
    {
     "name": "stderr",
     "output_type": "stream",
     "text": [
      "\n"
     ]
    },
    {
     "name": "stdout",
     "output_type": "stream",
     "text": [
      "\n",
      "      Epoch    GPU_mem   box_loss   cls_loss   dfl_loss  Instances       Size\n"
     ]
    },
    {
     "name": "stderr",
     "output_type": "stream",
     "text": [
      "      45/60         0G      0.596      1.147     0.9077         15        640: 100%|██████████| 1/1 [00:08<00:00,  8.37\n",
      "                 Class     Images  Instances      Box(P          R      mAP50  mAP50-95): 100%|██████████| 1/1 [00:00<0"
     ]
    },
    {
     "name": "stdout",
     "output_type": "stream",
     "text": [
      "                   all          1          1    0.00333          1      0.995      0.895\n"
     ]
    },
    {
     "name": "stderr",
     "output_type": "stream",
     "text": [
      "\n"
     ]
    },
    {
     "name": "stdout",
     "output_type": "stream",
     "text": [
      "\n",
      "      Epoch    GPU_mem   box_loss   cls_loss   dfl_loss  Instances       Size\n"
     ]
    },
    {
     "name": "stderr",
     "output_type": "stream",
     "text": [
      "      46/60         0G     0.6541      1.255      1.004         18        640: 100%|██████████| 1/1 [00:08<00:00,  8.21\n",
      "                 Class     Images  Instances      Box(P          R      mAP50  mAP50-95): 100%|██████████| 1/1 [00:00<0"
     ]
    },
    {
     "name": "stdout",
     "output_type": "stream",
     "text": [
      "                   all          1          1    0.00333          1      0.995      0.895\n"
     ]
    },
    {
     "name": "stderr",
     "output_type": "stream",
     "text": [
      "\n"
     ]
    },
    {
     "name": "stdout",
     "output_type": "stream",
     "text": [
      "\n",
      "      Epoch    GPU_mem   box_loss   cls_loss   dfl_loss  Instances       Size\n"
     ]
    },
    {
     "name": "stderr",
     "output_type": "stream",
     "text": [
      "      47/60         0G     0.5233     0.9147     0.9759         19        640: 100%|██████████| 1/1 [00:08<00:00,  8.36\n",
      "                 Class     Images  Instances      Box(P          R      mAP50  mAP50-95): 100%|██████████| 1/1 [00:00<0"
     ]
    },
    {
     "name": "stdout",
     "output_type": "stream",
     "text": [
      "                   all          1          1    0.00333          1      0.995      0.796\n"
     ]
    },
    {
     "name": "stderr",
     "output_type": "stream",
     "text": [
      "\n"
     ]
    },
    {
     "name": "stdout",
     "output_type": "stream",
     "text": [
      "\n",
      "      Epoch    GPU_mem   box_loss   cls_loss   dfl_loss  Instances       Size\n"
     ]
    },
    {
     "name": "stderr",
     "output_type": "stream",
     "text": [
      "      48/60         0G     0.5562      1.104     0.9291         13        640: 100%|██████████| 1/1 [00:08<00:00,  8.00\n",
      "                 Class     Images  Instances      Box(P          R      mAP50  mAP50-95): 100%|██████████| 1/1 [00:00<0"
     ]
    },
    {
     "name": "stdout",
     "output_type": "stream",
     "text": [
      "                   all          1          1    0.00333          1      0.995      0.796\n"
     ]
    },
    {
     "name": "stderr",
     "output_type": "stream",
     "text": [
      "\n"
     ]
    },
    {
     "name": "stdout",
     "output_type": "stream",
     "text": [
      "\n",
      "      Epoch    GPU_mem   box_loss   cls_loss   dfl_loss  Instances       Size\n"
     ]
    },
    {
     "name": "stderr",
     "output_type": "stream",
     "text": [
      "      49/60         0G      0.563      1.063     0.9388         18        640: 100%|██████████| 1/1 [00:08<00:00,  8.19\n",
      "                 Class     Images  Instances      Box(P          R      mAP50  mAP50-95): 100%|██████████| 1/1 [00:00<0"
     ]
    },
    {
     "name": "stdout",
     "output_type": "stream",
     "text": [
      "                   all          1          1    0.00333          1      0.995      0.796\n"
     ]
    },
    {
     "name": "stderr",
     "output_type": "stream",
     "text": [
      "\n"
     ]
    },
    {
     "name": "stdout",
     "output_type": "stream",
     "text": [
      "\n",
      "      Epoch    GPU_mem   box_loss   cls_loss   dfl_loss  Instances       Size\n"
     ]
    },
    {
     "name": "stderr",
     "output_type": "stream",
     "text": [
      "      50/60         0G     0.5136      0.971     0.8895         17        640: 100%|██████████| 1/1 [00:08<00:00,  8.05\n",
      "                 Class     Images  Instances      Box(P          R      mAP50  mAP50-95): 100%|██████████| 1/1 [00:00<0"
     ]
    },
    {
     "name": "stdout",
     "output_type": "stream",
     "text": [
      "                   all          1          1    0.00333          1      0.995      0.796\n"
     ]
    },
    {
     "name": "stderr",
     "output_type": "stream",
     "text": [
      "\n"
     ]
    },
    {
     "name": "stdout",
     "output_type": "stream",
     "text": [
      "Closing dataloader mosaic\n",
      "\n",
      "      Epoch    GPU_mem   box_loss   cls_loss   dfl_loss  Instances       Size\n"
     ]
    },
    {
     "name": "stderr",
     "output_type": "stream",
     "text": [
      "      51/60         0G     0.4523       1.35     0.9215          7        640: 100%|██████████| 1/1 [00:08<00:00,  8.56\n",
      "                 Class     Images  Instances      Box(P          R      mAP50  mAP50-95): 100%|██████████| 1/1 [00:00<0"
     ]
    },
    {
     "name": "stdout",
     "output_type": "stream",
     "text": [
      "                   all          1          1    0.00333          1      0.995      0.796\n"
     ]
    },
    {
     "name": "stderr",
     "output_type": "stream",
     "text": [
      "\n"
     ]
    },
    {
     "name": "stdout",
     "output_type": "stream",
     "text": [
      "\n",
      "      Epoch    GPU_mem   box_loss   cls_loss   dfl_loss  Instances       Size\n"
     ]
    },
    {
     "name": "stderr",
     "output_type": "stream",
     "text": [
      "      52/60         0G     0.4187      1.235     0.7587          7        640: 100%|██████████| 1/1 [00:08<00:00,  8.06\n",
      "                 Class     Images  Instances      Box(P          R      mAP50  mAP50-95): 100%|██████████| 1/1 [00:00<0"
     ]
    },
    {
     "name": "stdout",
     "output_type": "stream",
     "text": [
      "                   all          1          1    0.00333          1      0.995      0.796\n"
     ]
    },
    {
     "name": "stderr",
     "output_type": "stream",
     "text": [
      "\n"
     ]
    },
    {
     "name": "stdout",
     "output_type": "stream",
     "text": [
      "\n",
      "      Epoch    GPU_mem   box_loss   cls_loss   dfl_loss  Instances       Size\n"
     ]
    },
    {
     "name": "stderr",
     "output_type": "stream",
     "text": [
      "      53/60         0G     0.4859       1.49     0.8568          7        640: 100%|██████████| 1/1 [00:08<00:00,  8.18\n",
      "                 Class     Images  Instances      Box(P          R      mAP50  mAP50-95): 100%|██████████| 1/1 [00:00<0"
     ]
    },
    {
     "name": "stdout",
     "output_type": "stream",
     "text": [
      "                   all          1          1    0.00333          1      0.995      0.796\n"
     ]
    },
    {
     "name": "stderr",
     "output_type": "stream",
     "text": [
      "\n"
     ]
    },
    {
     "name": "stdout",
     "output_type": "stream",
     "text": [
      "\n",
      "      Epoch    GPU_mem   box_loss   cls_loss   dfl_loss  Instances       Size\n"
     ]
    },
    {
     "name": "stderr",
     "output_type": "stream",
     "text": [
      "      54/60         0G      0.422      1.569     0.8612          7        640: 100%|██████████| 1/1 [00:08<00:00,  8.37\n",
      "                 Class     Images  Instances      Box(P          R      mAP50  mAP50-95): 100%|██████████| 1/1 [00:00<0"
     ]
    },
    {
     "name": "stdout",
     "output_type": "stream",
     "text": [
      "                   all          1          1    0.00333          1      0.995      0.895\n"
     ]
    },
    {
     "name": "stderr",
     "output_type": "stream",
     "text": [
      "\n"
     ]
    },
    {
     "name": "stdout",
     "output_type": "stream",
     "text": [
      "\n",
      "      Epoch    GPU_mem   box_loss   cls_loss   dfl_loss  Instances       Size\n"
     ]
    },
    {
     "name": "stderr",
     "output_type": "stream",
     "text": [
      "      55/60         0G     0.5443      1.411     0.9895          7        640: 100%|██████████| 1/1 [00:08<00:00,  8.08\n",
      "                 Class     Images  Instances      Box(P          R      mAP50  mAP50-95): 100%|██████████| 1/1 [00:00<0"
     ]
    },
    {
     "name": "stdout",
     "output_type": "stream",
     "text": [
      "                   all          1          1    0.00333          1      0.995      0.895\n"
     ]
    },
    {
     "name": "stderr",
     "output_type": "stream",
     "text": [
      "\n"
     ]
    },
    {
     "name": "stdout",
     "output_type": "stream",
     "text": [
      "\n",
      "      Epoch    GPU_mem   box_loss   cls_loss   dfl_loss  Instances       Size\n"
     ]
    },
    {
     "name": "stderr",
     "output_type": "stream",
     "text": [
      "      56/60         0G     0.5454      1.542     0.9619          7        640: 100%|██████████| 1/1 [00:08<00:00,  8.10\n",
      "                 Class     Images  Instances      Box(P          R      mAP50  mAP50-95): 100%|██████████| 1/1 [00:00<0"
     ]
    },
    {
     "name": "stdout",
     "output_type": "stream",
     "text": [
      "                   all          1          1    0.00333          1      0.995      0.895\n"
     ]
    },
    {
     "name": "stderr",
     "output_type": "stream",
     "text": [
      "\n"
     ]
    },
    {
     "name": "stdout",
     "output_type": "stream",
     "text": [
      "\n",
      "      Epoch    GPU_mem   box_loss   cls_loss   dfl_loss  Instances       Size\n"
     ]
    },
    {
     "name": "stderr",
     "output_type": "stream",
     "text": [
      "      57/60         0G     0.4416      1.225     0.8432          7        640: 100%|██████████| 1/1 [00:08<00:00,  8.37\n",
      "                 Class     Images  Instances      Box(P          R      mAP50  mAP50-95): 100%|██████████| 1/1 [00:00<0"
     ]
    },
    {
     "name": "stdout",
     "output_type": "stream",
     "text": [
      "                   all          1          1    0.00333          1      0.995      0.895\n"
     ]
    },
    {
     "name": "stderr",
     "output_type": "stream",
     "text": [
      "\n"
     ]
    },
    {
     "name": "stdout",
     "output_type": "stream",
     "text": [
      "\n",
      "      Epoch    GPU_mem   box_loss   cls_loss   dfl_loss  Instances       Size\n"
     ]
    },
    {
     "name": "stderr",
     "output_type": "stream",
     "text": [
      "      58/60         0G     0.4767      1.257     0.9134          7        640: 100%|██████████| 1/1 [00:08<00:00,  8.12\n",
      "                 Class     Images  Instances      Box(P          R      mAP50  mAP50-95): 100%|██████████| 1/1 [00:00<0"
     ]
    },
    {
     "name": "stdout",
     "output_type": "stream",
     "text": [
      "                   all          1          1    0.00333          1      0.995      0.895\n"
     ]
    },
    {
     "name": "stderr",
     "output_type": "stream",
     "text": [
      "\n"
     ]
    },
    {
     "name": "stdout",
     "output_type": "stream",
     "text": [
      "\n",
      "      Epoch    GPU_mem   box_loss   cls_loss   dfl_loss  Instances       Size\n"
     ]
    },
    {
     "name": "stderr",
     "output_type": "stream",
     "text": [
      "      59/60         0G     0.4588      1.353     0.8619          7        640: 100%|██████████| 1/1 [00:08<00:00,  8.24\n",
      "                 Class     Images  Instances      Box(P          R      mAP50  mAP50-95): 100%|██████████| 1/1 [00:00<0"
     ]
    },
    {
     "name": "stdout",
     "output_type": "stream",
     "text": [
      "                   all          1          1    0.00333          1      0.995      0.895\n"
     ]
    },
    {
     "name": "stderr",
     "output_type": "stream",
     "text": [
      "\n"
     ]
    },
    {
     "name": "stdout",
     "output_type": "stream",
     "text": [
      "\n",
      "      Epoch    GPU_mem   box_loss   cls_loss   dfl_loss  Instances       Size\n"
     ]
    },
    {
     "name": "stderr",
     "output_type": "stream",
     "text": [
      "      60/60         0G     0.5152      1.398     0.8697          7        640: 100%|██████████| 1/1 [00:08<00:00,  8.29\n",
      "                 Class     Images  Instances      Box(P          R      mAP50  mAP50-95): 100%|██████████| 1/1 [00:00<0"
     ]
    },
    {
     "name": "stdout",
     "output_type": "stream",
     "text": [
      "                   all          1          1    0.00333          1      0.995      0.895\n"
     ]
    },
    {
     "name": "stderr",
     "output_type": "stream",
     "text": [
      "\n"
     ]
    },
    {
     "name": "stdout",
     "output_type": "stream",
     "text": [
      "\n",
      "60 epochs completed in 0.171 hours.\n",
      "Optimizer stripped from runs\\detect\\train2\\weights\\last.pt, 6.2MB\n",
      "Optimizer stripped from runs\\detect\\train2\\weights\\best.pt, 6.2MB\n",
      "\n",
      "Validating runs\\detect\\train2\\weights\\best.pt...\n",
      "Ultralytics YOLOv8.1.34 🚀 Python-3.12.0 torch-2.2.1+cpu CPU (11th Gen Intel Core(TM) i5-1135G7 2.40GHz)\n",
      "Model summary (fused): 168 layers, 3005843 parameters, 0 gradients, 8.1 GFLOPs\n",
      "WARNING ⚠️ renaming data YAML 'validation' key to 'val' to match YOLO format.\n"
     ]
    },
    {
     "name": "stderr",
     "output_type": "stream",
     "text": [
      "                 Class     Images  Instances      Box(P          R      mAP50  mAP50-95): 100%|██████████| 1/1 [00:00<0\n"
     ]
    },
    {
     "name": "stdout",
     "output_type": "stream",
     "text": [
      "                   all          1          1    0.00333          1      0.995      0.895\n",
      "Speed: 4.0ms preprocess, 305.9ms inference, 0.0ms loss, 10.0ms postprocess per image\n",
      "Results saved to \u001b[1mruns\\detect\\train2\u001b[0m\n"
     ]
    },
    {
     "data": {
      "text/plain": [
       "ultralytics.utils.metrics.DetMetrics object with attributes:\n",
       "\n",
       "ap_class_index: array([0])\n",
       "box: ultralytics.utils.metrics.Metric object\n",
       "confusion_matrix: <ultralytics.utils.metrics.ConfusionMatrix object at 0x000001AAB35CA030>\n",
       "curves: ['Precision-Recall(B)', 'F1-Confidence(B)', 'Precision-Confidence(B)', 'Recall-Confidence(B)']\n",
       "curves_results: [[array([          0,    0.001001,    0.002002,    0.003003,    0.004004,    0.005005,    0.006006,    0.007007,    0.008008,    0.009009,     0.01001,    0.011011,    0.012012,    0.013013,    0.014014,    0.015015,    0.016016,    0.017017,    0.018018,    0.019019,     0.02002,    0.021021,    0.022022,    0.023023,\n",
       "          0.024024,    0.025025,    0.026026,    0.027027,    0.028028,    0.029029,     0.03003,    0.031031,    0.032032,    0.033033,    0.034034,    0.035035,    0.036036,    0.037037,    0.038038,    0.039039,     0.04004,    0.041041,    0.042042,    0.043043,    0.044044,    0.045045,    0.046046,    0.047047,\n",
       "          0.048048,    0.049049,     0.05005,    0.051051,    0.052052,    0.053053,    0.054054,    0.055055,    0.056056,    0.057057,    0.058058,    0.059059,     0.06006,    0.061061,    0.062062,    0.063063,    0.064064,    0.065065,    0.066066,    0.067067,    0.068068,    0.069069,     0.07007,    0.071071,\n",
       "          0.072072,    0.073073,    0.074074,    0.075075,    0.076076,    0.077077,    0.078078,    0.079079,     0.08008,    0.081081,    0.082082,    0.083083,    0.084084,    0.085085,    0.086086,    0.087087,    0.088088,    0.089089,     0.09009,    0.091091,    0.092092,    0.093093,    0.094094,    0.095095,\n",
       "          0.096096,    0.097097,    0.098098,    0.099099,      0.1001,      0.1011,      0.1021,      0.1031,      0.1041,     0.10511,     0.10611,     0.10711,     0.10811,     0.10911,     0.11011,     0.11111,     0.11211,     0.11311,     0.11411,     0.11512,     0.11612,     0.11712,     0.11812,     0.11912,\n",
       "           0.12012,     0.12112,     0.12212,     0.12312,     0.12412,     0.12513,     0.12613,     0.12713,     0.12813,     0.12913,     0.13013,     0.13113,     0.13213,     0.13313,     0.13413,     0.13514,     0.13614,     0.13714,     0.13814,     0.13914,     0.14014,     0.14114,     0.14214,     0.14314,\n",
       "           0.14414,     0.14515,     0.14615,     0.14715,     0.14815,     0.14915,     0.15015,     0.15115,     0.15215,     0.15315,     0.15415,     0.15516,     0.15616,     0.15716,     0.15816,     0.15916,     0.16016,     0.16116,     0.16216,     0.16316,     0.16416,     0.16517,     0.16617,     0.16717,\n",
       "           0.16817,     0.16917,     0.17017,     0.17117,     0.17217,     0.17317,     0.17417,     0.17518,     0.17618,     0.17718,     0.17818,     0.17918,     0.18018,     0.18118,     0.18218,     0.18318,     0.18418,     0.18519,     0.18619,     0.18719,     0.18819,     0.18919,     0.19019,     0.19119,\n",
       "           0.19219,     0.19319,     0.19419,      0.1952,      0.1962,      0.1972,      0.1982,      0.1992,      0.2002,      0.2012,      0.2022,      0.2032,      0.2042,     0.20521,     0.20621,     0.20721,     0.20821,     0.20921,     0.21021,     0.21121,     0.21221,     0.21321,     0.21421,     0.21522,\n",
       "           0.21622,     0.21722,     0.21822,     0.21922,     0.22022,     0.22122,     0.22222,     0.22322,     0.22422,     0.22523,     0.22623,     0.22723,     0.22823,     0.22923,     0.23023,     0.23123,     0.23223,     0.23323,     0.23423,     0.23524,     0.23624,     0.23724,     0.23824,     0.23924,\n",
       "           0.24024,     0.24124,     0.24224,     0.24324,     0.24424,     0.24525,     0.24625,     0.24725,     0.24825,     0.24925,     0.25025,     0.25125,     0.25225,     0.25325,     0.25425,     0.25526,     0.25626,     0.25726,     0.25826,     0.25926,     0.26026,     0.26126,     0.26226,     0.26326,\n",
       "           0.26426,     0.26527,     0.26627,     0.26727,     0.26827,     0.26927,     0.27027,     0.27127,     0.27227,     0.27327,     0.27427,     0.27528,     0.27628,     0.27728,     0.27828,     0.27928,     0.28028,     0.28128,     0.28228,     0.28328,     0.28428,     0.28529,     0.28629,     0.28729,\n",
       "           0.28829,     0.28929,     0.29029,     0.29129,     0.29229,     0.29329,     0.29429,      0.2953,      0.2963,      0.2973,      0.2983,      0.2993,      0.3003,      0.3013,      0.3023,      0.3033,      0.3043,     0.30531,     0.30631,     0.30731,     0.30831,     0.30931,     0.31031,     0.31131,\n",
       "           0.31231,     0.31331,     0.31431,     0.31532,     0.31632,     0.31732,     0.31832,     0.31932,     0.32032,     0.32132,     0.32232,     0.32332,     0.32432,     0.32533,     0.32633,     0.32733,     0.32833,     0.32933,     0.33033,     0.33133,     0.33233,     0.33333,     0.33433,     0.33534,\n",
       "           0.33634,     0.33734,     0.33834,     0.33934,     0.34034,     0.34134,     0.34234,     0.34334,     0.34434,     0.34535,     0.34635,     0.34735,     0.34835,     0.34935,     0.35035,     0.35135,     0.35235,     0.35335,     0.35435,     0.35536,     0.35636,     0.35736,     0.35836,     0.35936,\n",
       "           0.36036,     0.36136,     0.36236,     0.36336,     0.36436,     0.36537,     0.36637,     0.36737,     0.36837,     0.36937,     0.37037,     0.37137,     0.37237,     0.37337,     0.37437,     0.37538,     0.37638,     0.37738,     0.37838,     0.37938,     0.38038,     0.38138,     0.38238,     0.38338,\n",
       "           0.38438,     0.38539,     0.38639,     0.38739,     0.38839,     0.38939,     0.39039,     0.39139,     0.39239,     0.39339,     0.39439,      0.3954,      0.3964,      0.3974,      0.3984,      0.3994,      0.4004,      0.4014,      0.4024,      0.4034,      0.4044,     0.40541,     0.40641,     0.40741,\n",
       "           0.40841,     0.40941,     0.41041,     0.41141,     0.41241,     0.41341,     0.41441,     0.41542,     0.41642,     0.41742,     0.41842,     0.41942,     0.42042,     0.42142,     0.42242,     0.42342,     0.42442,     0.42543,     0.42643,     0.42743,     0.42843,     0.42943,     0.43043,     0.43143,\n",
       "           0.43243,     0.43343,     0.43443,     0.43544,     0.43644,     0.43744,     0.43844,     0.43944,     0.44044,     0.44144,     0.44244,     0.44344,     0.44444,     0.44545,     0.44645,     0.44745,     0.44845,     0.44945,     0.45045,     0.45145,     0.45245,     0.45345,     0.45445,     0.45546,\n",
       "           0.45646,     0.45746,     0.45846,     0.45946,     0.46046,     0.46146,     0.46246,     0.46346,     0.46446,     0.46547,     0.46647,     0.46747,     0.46847,     0.46947,     0.47047,     0.47147,     0.47247,     0.47347,     0.47447,     0.47548,     0.47648,     0.47748,     0.47848,     0.47948,\n",
       "           0.48048,     0.48148,     0.48248,     0.48348,     0.48448,     0.48549,     0.48649,     0.48749,     0.48849,     0.48949,     0.49049,     0.49149,     0.49249,     0.49349,     0.49449,      0.4955,      0.4965,      0.4975,      0.4985,      0.4995,      0.5005,      0.5015,      0.5025,      0.5035,\n",
       "            0.5045,     0.50551,     0.50651,     0.50751,     0.50851,     0.50951,     0.51051,     0.51151,     0.51251,     0.51351,     0.51451,     0.51552,     0.51652,     0.51752,     0.51852,     0.51952,     0.52052,     0.52152,     0.52252,     0.52352,     0.52452,     0.52553,     0.52653,     0.52753,\n",
       "           0.52853,     0.52953,     0.53053,     0.53153,     0.53253,     0.53353,     0.53453,     0.53554,     0.53654,     0.53754,     0.53854,     0.53954,     0.54054,     0.54154,     0.54254,     0.54354,     0.54454,     0.54555,     0.54655,     0.54755,     0.54855,     0.54955,     0.55055,     0.55155,\n",
       "           0.55255,     0.55355,     0.55455,     0.55556,     0.55656,     0.55756,     0.55856,     0.55956,     0.56056,     0.56156,     0.56256,     0.56356,     0.56456,     0.56557,     0.56657,     0.56757,     0.56857,     0.56957,     0.57057,     0.57157,     0.57257,     0.57357,     0.57457,     0.57558,\n",
       "           0.57658,     0.57758,     0.57858,     0.57958,     0.58058,     0.58158,     0.58258,     0.58358,     0.58458,     0.58559,     0.58659,     0.58759,     0.58859,     0.58959,     0.59059,     0.59159,     0.59259,     0.59359,     0.59459,      0.5956,      0.5966,      0.5976,      0.5986,      0.5996,\n",
       "            0.6006,      0.6016,      0.6026,      0.6036,      0.6046,     0.60561,     0.60661,     0.60761,     0.60861,     0.60961,     0.61061,     0.61161,     0.61261,     0.61361,     0.61461,     0.61562,     0.61662,     0.61762,     0.61862,     0.61962,     0.62062,     0.62162,     0.62262,     0.62362,\n",
       "           0.62462,     0.62563,     0.62663,     0.62763,     0.62863,     0.62963,     0.63063,     0.63163,     0.63263,     0.63363,     0.63463,     0.63564,     0.63664,     0.63764,     0.63864,     0.63964,     0.64064,     0.64164,     0.64264,     0.64364,     0.64464,     0.64565,     0.64665,     0.64765,\n",
       "           0.64865,     0.64965,     0.65065,     0.65165,     0.65265,     0.65365,     0.65465,     0.65566,     0.65666,     0.65766,     0.65866,     0.65966,     0.66066,     0.66166,     0.66266,     0.66366,     0.66466,     0.66567,     0.66667,     0.66767,     0.66867,     0.66967,     0.67067,     0.67167,\n",
       "           0.67267,     0.67367,     0.67467,     0.67568,     0.67668,     0.67768,     0.67868,     0.67968,     0.68068,     0.68168,     0.68268,     0.68368,     0.68468,     0.68569,     0.68669,     0.68769,     0.68869,     0.68969,     0.69069,     0.69169,     0.69269,     0.69369,     0.69469,      0.6957,\n",
       "            0.6967,      0.6977,      0.6987,      0.6997,      0.7007,      0.7017,      0.7027,      0.7037,      0.7047,     0.70571,     0.70671,     0.70771,     0.70871,     0.70971,     0.71071,     0.71171,     0.71271,     0.71371,     0.71471,     0.71572,     0.71672,     0.71772,     0.71872,     0.71972,\n",
       "           0.72072,     0.72172,     0.72272,     0.72372,     0.72472,     0.72573,     0.72673,     0.72773,     0.72873,     0.72973,     0.73073,     0.73173,     0.73273,     0.73373,     0.73473,     0.73574,     0.73674,     0.73774,     0.73874,     0.73974,     0.74074,     0.74174,     0.74274,     0.74374,\n",
       "           0.74474,     0.74575,     0.74675,     0.74775,     0.74875,     0.74975,     0.75075,     0.75175,     0.75275,     0.75375,     0.75475,     0.75576,     0.75676,     0.75776,     0.75876,     0.75976,     0.76076,     0.76176,     0.76276,     0.76376,     0.76476,     0.76577,     0.76677,     0.76777,\n",
       "           0.76877,     0.76977,     0.77077,     0.77177,     0.77277,     0.77377,     0.77477,     0.77578,     0.77678,     0.77778,     0.77878,     0.77978,     0.78078,     0.78178,     0.78278,     0.78378,     0.78478,     0.78579,     0.78679,     0.78779,     0.78879,     0.78979,     0.79079,     0.79179,\n",
       "           0.79279,     0.79379,     0.79479,      0.7958,      0.7968,      0.7978,      0.7988,      0.7998,      0.8008,      0.8018,      0.8028,      0.8038,      0.8048,     0.80581,     0.80681,     0.80781,     0.80881,     0.80981,     0.81081,     0.81181,     0.81281,     0.81381,     0.81481,     0.81582,\n",
       "           0.81682,     0.81782,     0.81882,     0.81982,     0.82082,     0.82182,     0.82282,     0.82382,     0.82482,     0.82583,     0.82683,     0.82783,     0.82883,     0.82983,     0.83083,     0.83183,     0.83283,     0.83383,     0.83483,     0.83584,     0.83684,     0.83784,     0.83884,     0.83984,\n",
       "           0.84084,     0.84184,     0.84284,     0.84384,     0.84484,     0.84585,     0.84685,     0.84785,     0.84885,     0.84985,     0.85085,     0.85185,     0.85285,     0.85385,     0.85485,     0.85586,     0.85686,     0.85786,     0.85886,     0.85986,     0.86086,     0.86186,     0.86286,     0.86386,\n",
       "           0.86486,     0.86587,     0.86687,     0.86787,     0.86887,     0.86987,     0.87087,     0.87187,     0.87287,     0.87387,     0.87487,     0.87588,     0.87688,     0.87788,     0.87888,     0.87988,     0.88088,     0.88188,     0.88288,     0.88388,     0.88488,     0.88589,     0.88689,     0.88789,\n",
       "           0.88889,     0.88989,     0.89089,     0.89189,     0.89289,     0.89389,     0.89489,      0.8959,      0.8969,      0.8979,      0.8989,      0.8999,      0.9009,      0.9019,      0.9029,      0.9039,      0.9049,     0.90591,     0.90691,     0.90791,     0.90891,     0.90991,     0.91091,     0.91191,\n",
       "           0.91291,     0.91391,     0.91491,     0.91592,     0.91692,     0.91792,     0.91892,     0.91992,     0.92092,     0.92192,     0.92292,     0.92392,     0.92492,     0.92593,     0.92693,     0.92793,     0.92893,     0.92993,     0.93093,     0.93193,     0.93293,     0.93393,     0.93493,     0.93594,\n",
       "           0.93694,     0.93794,     0.93894,     0.93994,     0.94094,     0.94194,     0.94294,     0.94394,     0.94494,     0.94595,     0.94695,     0.94795,     0.94895,     0.94995,     0.95095,     0.95195,     0.95295,     0.95395,     0.95495,     0.95596,     0.95696,     0.95796,     0.95896,     0.95996,\n",
       "           0.96096,     0.96196,     0.96296,     0.96396,     0.96496,     0.96597,     0.96697,     0.96797,     0.96897,     0.96997,     0.97097,     0.97197,     0.97297,     0.97397,     0.97497,     0.97598,     0.97698,     0.97798,     0.97898,     0.97998,     0.98098,     0.98198,     0.98298,     0.98398,\n",
       "           0.98498,     0.98599,     0.98699,     0.98799,     0.98899,     0.98999,     0.99099,     0.99199,     0.99299,     0.99399,     0.99499,       0.996,       0.997,       0.998,       0.999,           1]), array([[          1,           1,           1,           1,           1,           1,           1,           1,           1,           1,           1,           1,           1,           1,           1,           1,           1,           1,           1,           1,           1,           1,           1,\n",
       "                  1,           1,           1,           1,           1,           1,           1,           1,           1,           1,           1,           1,           1,           1,           1,           1,           1,           1,           1,           1,           1,           1,           1,\n",
       "                  1,           1,           1,           1,           1,           1,           1,           1,           1,           1,           1,           1,           1,           1,           1,           1,           1,           1,           1,           1,           1,           1,           1,\n",
       "                  1,           1,           1,           1,           1,           1,           1,           1,           1,           1,           1,           1,           1,           1,           1,           1,           1,           1,           1,           1,           1,           1,           1,\n",
       "                  1,           1,           1,           1,           1,           1,           1,           1,           1,           1,           1,           1,           1,           1,           1,           1,           1,           1,           1,           1,           1,           1,           1,\n",
       "                  1,           1,           1,           1,           1,           1,           1,           1,           1,           1,           1,           1,           1,           1,           1,           1,           1,           1,           1,           1,           1,           1,           1,\n",
       "                  1,           1,           1,           1,           1,           1,           1,           1,           1,           1,           1,           1,           1,           1,           1,           1,           1,           1,           1,           1,           1,           1,           1,\n",
       "                  1,           1,           1,           1,           1,           1,           1,           1,           1,           1,           1,           1,           1,           1,           1,           1,           1,           1,           1,           1,           1,           1,           1,\n",
       "                  1,           1,           1,           1,           1,           1,           1,           1,           1,           1,           1,           1,           1,           1,           1,           1,           1,           1,           1,           1,           1,           1,           1,\n",
       "                  1,           1,           1,           1,           1,           1,           1,           1,           1,           1,           1,           1,           1,           1,           1,           1,           1,           1,           1,           1,           1,           1,           1,\n",
       "                  1,           1,           1,           1,           1,           1,           1,           1,           1,           1,           1,           1,           1,           1,           1,           1,           1,           1,           1,           1,           1,           1,           1,\n",
       "                  1,           1,           1,           1,           1,           1,           1,           1,           1,           1,           1,           1,           1,           1,           1,           1,           1,           1,           1,           1,           1,           1,           1,\n",
       "                  1,           1,           1,           1,           1,           1,           1,           1,           1,           1,           1,           1,           1,           1,           1,           1,           1,           1,           1,           1,           1,           1,           1,\n",
       "                  1,           1,           1,           1,           1,           1,           1,           1,           1,           1,           1,           1,           1,           1,           1,           1,           1,           1,           1,           1,           1,           1,           1,\n",
       "                  1,           1,           1,           1,           1,           1,           1,           1,           1,           1,           1,           1,           1,           1,           1,           1,           1,           1,           1,           1,           1,           1,           1,\n",
       "                  1,           1,           1,           1,           1,           1,           1,           1,           1,           1,           1,           1,           1,           1,           1,           1,           1,           1,           1,           1,           1,           1,           1,\n",
       "                  1,           1,           1,           1,           1,           1,           1,           1,           1,           1,           1,           1,           1,           1,           1,           1,           1,           1,           1,           1,           1,           1,           1,\n",
       "                  1,           1,           1,           1,           1,           1,           1,           1,           1,           1,           1,           1,           1,           1,           1,           1,           1,           1,           1,           1,           1,           1,           1,\n",
       "                  1,           1,           1,           1,           1,           1,           1,           1,           1,           1,           1,           1,           1,           1,           1,           1,           1,           1,           1,           1,           1,           1,           1,\n",
       "                  1,           1,           1,           1,           1,           1,           1,           1,           1,           1,           1,           1,           1,           1,           1,           1,           1,           1,           1,           1,           1,           1,           1,\n",
       "                  1,           1,           1,           1,           1,           1,           1,           1,           1,           1,           1,           1,           1,           1,           1,           1,           1,           1,           1,           1,           1,           1,           1,\n",
       "                  1,           1,           1,           1,           1,           1,           1,           1,           1,           1,           1,           1,           1,           1,           1,           1,           1,           1,           1,           1,           1,           1,           1,\n",
       "                  1,           1,           1,           1,           1,           1,           1,           1,           1,           1,           1,           1,           1,           1,           1,           1,           1,           1,           1,           1,           1,           1,           1,\n",
       "                  1,           1,           1,           1,           1,           1,           1,           1,           1,           1,           1,           1,           1,           1,           1,           1,           1,           1,           1,           1,           1,           1,           1,\n",
       "                  1,           1,           1,           1,           1,           1,           1,           1,           1,           1,           1,           1,           1,           1,           1,           1,           1,           1,           1,           1,           1,           1,           1,\n",
       "                  1,           1,           1,           1,           1,           1,           1,           1,           1,           1,           1,           1,           1,           1,           1,           1,           1,           1,           1,           1,           1,           1,           1,\n",
       "                  1,           1,           1,           1,           1,           1,           1,           1,           1,           1,           1,           1,           1,           1,           1,           1,           1,           1,           1,           1,           1,           1,           1,\n",
       "                  1,           1,           1,           1,           1,           1,           1,           1,           1,           1,           1,           1,           1,           1,           1,           1,           1,           1,           1,           1,           1,           1,           1,\n",
       "                  1,           1,           1,           1,           1,           1,           1,           1,           1,           1,           1,           1,           1,           1,           1,           1,           1,           1,           1,           1,           1,           1,           1,\n",
       "                  1,           1,           1,           1,           1,           1,           1,           1,           1,           1,           1,           1,           1,           1,           1,           1,           1,           1,           1,           1,           1,           1,           1,\n",
       "                  1,           1,           1,           1,           1,           1,           1,           1,           1,           1,           1,           1,           1,           1,           1,           1,           1,           1,           1,           1,           1,           1,           1,\n",
       "                  1,           1,           1,           1,           1,           1,           1,           1,           1,           1,           1,           1,           1,           1,           1,           1,           1,           1,           1,           1,           1,           1,           1,\n",
       "                  1,           1,           1,           1,           1,           1,           1,           1,           1,           1,           1,           1,           1,           1,           1,           1,           1,           1,           1,           1,           1,           1,           1,\n",
       "                  1,           1,           1,           1,           1,           1,           1,           1,           1,           1,           1,           1,           1,           1,           1,           1,           1,           1,           1,           1,           1,           1,           1,\n",
       "                  1,           1,           1,           1,           1,           1,           1,           1,           1,           1,           1,           1,           1,           1,           1,           1,           1,           1,           1,           1,           1,           1,           1,\n",
       "                  1,           1,           1,           1,           1,           1,           1,           1,           1,           1,           1,           1,           1,           1,           1,           1,           1,           1,           1,           1,           1,           1,           1,\n",
       "                  1,           1,           1,           1,           1,           1,           1,           1,           1,           1,           1,           1,           1,           1,           1,           1,           1,           1,           1,           1,           1,           1,           1,\n",
       "                  1,           1,           1,           1,           1,           1,           1,           1,           1,           1,           1,           1,           1,           1,           1,           1,           1,           1,           1,           1,           1,           1,           1,\n",
       "                  1,           1,           1,           1,           1,           1,           1,           1,           1,           1,           1,           1,           1,           1,           1,           1,           1,           1,           1,           1,           1,           1,           1,\n",
       "                  1,           1,           1,           1,           1,           1,           1,           1,           1,           1,           1,           1,           1,           1,           1,           1,           1,           1,           1,           1,           1,           1,           1,\n",
       "                  1,           1,           1,           1,           1,           1,           1,           1,           1,           1,           1,           1,           1,           1,           1,           1,           1,           1,           1,           1,           1,           1,           1,\n",
       "                  1,           1,           1,           1,           1,           1,           1,           1,           1,           1,           1,           1,           1,           1,           1,           1,           1,           1,           1,           1,           1,           1,           1,\n",
       "                  1,           1,           1,           1,           1,           1,           1,           1,           1,           1,           1,           1,           1,           1,           1,           1,           1,           1,           1,           1,           1,           1,           1,\n",
       "                  1,           1,           1,           1,           1,           1,           1,           1,           1,           1,           0]]), 'Recall', 'Precision'], [array([          0,    0.001001,    0.002002,    0.003003,    0.004004,    0.005005,    0.006006,    0.007007,    0.008008,    0.009009,     0.01001,    0.011011,    0.012012,    0.013013,    0.014014,    0.015015,    0.016016,    0.017017,    0.018018,    0.019019,     0.02002,    0.021021,    0.022022,    0.023023,\n",
       "          0.024024,    0.025025,    0.026026,    0.027027,    0.028028,    0.029029,     0.03003,    0.031031,    0.032032,    0.033033,    0.034034,    0.035035,    0.036036,    0.037037,    0.038038,    0.039039,     0.04004,    0.041041,    0.042042,    0.043043,    0.044044,    0.045045,    0.046046,    0.047047,\n",
       "          0.048048,    0.049049,     0.05005,    0.051051,    0.052052,    0.053053,    0.054054,    0.055055,    0.056056,    0.057057,    0.058058,    0.059059,     0.06006,    0.061061,    0.062062,    0.063063,    0.064064,    0.065065,    0.066066,    0.067067,    0.068068,    0.069069,     0.07007,    0.071071,\n",
       "          0.072072,    0.073073,    0.074074,    0.075075,    0.076076,    0.077077,    0.078078,    0.079079,     0.08008,    0.081081,    0.082082,    0.083083,    0.084084,    0.085085,    0.086086,    0.087087,    0.088088,    0.089089,     0.09009,    0.091091,    0.092092,    0.093093,    0.094094,    0.095095,\n",
       "          0.096096,    0.097097,    0.098098,    0.099099,      0.1001,      0.1011,      0.1021,      0.1031,      0.1041,     0.10511,     0.10611,     0.10711,     0.10811,     0.10911,     0.11011,     0.11111,     0.11211,     0.11311,     0.11411,     0.11512,     0.11612,     0.11712,     0.11812,     0.11912,\n",
       "           0.12012,     0.12112,     0.12212,     0.12312,     0.12412,     0.12513,     0.12613,     0.12713,     0.12813,     0.12913,     0.13013,     0.13113,     0.13213,     0.13313,     0.13413,     0.13514,     0.13614,     0.13714,     0.13814,     0.13914,     0.14014,     0.14114,     0.14214,     0.14314,\n",
       "           0.14414,     0.14515,     0.14615,     0.14715,     0.14815,     0.14915,     0.15015,     0.15115,     0.15215,     0.15315,     0.15415,     0.15516,     0.15616,     0.15716,     0.15816,     0.15916,     0.16016,     0.16116,     0.16216,     0.16316,     0.16416,     0.16517,     0.16617,     0.16717,\n",
       "           0.16817,     0.16917,     0.17017,     0.17117,     0.17217,     0.17317,     0.17417,     0.17518,     0.17618,     0.17718,     0.17818,     0.17918,     0.18018,     0.18118,     0.18218,     0.18318,     0.18418,     0.18519,     0.18619,     0.18719,     0.18819,     0.18919,     0.19019,     0.19119,\n",
       "           0.19219,     0.19319,     0.19419,      0.1952,      0.1962,      0.1972,      0.1982,      0.1992,      0.2002,      0.2012,      0.2022,      0.2032,      0.2042,     0.20521,     0.20621,     0.20721,     0.20821,     0.20921,     0.21021,     0.21121,     0.21221,     0.21321,     0.21421,     0.21522,\n",
       "           0.21622,     0.21722,     0.21822,     0.21922,     0.22022,     0.22122,     0.22222,     0.22322,     0.22422,     0.22523,     0.22623,     0.22723,     0.22823,     0.22923,     0.23023,     0.23123,     0.23223,     0.23323,     0.23423,     0.23524,     0.23624,     0.23724,     0.23824,     0.23924,\n",
       "           0.24024,     0.24124,     0.24224,     0.24324,     0.24424,     0.24525,     0.24625,     0.24725,     0.24825,     0.24925,     0.25025,     0.25125,     0.25225,     0.25325,     0.25425,     0.25526,     0.25626,     0.25726,     0.25826,     0.25926,     0.26026,     0.26126,     0.26226,     0.26326,\n",
       "           0.26426,     0.26527,     0.26627,     0.26727,     0.26827,     0.26927,     0.27027,     0.27127,     0.27227,     0.27327,     0.27427,     0.27528,     0.27628,     0.27728,     0.27828,     0.27928,     0.28028,     0.28128,     0.28228,     0.28328,     0.28428,     0.28529,     0.28629,     0.28729,\n",
       "           0.28829,     0.28929,     0.29029,     0.29129,     0.29229,     0.29329,     0.29429,      0.2953,      0.2963,      0.2973,      0.2983,      0.2993,      0.3003,      0.3013,      0.3023,      0.3033,      0.3043,     0.30531,     0.30631,     0.30731,     0.30831,     0.30931,     0.31031,     0.31131,\n",
       "           0.31231,     0.31331,     0.31431,     0.31532,     0.31632,     0.31732,     0.31832,     0.31932,     0.32032,     0.32132,     0.32232,     0.32332,     0.32432,     0.32533,     0.32633,     0.32733,     0.32833,     0.32933,     0.33033,     0.33133,     0.33233,     0.33333,     0.33433,     0.33534,\n",
       "           0.33634,     0.33734,     0.33834,     0.33934,     0.34034,     0.34134,     0.34234,     0.34334,     0.34434,     0.34535,     0.34635,     0.34735,     0.34835,     0.34935,     0.35035,     0.35135,     0.35235,     0.35335,     0.35435,     0.35536,     0.35636,     0.35736,     0.35836,     0.35936,\n",
       "           0.36036,     0.36136,     0.36236,     0.36336,     0.36436,     0.36537,     0.36637,     0.36737,     0.36837,     0.36937,     0.37037,     0.37137,     0.37237,     0.37337,     0.37437,     0.37538,     0.37638,     0.37738,     0.37838,     0.37938,     0.38038,     0.38138,     0.38238,     0.38338,\n",
       "           0.38438,     0.38539,     0.38639,     0.38739,     0.38839,     0.38939,     0.39039,     0.39139,     0.39239,     0.39339,     0.39439,      0.3954,      0.3964,      0.3974,      0.3984,      0.3994,      0.4004,      0.4014,      0.4024,      0.4034,      0.4044,     0.40541,     0.40641,     0.40741,\n",
       "           0.40841,     0.40941,     0.41041,     0.41141,     0.41241,     0.41341,     0.41441,     0.41542,     0.41642,     0.41742,     0.41842,     0.41942,     0.42042,     0.42142,     0.42242,     0.42342,     0.42442,     0.42543,     0.42643,     0.42743,     0.42843,     0.42943,     0.43043,     0.43143,\n",
       "           0.43243,     0.43343,     0.43443,     0.43544,     0.43644,     0.43744,     0.43844,     0.43944,     0.44044,     0.44144,     0.44244,     0.44344,     0.44444,     0.44545,     0.44645,     0.44745,     0.44845,     0.44945,     0.45045,     0.45145,     0.45245,     0.45345,     0.45445,     0.45546,\n",
       "           0.45646,     0.45746,     0.45846,     0.45946,     0.46046,     0.46146,     0.46246,     0.46346,     0.46446,     0.46547,     0.46647,     0.46747,     0.46847,     0.46947,     0.47047,     0.47147,     0.47247,     0.47347,     0.47447,     0.47548,     0.47648,     0.47748,     0.47848,     0.47948,\n",
       "           0.48048,     0.48148,     0.48248,     0.48348,     0.48448,     0.48549,     0.48649,     0.48749,     0.48849,     0.48949,     0.49049,     0.49149,     0.49249,     0.49349,     0.49449,      0.4955,      0.4965,      0.4975,      0.4985,      0.4995,      0.5005,      0.5015,      0.5025,      0.5035,\n",
       "            0.5045,     0.50551,     0.50651,     0.50751,     0.50851,     0.50951,     0.51051,     0.51151,     0.51251,     0.51351,     0.51451,     0.51552,     0.51652,     0.51752,     0.51852,     0.51952,     0.52052,     0.52152,     0.52252,     0.52352,     0.52452,     0.52553,     0.52653,     0.52753,\n",
       "           0.52853,     0.52953,     0.53053,     0.53153,     0.53253,     0.53353,     0.53453,     0.53554,     0.53654,     0.53754,     0.53854,     0.53954,     0.54054,     0.54154,     0.54254,     0.54354,     0.54454,     0.54555,     0.54655,     0.54755,     0.54855,     0.54955,     0.55055,     0.55155,\n",
       "           0.55255,     0.55355,     0.55455,     0.55556,     0.55656,     0.55756,     0.55856,     0.55956,     0.56056,     0.56156,     0.56256,     0.56356,     0.56456,     0.56557,     0.56657,     0.56757,     0.56857,     0.56957,     0.57057,     0.57157,     0.57257,     0.57357,     0.57457,     0.57558,\n",
       "           0.57658,     0.57758,     0.57858,     0.57958,     0.58058,     0.58158,     0.58258,     0.58358,     0.58458,     0.58559,     0.58659,     0.58759,     0.58859,     0.58959,     0.59059,     0.59159,     0.59259,     0.59359,     0.59459,      0.5956,      0.5966,      0.5976,      0.5986,      0.5996,\n",
       "            0.6006,      0.6016,      0.6026,      0.6036,      0.6046,     0.60561,     0.60661,     0.60761,     0.60861,     0.60961,     0.61061,     0.61161,     0.61261,     0.61361,     0.61461,     0.61562,     0.61662,     0.61762,     0.61862,     0.61962,     0.62062,     0.62162,     0.62262,     0.62362,\n",
       "           0.62462,     0.62563,     0.62663,     0.62763,     0.62863,     0.62963,     0.63063,     0.63163,     0.63263,     0.63363,     0.63463,     0.63564,     0.63664,     0.63764,     0.63864,     0.63964,     0.64064,     0.64164,     0.64264,     0.64364,     0.64464,     0.64565,     0.64665,     0.64765,\n",
       "           0.64865,     0.64965,     0.65065,     0.65165,     0.65265,     0.65365,     0.65465,     0.65566,     0.65666,     0.65766,     0.65866,     0.65966,     0.66066,     0.66166,     0.66266,     0.66366,     0.66466,     0.66567,     0.66667,     0.66767,     0.66867,     0.66967,     0.67067,     0.67167,\n",
       "           0.67267,     0.67367,     0.67467,     0.67568,     0.67668,     0.67768,     0.67868,     0.67968,     0.68068,     0.68168,     0.68268,     0.68368,     0.68468,     0.68569,     0.68669,     0.68769,     0.68869,     0.68969,     0.69069,     0.69169,     0.69269,     0.69369,     0.69469,      0.6957,\n",
       "            0.6967,      0.6977,      0.6987,      0.6997,      0.7007,      0.7017,      0.7027,      0.7037,      0.7047,     0.70571,     0.70671,     0.70771,     0.70871,     0.70971,     0.71071,     0.71171,     0.71271,     0.71371,     0.71471,     0.71572,     0.71672,     0.71772,     0.71872,     0.71972,\n",
       "           0.72072,     0.72172,     0.72272,     0.72372,     0.72472,     0.72573,     0.72673,     0.72773,     0.72873,     0.72973,     0.73073,     0.73173,     0.73273,     0.73373,     0.73473,     0.73574,     0.73674,     0.73774,     0.73874,     0.73974,     0.74074,     0.74174,     0.74274,     0.74374,\n",
       "           0.74474,     0.74575,     0.74675,     0.74775,     0.74875,     0.74975,     0.75075,     0.75175,     0.75275,     0.75375,     0.75475,     0.75576,     0.75676,     0.75776,     0.75876,     0.75976,     0.76076,     0.76176,     0.76276,     0.76376,     0.76476,     0.76577,     0.76677,     0.76777,\n",
       "           0.76877,     0.76977,     0.77077,     0.77177,     0.77277,     0.77377,     0.77477,     0.77578,     0.77678,     0.77778,     0.77878,     0.77978,     0.78078,     0.78178,     0.78278,     0.78378,     0.78478,     0.78579,     0.78679,     0.78779,     0.78879,     0.78979,     0.79079,     0.79179,\n",
       "           0.79279,     0.79379,     0.79479,      0.7958,      0.7968,      0.7978,      0.7988,      0.7998,      0.8008,      0.8018,      0.8028,      0.8038,      0.8048,     0.80581,     0.80681,     0.80781,     0.80881,     0.80981,     0.81081,     0.81181,     0.81281,     0.81381,     0.81481,     0.81582,\n",
       "           0.81682,     0.81782,     0.81882,     0.81982,     0.82082,     0.82182,     0.82282,     0.82382,     0.82482,     0.82583,     0.82683,     0.82783,     0.82883,     0.82983,     0.83083,     0.83183,     0.83283,     0.83383,     0.83483,     0.83584,     0.83684,     0.83784,     0.83884,     0.83984,\n",
       "           0.84084,     0.84184,     0.84284,     0.84384,     0.84484,     0.84585,     0.84685,     0.84785,     0.84885,     0.84985,     0.85085,     0.85185,     0.85285,     0.85385,     0.85485,     0.85586,     0.85686,     0.85786,     0.85886,     0.85986,     0.86086,     0.86186,     0.86286,     0.86386,\n",
       "           0.86486,     0.86587,     0.86687,     0.86787,     0.86887,     0.86987,     0.87087,     0.87187,     0.87287,     0.87387,     0.87487,     0.87588,     0.87688,     0.87788,     0.87888,     0.87988,     0.88088,     0.88188,     0.88288,     0.88388,     0.88488,     0.88589,     0.88689,     0.88789,\n",
       "           0.88889,     0.88989,     0.89089,     0.89189,     0.89289,     0.89389,     0.89489,      0.8959,      0.8969,      0.8979,      0.8989,      0.8999,      0.9009,      0.9019,      0.9029,      0.9039,      0.9049,     0.90591,     0.90691,     0.90791,     0.90891,     0.90991,     0.91091,     0.91191,\n",
       "           0.91291,     0.91391,     0.91491,     0.91592,     0.91692,     0.91792,     0.91892,     0.91992,     0.92092,     0.92192,     0.92292,     0.92392,     0.92492,     0.92593,     0.92693,     0.92793,     0.92893,     0.92993,     0.93093,     0.93193,     0.93293,     0.93393,     0.93493,     0.93594,\n",
       "           0.93694,     0.93794,     0.93894,     0.93994,     0.94094,     0.94194,     0.94294,     0.94394,     0.94494,     0.94595,     0.94695,     0.94795,     0.94895,     0.94995,     0.95095,     0.95195,     0.95295,     0.95395,     0.95495,     0.95596,     0.95696,     0.95796,     0.95896,     0.95996,\n",
       "           0.96096,     0.96196,     0.96296,     0.96396,     0.96496,     0.96597,     0.96697,     0.96797,     0.96897,     0.96997,     0.97097,     0.97197,     0.97297,     0.97397,     0.97497,     0.97598,     0.97698,     0.97798,     0.97898,     0.97998,     0.98098,     0.98198,     0.98298,     0.98398,\n",
       "           0.98498,     0.98599,     0.98699,     0.98799,     0.98899,     0.98999,     0.99099,     0.99199,     0.99299,     0.99399,     0.99499,       0.996,       0.997,       0.998,       0.999,           1]), array([[  0.0066445,   0.0066445,   0.0066445,   0.0068931,    0.019815,    0.019862,     0.01991,    0.019958,    0.020722,    0.030365,    0.081946,     0.14033,     0.20248,      0.2402,     0.31542,     0.43416,     0.50261,     0.51509,     0.52737,     0.53944,     0.55132,     0.56301,     0.57451,\n",
       "            0.58582,     0.59696,     0.60793,     0.61872,     0.62935,     0.63981,     0.65012,     0.66027,     0.68142,     0.72049,      0.7573,     0.79206,     0.82493,     0.85605,     0.88557,      0.9136,     0.94026,     0.96564,     0.98984,           0,           0,           0,           0,\n",
       "                  0,           0,           0,           0,           0,           0,           0,           0,           0,           0,           0,           0,           0,           0,           0,           0,           0,           0,           0,           0,           0,           0,           0,\n",
       "                  0,           0,           0,           0,           0,           0,           0,           0,           0,           0,           0,           0,           0,           0,           0,           0,           0,           0,           0,           0,           0,           0,           0,\n",
       "                  0,           0,           0,           0,           0,           0,           0,           0,           0,           0,           0,           0,           0,           0,           0,           0,           0,           0,           0,           0,           0,           0,           0,\n",
       "                  0,           0,           0,           0,           0,           0,           0,           0,           0,           0,           0,           0,           0,           0,           0,           0,           0,           0,           0,           0,           0,           0,           0,\n",
       "                  0,           0,           0,           0,           0,           0,           0,           0,           0,           0,           0,           0,           0,           0,           0,           0,           0,           0,           0,           0,           0,           0,           0,\n",
       "                  0,           0,           0,           0,           0,           0,           0,           0,           0,           0,           0,           0,           0,           0,           0,           0,           0,           0,           0,           0,           0,           0,           0,\n",
       "                  0,           0,           0,           0,           0,           0,           0,           0,           0,           0,           0,           0,           0,           0,           0,           0,           0,           0,           0,           0,           0,           0,           0,\n",
       "                  0,           0,           0,           0,           0,           0,           0,           0,           0,           0,           0,           0,           0,           0,           0,           0,           0,           0,           0,           0,           0,           0,           0,\n",
       "                  0,           0,           0,           0,           0,           0,           0,           0,           0,           0,           0,           0,           0,           0,           0,           0,           0,           0,           0,           0,           0,           0,           0,\n",
       "                  0,           0,           0,           0,           0,           0,           0,           0,           0,           0,           0,           0,           0,           0,           0,           0,           0,           0,           0,           0,           0,           0,           0,\n",
       "                  0,           0,           0,           0,           0,           0,           0,           0,           0,           0,           0,           0,           0,           0,           0,           0,           0,           0,           0,           0,           0,           0,           0,\n",
       "                  0,           0,           0,           0,           0,           0,           0,           0,           0,           0,           0,           0,           0,           0,           0,           0,           0,           0,           0,           0,           0,           0,           0,\n",
       "                  0,           0,           0,           0,           0,           0,           0,           0,           0,           0,           0,           0,           0,           0,           0,           0,           0,           0,           0,           0,           0,           0,           0,\n",
       "                  0,           0,           0,           0,           0,           0,           0,           0,           0,           0,           0,           0,           0,           0,           0,           0,           0,           0,           0,           0,           0,           0,           0,\n",
       "                  0,           0,           0,           0,           0,           0,           0,           0,           0,           0,           0,           0,           0,           0,           0,           0,           0,           0,           0,           0,           0,           0,           0,\n",
       "                  0,           0,           0,           0,           0,           0,           0,           0,           0,           0,           0,           0,           0,           0,           0,           0,           0,           0,           0,           0,           0,           0,           0,\n",
       "                  0,           0,           0,           0,           0,           0,           0,           0,           0,           0,           0,           0,           0,           0,           0,           0,           0,           0,           0,           0,           0,           0,           0,\n",
       "                  0,           0,           0,           0,           0,           0,           0,           0,           0,           0,           0,           0,           0,           0,           0,           0,           0,           0,           0,           0,           0,           0,           0,\n",
       "                  0,           0,           0,           0,           0,           0,           0,           0,           0,           0,           0,           0,           0,           0,           0,           0,           0,           0,           0,           0,           0,           0,           0,\n",
       "                  0,           0,           0,           0,           0,           0,           0,           0,           0,           0,           0,           0,           0,           0,           0,           0,           0,           0,           0,           0,           0,           0,           0,\n",
       "                  0,           0,           0,           0,           0,           0,           0,           0,           0,           0,           0,           0,           0,           0,           0,           0,           0,           0,           0,           0,           0,           0,           0,\n",
       "                  0,           0,           0,           0,           0,           0,           0,           0,           0,           0,           0,           0,           0,           0,           0,           0,           0,           0,           0,           0,           0,           0,           0,\n",
       "                  0,           0,           0,           0,           0,           0,           0,           0,           0,           0,           0,           0,           0,           0,           0,           0,           0,           0,           0,           0,           0,           0,           0,\n",
       "                  0,           0,           0,           0,           0,           0,           0,           0,           0,           0,           0,           0,           0,           0,           0,           0,           0,           0,           0,           0,           0,           0,           0,\n",
       "                  0,           0,           0,           0,           0,           0,           0,           0,           0,           0,           0,           0,           0,           0,           0,           0,           0,           0,           0,           0,           0,           0,           0,\n",
       "                  0,           0,           0,           0,           0,           0,           0,           0,           0,           0,           0,           0,           0,           0,           0,           0,           0,           0,           0,           0,           0,           0,           0,\n",
       "                  0,           0,           0,           0,           0,           0,           0,           0,           0,           0,           0,           0,           0,           0,           0,           0,           0,           0,           0,           0,           0,           0,           0,\n",
       "                  0,           0,           0,           0,           0,           0,           0,           0,           0,           0,           0,           0,           0,           0,           0,           0,           0,           0,           0,           0,           0,           0,           0,\n",
       "                  0,           0,           0,           0,           0,           0,           0,           0,           0,           0,           0,           0,           0,           0,           0,           0,           0,           0,           0,           0,           0,           0,           0,\n",
       "                  0,           0,           0,           0,           0,           0,           0,           0,           0,           0,           0,           0,           0,           0,           0,           0,           0,           0,           0,           0,           0,           0,           0,\n",
       "                  0,           0,           0,           0,           0,           0,           0,           0,           0,           0,           0,           0,           0,           0,           0,           0,           0,           0,           0,           0,           0,           0,           0,\n",
       "                  0,           0,           0,           0,           0,           0,           0,           0,           0,           0,           0,           0,           0,           0,           0,           0,           0,           0,           0,           0,           0,           0,           0,\n",
       "                  0,           0,           0,           0,           0,           0,           0,           0,           0,           0,           0,           0,           0,           0,           0,           0,           0,           0,           0,           0,           0,           0,           0,\n",
       "                  0,           0,           0,           0,           0,           0,           0,           0,           0,           0,           0,           0,           0,           0,           0,           0,           0,           0,           0,           0,           0,           0,           0,\n",
       "                  0,           0,           0,           0,           0,           0,           0,           0,           0,           0,           0,           0,           0,           0,           0,           0,           0,           0,           0,           0,           0,           0,           0,\n",
       "                  0,           0,           0,           0,           0,           0,           0,           0,           0,           0,           0,           0,           0,           0,           0,           0,           0,           0,           0,           0,           0,           0,           0,\n",
       "                  0,           0,           0,           0,           0,           0,           0,           0,           0,           0,           0,           0,           0,           0,           0,           0,           0,           0,           0,           0,           0,           0,           0,\n",
       "                  0,           0,           0,           0,           0,           0,           0,           0,           0,           0,           0,           0,           0,           0,           0,           0,           0,           0,           0,           0,           0,           0,           0,\n",
       "                  0,           0,           0,           0,           0,           0,           0,           0,           0,           0,           0,           0,           0,           0,           0,           0,           0,           0,           0,           0,           0,           0,           0,\n",
       "                  0,           0,           0,           0,           0,           0,           0,           0,           0,           0,           0,           0,           0,           0,           0,           0,           0,           0,           0,           0,           0,           0,           0,\n",
       "                  0,           0,           0,           0,           0,           0,           0,           0,           0,           0,           0,           0,           0,           0,           0,           0,           0,           0,           0,           0,           0,           0,           0,\n",
       "                  0,           0,           0,           0,           0,           0,           0,           0,           0,           0,           0]]), 'Confidence', 'F1'], [array([          0,    0.001001,    0.002002,    0.003003,    0.004004,    0.005005,    0.006006,    0.007007,    0.008008,    0.009009,     0.01001,    0.011011,    0.012012,    0.013013,    0.014014,    0.015015,    0.016016,    0.017017,    0.018018,    0.019019,     0.02002,    0.021021,    0.022022,    0.023023,\n",
       "          0.024024,    0.025025,    0.026026,    0.027027,    0.028028,    0.029029,     0.03003,    0.031031,    0.032032,    0.033033,    0.034034,    0.035035,    0.036036,    0.037037,    0.038038,    0.039039,     0.04004,    0.041041,    0.042042,    0.043043,    0.044044,    0.045045,    0.046046,    0.047047,\n",
       "          0.048048,    0.049049,     0.05005,    0.051051,    0.052052,    0.053053,    0.054054,    0.055055,    0.056056,    0.057057,    0.058058,    0.059059,     0.06006,    0.061061,    0.062062,    0.063063,    0.064064,    0.065065,    0.066066,    0.067067,    0.068068,    0.069069,     0.07007,    0.071071,\n",
       "          0.072072,    0.073073,    0.074074,    0.075075,    0.076076,    0.077077,    0.078078,    0.079079,     0.08008,    0.081081,    0.082082,    0.083083,    0.084084,    0.085085,    0.086086,    0.087087,    0.088088,    0.089089,     0.09009,    0.091091,    0.092092,    0.093093,    0.094094,    0.095095,\n",
       "          0.096096,    0.097097,    0.098098,    0.099099,      0.1001,      0.1011,      0.1021,      0.1031,      0.1041,     0.10511,     0.10611,     0.10711,     0.10811,     0.10911,     0.11011,     0.11111,     0.11211,     0.11311,     0.11411,     0.11512,     0.11612,     0.11712,     0.11812,     0.11912,\n",
       "           0.12012,     0.12112,     0.12212,     0.12312,     0.12412,     0.12513,     0.12613,     0.12713,     0.12813,     0.12913,     0.13013,     0.13113,     0.13213,     0.13313,     0.13413,     0.13514,     0.13614,     0.13714,     0.13814,     0.13914,     0.14014,     0.14114,     0.14214,     0.14314,\n",
       "           0.14414,     0.14515,     0.14615,     0.14715,     0.14815,     0.14915,     0.15015,     0.15115,     0.15215,     0.15315,     0.15415,     0.15516,     0.15616,     0.15716,     0.15816,     0.15916,     0.16016,     0.16116,     0.16216,     0.16316,     0.16416,     0.16517,     0.16617,     0.16717,\n",
       "           0.16817,     0.16917,     0.17017,     0.17117,     0.17217,     0.17317,     0.17417,     0.17518,     0.17618,     0.17718,     0.17818,     0.17918,     0.18018,     0.18118,     0.18218,     0.18318,     0.18418,     0.18519,     0.18619,     0.18719,     0.18819,     0.18919,     0.19019,     0.19119,\n",
       "           0.19219,     0.19319,     0.19419,      0.1952,      0.1962,      0.1972,      0.1982,      0.1992,      0.2002,      0.2012,      0.2022,      0.2032,      0.2042,     0.20521,     0.20621,     0.20721,     0.20821,     0.20921,     0.21021,     0.21121,     0.21221,     0.21321,     0.21421,     0.21522,\n",
       "           0.21622,     0.21722,     0.21822,     0.21922,     0.22022,     0.22122,     0.22222,     0.22322,     0.22422,     0.22523,     0.22623,     0.22723,     0.22823,     0.22923,     0.23023,     0.23123,     0.23223,     0.23323,     0.23423,     0.23524,     0.23624,     0.23724,     0.23824,     0.23924,\n",
       "           0.24024,     0.24124,     0.24224,     0.24324,     0.24424,     0.24525,     0.24625,     0.24725,     0.24825,     0.24925,     0.25025,     0.25125,     0.25225,     0.25325,     0.25425,     0.25526,     0.25626,     0.25726,     0.25826,     0.25926,     0.26026,     0.26126,     0.26226,     0.26326,\n",
       "           0.26426,     0.26527,     0.26627,     0.26727,     0.26827,     0.26927,     0.27027,     0.27127,     0.27227,     0.27327,     0.27427,     0.27528,     0.27628,     0.27728,     0.27828,     0.27928,     0.28028,     0.28128,     0.28228,     0.28328,     0.28428,     0.28529,     0.28629,     0.28729,\n",
       "           0.28829,     0.28929,     0.29029,     0.29129,     0.29229,     0.29329,     0.29429,      0.2953,      0.2963,      0.2973,      0.2983,      0.2993,      0.3003,      0.3013,      0.3023,      0.3033,      0.3043,     0.30531,     0.30631,     0.30731,     0.30831,     0.30931,     0.31031,     0.31131,\n",
       "           0.31231,     0.31331,     0.31431,     0.31532,     0.31632,     0.31732,     0.31832,     0.31932,     0.32032,     0.32132,     0.32232,     0.32332,     0.32432,     0.32533,     0.32633,     0.32733,     0.32833,     0.32933,     0.33033,     0.33133,     0.33233,     0.33333,     0.33433,     0.33534,\n",
       "           0.33634,     0.33734,     0.33834,     0.33934,     0.34034,     0.34134,     0.34234,     0.34334,     0.34434,     0.34535,     0.34635,     0.34735,     0.34835,     0.34935,     0.35035,     0.35135,     0.35235,     0.35335,     0.35435,     0.35536,     0.35636,     0.35736,     0.35836,     0.35936,\n",
       "           0.36036,     0.36136,     0.36236,     0.36336,     0.36436,     0.36537,     0.36637,     0.36737,     0.36837,     0.36937,     0.37037,     0.37137,     0.37237,     0.37337,     0.37437,     0.37538,     0.37638,     0.37738,     0.37838,     0.37938,     0.38038,     0.38138,     0.38238,     0.38338,\n",
       "           0.38438,     0.38539,     0.38639,     0.38739,     0.38839,     0.38939,     0.39039,     0.39139,     0.39239,     0.39339,     0.39439,      0.3954,      0.3964,      0.3974,      0.3984,      0.3994,      0.4004,      0.4014,      0.4024,      0.4034,      0.4044,     0.40541,     0.40641,     0.40741,\n",
       "           0.40841,     0.40941,     0.41041,     0.41141,     0.41241,     0.41341,     0.41441,     0.41542,     0.41642,     0.41742,     0.41842,     0.41942,     0.42042,     0.42142,     0.42242,     0.42342,     0.42442,     0.42543,     0.42643,     0.42743,     0.42843,     0.42943,     0.43043,     0.43143,\n",
       "           0.43243,     0.43343,     0.43443,     0.43544,     0.43644,     0.43744,     0.43844,     0.43944,     0.44044,     0.44144,     0.44244,     0.44344,     0.44444,     0.44545,     0.44645,     0.44745,     0.44845,     0.44945,     0.45045,     0.45145,     0.45245,     0.45345,     0.45445,     0.45546,\n",
       "           0.45646,     0.45746,     0.45846,     0.45946,     0.46046,     0.46146,     0.46246,     0.46346,     0.46446,     0.46547,     0.46647,     0.46747,     0.46847,     0.46947,     0.47047,     0.47147,     0.47247,     0.47347,     0.47447,     0.47548,     0.47648,     0.47748,     0.47848,     0.47948,\n",
       "           0.48048,     0.48148,     0.48248,     0.48348,     0.48448,     0.48549,     0.48649,     0.48749,     0.48849,     0.48949,     0.49049,     0.49149,     0.49249,     0.49349,     0.49449,      0.4955,      0.4965,      0.4975,      0.4985,      0.4995,      0.5005,      0.5015,      0.5025,      0.5035,\n",
       "            0.5045,     0.50551,     0.50651,     0.50751,     0.50851,     0.50951,     0.51051,     0.51151,     0.51251,     0.51351,     0.51451,     0.51552,     0.51652,     0.51752,     0.51852,     0.51952,     0.52052,     0.52152,     0.52252,     0.52352,     0.52452,     0.52553,     0.52653,     0.52753,\n",
       "           0.52853,     0.52953,     0.53053,     0.53153,     0.53253,     0.53353,     0.53453,     0.53554,     0.53654,     0.53754,     0.53854,     0.53954,     0.54054,     0.54154,     0.54254,     0.54354,     0.54454,     0.54555,     0.54655,     0.54755,     0.54855,     0.54955,     0.55055,     0.55155,\n",
       "           0.55255,     0.55355,     0.55455,     0.55556,     0.55656,     0.55756,     0.55856,     0.55956,     0.56056,     0.56156,     0.56256,     0.56356,     0.56456,     0.56557,     0.56657,     0.56757,     0.56857,     0.56957,     0.57057,     0.57157,     0.57257,     0.57357,     0.57457,     0.57558,\n",
       "           0.57658,     0.57758,     0.57858,     0.57958,     0.58058,     0.58158,     0.58258,     0.58358,     0.58458,     0.58559,     0.58659,     0.58759,     0.58859,     0.58959,     0.59059,     0.59159,     0.59259,     0.59359,     0.59459,      0.5956,      0.5966,      0.5976,      0.5986,      0.5996,\n",
       "            0.6006,      0.6016,      0.6026,      0.6036,      0.6046,     0.60561,     0.60661,     0.60761,     0.60861,     0.60961,     0.61061,     0.61161,     0.61261,     0.61361,     0.61461,     0.61562,     0.61662,     0.61762,     0.61862,     0.61962,     0.62062,     0.62162,     0.62262,     0.62362,\n",
       "           0.62462,     0.62563,     0.62663,     0.62763,     0.62863,     0.62963,     0.63063,     0.63163,     0.63263,     0.63363,     0.63463,     0.63564,     0.63664,     0.63764,     0.63864,     0.63964,     0.64064,     0.64164,     0.64264,     0.64364,     0.64464,     0.64565,     0.64665,     0.64765,\n",
       "           0.64865,     0.64965,     0.65065,     0.65165,     0.65265,     0.65365,     0.65465,     0.65566,     0.65666,     0.65766,     0.65866,     0.65966,     0.66066,     0.66166,     0.66266,     0.66366,     0.66466,     0.66567,     0.66667,     0.66767,     0.66867,     0.66967,     0.67067,     0.67167,\n",
       "           0.67267,     0.67367,     0.67467,     0.67568,     0.67668,     0.67768,     0.67868,     0.67968,     0.68068,     0.68168,     0.68268,     0.68368,     0.68468,     0.68569,     0.68669,     0.68769,     0.68869,     0.68969,     0.69069,     0.69169,     0.69269,     0.69369,     0.69469,      0.6957,\n",
       "            0.6967,      0.6977,      0.6987,      0.6997,      0.7007,      0.7017,      0.7027,      0.7037,      0.7047,     0.70571,     0.70671,     0.70771,     0.70871,     0.70971,     0.71071,     0.71171,     0.71271,     0.71371,     0.71471,     0.71572,     0.71672,     0.71772,     0.71872,     0.71972,\n",
       "           0.72072,     0.72172,     0.72272,     0.72372,     0.72472,     0.72573,     0.72673,     0.72773,     0.72873,     0.72973,     0.73073,     0.73173,     0.73273,     0.73373,     0.73473,     0.73574,     0.73674,     0.73774,     0.73874,     0.73974,     0.74074,     0.74174,     0.74274,     0.74374,\n",
       "           0.74474,     0.74575,     0.74675,     0.74775,     0.74875,     0.74975,     0.75075,     0.75175,     0.75275,     0.75375,     0.75475,     0.75576,     0.75676,     0.75776,     0.75876,     0.75976,     0.76076,     0.76176,     0.76276,     0.76376,     0.76476,     0.76577,     0.76677,     0.76777,\n",
       "           0.76877,     0.76977,     0.77077,     0.77177,     0.77277,     0.77377,     0.77477,     0.77578,     0.77678,     0.77778,     0.77878,     0.77978,     0.78078,     0.78178,     0.78278,     0.78378,     0.78478,     0.78579,     0.78679,     0.78779,     0.78879,     0.78979,     0.79079,     0.79179,\n",
       "           0.79279,     0.79379,     0.79479,      0.7958,      0.7968,      0.7978,      0.7988,      0.7998,      0.8008,      0.8018,      0.8028,      0.8038,      0.8048,     0.80581,     0.80681,     0.80781,     0.80881,     0.80981,     0.81081,     0.81181,     0.81281,     0.81381,     0.81481,     0.81582,\n",
       "           0.81682,     0.81782,     0.81882,     0.81982,     0.82082,     0.82182,     0.82282,     0.82382,     0.82482,     0.82583,     0.82683,     0.82783,     0.82883,     0.82983,     0.83083,     0.83183,     0.83283,     0.83383,     0.83483,     0.83584,     0.83684,     0.83784,     0.83884,     0.83984,\n",
       "           0.84084,     0.84184,     0.84284,     0.84384,     0.84484,     0.84585,     0.84685,     0.84785,     0.84885,     0.84985,     0.85085,     0.85185,     0.85285,     0.85385,     0.85485,     0.85586,     0.85686,     0.85786,     0.85886,     0.85986,     0.86086,     0.86186,     0.86286,     0.86386,\n",
       "           0.86486,     0.86587,     0.86687,     0.86787,     0.86887,     0.86987,     0.87087,     0.87187,     0.87287,     0.87387,     0.87487,     0.87588,     0.87688,     0.87788,     0.87888,     0.87988,     0.88088,     0.88188,     0.88288,     0.88388,     0.88488,     0.88589,     0.88689,     0.88789,\n",
       "           0.88889,     0.88989,     0.89089,     0.89189,     0.89289,     0.89389,     0.89489,      0.8959,      0.8969,      0.8979,      0.8989,      0.8999,      0.9009,      0.9019,      0.9029,      0.9039,      0.9049,     0.90591,     0.90691,     0.90791,     0.90891,     0.90991,     0.91091,     0.91191,\n",
       "           0.91291,     0.91391,     0.91491,     0.91592,     0.91692,     0.91792,     0.91892,     0.91992,     0.92092,     0.92192,     0.92292,     0.92392,     0.92492,     0.92593,     0.92693,     0.92793,     0.92893,     0.92993,     0.93093,     0.93193,     0.93293,     0.93393,     0.93493,     0.93594,\n",
       "           0.93694,     0.93794,     0.93894,     0.93994,     0.94094,     0.94194,     0.94294,     0.94394,     0.94494,     0.94595,     0.94695,     0.94795,     0.94895,     0.94995,     0.95095,     0.95195,     0.95295,     0.95395,     0.95495,     0.95596,     0.95696,     0.95796,     0.95896,     0.95996,\n",
       "           0.96096,     0.96196,     0.96296,     0.96396,     0.96496,     0.96597,     0.96697,     0.96797,     0.96897,     0.96997,     0.97097,     0.97197,     0.97297,     0.97397,     0.97497,     0.97598,     0.97698,     0.97798,     0.97898,     0.97998,     0.98098,     0.98198,     0.98298,     0.98398,\n",
       "           0.98498,     0.98599,     0.98699,     0.98799,     0.98899,     0.98999,     0.99099,     0.99199,     0.99299,     0.99399,     0.99499,       0.996,       0.997,       0.998,       0.999,           1]), array([[  0.0033333,   0.0033333,   0.0033333,   0.0034584,    0.010006,    0.010031,    0.010055,     0.01008,     0.01047,    0.015417,    0.042723,     0.07546,     0.11264,      0.1365,     0.18724,     0.27727,     0.33566,     0.34689,     0.35811,     0.36934,     0.38057,      0.3918,     0.40302,\n",
       "            0.41425,     0.42548,      0.4367,     0.44793,     0.45916,     0.47039,     0.48161,     0.49284,     0.51679,      0.5631,      0.6094,     0.65571,     0.70202,     0.74833,     0.79464,     0.84095,     0.88726,     0.93357,     0.97988,           1,           1,           1,           1,\n",
       "                  1,           1,           1,           1,           1,           1,           1,           1,           1,           1,           1,           1,           1,           1,           1,           1,           1,           1,           1,           1,           1,           1,           1,\n",
       "                  1,           1,           1,           1,           1,           1,           1,           1,           1,           1,           1,           1,           1,           1,           1,           1,           1,           1,           1,           1,           1,           1,           1,\n",
       "                  1,           1,           1,           1,           1,           1,           1,           1,           1,           1,           1,           1,           1,           1,           1,           1,           1,           1,           1,           1,           1,           1,           1,\n",
       "                  1,           1,           1,           1,           1,           1,           1,           1,           1,           1,           1,           1,           1,           1,           1,           1,           1,           1,           1,           1,           1,           1,           1,\n",
       "                  1,           1,           1,           1,           1,           1,           1,           1,           1,           1,           1,           1,           1,           1,           1,           1,           1,           1,           1,           1,           1,           1,           1,\n",
       "                  1,           1,           1,           1,           1,           1,           1,           1,           1,           1,           1,           1,           1,           1,           1,           1,           1,           1,           1,           1,           1,           1,           1,\n",
       "                  1,           1,           1,           1,           1,           1,           1,           1,           1,           1,           1,           1,           1,           1,           1,           1,           1,           1,           1,           1,           1,           1,           1,\n",
       "                  1,           1,           1,           1,           1,           1,           1,           1,           1,           1,           1,           1,           1,           1,           1,           1,           1,           1,           1,           1,           1,           1,           1,\n",
       "                  1,           1,           1,           1,           1,           1,           1,           1,           1,           1,           1,           1,           1,           1,           1,           1,           1,           1,           1,           1,           1,           1,           1,\n",
       "                  1,           1,           1,           1,           1,           1,           1,           1,           1,           1,           1,           1,           1,           1,           1,           1,           1,           1,           1,           1,           1,           1,           1,\n",
       "                  1,           1,           1,           1,           1,           1,           1,           1,           1,           1,           1,           1,           1,           1,           1,           1,           1,           1,           1,           1,           1,           1,           1,\n",
       "                  1,           1,           1,           1,           1,           1,           1,           1,           1,           1,           1,           1,           1,           1,           1,           1,           1,           1,           1,           1,           1,           1,           1,\n",
       "                  1,           1,           1,           1,           1,           1,           1,           1,           1,           1,           1,           1,           1,           1,           1,           1,           1,           1,           1,           1,           1,           1,           1,\n",
       "                  1,           1,           1,           1,           1,           1,           1,           1,           1,           1,           1,           1,           1,           1,           1,           1,           1,           1,           1,           1,           1,           1,           1,\n",
       "                  1,           1,           1,           1,           1,           1,           1,           1,           1,           1,           1,           1,           1,           1,           1,           1,           1,           1,           1,           1,           1,           1,           1,\n",
       "                  1,           1,           1,           1,           1,           1,           1,           1,           1,           1,           1,           1,           1,           1,           1,           1,           1,           1,           1,           1,           1,           1,           1,\n",
       "                  1,           1,           1,           1,           1,           1,           1,           1,           1,           1,           1,           1,           1,           1,           1,           1,           1,           1,           1,           1,           1,           1,           1,\n",
       "                  1,           1,           1,           1,           1,           1,           1,           1,           1,           1,           1,           1,           1,           1,           1,           1,           1,           1,           1,           1,           1,           1,           1,\n",
       "                  1,           1,           1,           1,           1,           1,           1,           1,           1,           1,           1,           1,           1,           1,           1,           1,           1,           1,           1,           1,           1,           1,           1,\n",
       "                  1,           1,           1,           1,           1,           1,           1,           1,           1,           1,           1,           1,           1,           1,           1,           1,           1,           1,           1,           1,           1,           1,           1,\n",
       "                  1,           1,           1,           1,           1,           1,           1,           1,           1,           1,           1,           1,           1,           1,           1,           1,           1,           1,           1,           1,           1,           1,           1,\n",
       "                  1,           1,           1,           1,           1,           1,           1,           1,           1,           1,           1,           1,           1,           1,           1,           1,           1,           1,           1,           1,           1,           1,           1,\n",
       "                  1,           1,           1,           1,           1,           1,           1,           1,           1,           1,           1,           1,           1,           1,           1,           1,           1,           1,           1,           1,           1,           1,           1,\n",
       "                  1,           1,           1,           1,           1,           1,           1,           1,           1,           1,           1,           1,           1,           1,           1,           1,           1,           1,           1,           1,           1,           1,           1,\n",
       "                  1,           1,           1,           1,           1,           1,           1,           1,           1,           1,           1,           1,           1,           1,           1,           1,           1,           1,           1,           1,           1,           1,           1,\n",
       "                  1,           1,           1,           1,           1,           1,           1,           1,           1,           1,           1,           1,           1,           1,           1,           1,           1,           1,           1,           1,           1,           1,           1,\n",
       "                  1,           1,           1,           1,           1,           1,           1,           1,           1,           1,           1,           1,           1,           1,           1,           1,           1,           1,           1,           1,           1,           1,           1,\n",
       "                  1,           1,           1,           1,           1,           1,           1,           1,           1,           1,           1,           1,           1,           1,           1,           1,           1,           1,           1,           1,           1,           1,           1,\n",
       "                  1,           1,           1,           1,           1,           1,           1,           1,           1,           1,           1,           1,           1,           1,           1,           1,           1,           1,           1,           1,           1,           1,           1,\n",
       "                  1,           1,           1,           1,           1,           1,           1,           1,           1,           1,           1,           1,           1,           1,           1,           1,           1,           1,           1,           1,           1,           1,           1,\n",
       "                  1,           1,           1,           1,           1,           1,           1,           1,           1,           1,           1,           1,           1,           1,           1,           1,           1,           1,           1,           1,           1,           1,           1,\n",
       "                  1,           1,           1,           1,           1,           1,           1,           1,           1,           1,           1,           1,           1,           1,           1,           1,           1,           1,           1,           1,           1,           1,           1,\n",
       "                  1,           1,           1,           1,           1,           1,           1,           1,           1,           1,           1,           1,           1,           1,           1,           1,           1,           1,           1,           1,           1,           1,           1,\n",
       "                  1,           1,           1,           1,           1,           1,           1,           1,           1,           1,           1,           1,           1,           1,           1,           1,           1,           1,           1,           1,           1,           1,           1,\n",
       "                  1,           1,           1,           1,           1,           1,           1,           1,           1,           1,           1,           1,           1,           1,           1,           1,           1,           1,           1,           1,           1,           1,           1,\n",
       "                  1,           1,           1,           1,           1,           1,           1,           1,           1,           1,           1,           1,           1,           1,           1,           1,           1,           1,           1,           1,           1,           1,           1,\n",
       "                  1,           1,           1,           1,           1,           1,           1,           1,           1,           1,           1,           1,           1,           1,           1,           1,           1,           1,           1,           1,           1,           1,           1,\n",
       "                  1,           1,           1,           1,           1,           1,           1,           1,           1,           1,           1,           1,           1,           1,           1,           1,           1,           1,           1,           1,           1,           1,           1,\n",
       "                  1,           1,           1,           1,           1,           1,           1,           1,           1,           1,           1,           1,           1,           1,           1,           1,           1,           1,           1,           1,           1,           1,           1,\n",
       "                  1,           1,           1,           1,           1,           1,           1,           1,           1,           1,           1,           1,           1,           1,           1,           1,           1,           1,           1,           1,           1,           1,           1,\n",
       "                  1,           1,           1,           1,           1,           1,           1,           1,           1,           1,           1,           1,           1,           1,           1,           1,           1,           1,           1,           1,           1,           1,           1,\n",
       "                  1,           1,           1,           1,           1,           1,           1,           1,           1,           1,           1]]), 'Confidence', 'Precision'], [array([          0,    0.001001,    0.002002,    0.003003,    0.004004,    0.005005,    0.006006,    0.007007,    0.008008,    0.009009,     0.01001,    0.011011,    0.012012,    0.013013,    0.014014,    0.015015,    0.016016,    0.017017,    0.018018,    0.019019,     0.02002,    0.021021,    0.022022,    0.023023,\n",
       "          0.024024,    0.025025,    0.026026,    0.027027,    0.028028,    0.029029,     0.03003,    0.031031,    0.032032,    0.033033,    0.034034,    0.035035,    0.036036,    0.037037,    0.038038,    0.039039,     0.04004,    0.041041,    0.042042,    0.043043,    0.044044,    0.045045,    0.046046,    0.047047,\n",
       "          0.048048,    0.049049,     0.05005,    0.051051,    0.052052,    0.053053,    0.054054,    0.055055,    0.056056,    0.057057,    0.058058,    0.059059,     0.06006,    0.061061,    0.062062,    0.063063,    0.064064,    0.065065,    0.066066,    0.067067,    0.068068,    0.069069,     0.07007,    0.071071,\n",
       "          0.072072,    0.073073,    0.074074,    0.075075,    0.076076,    0.077077,    0.078078,    0.079079,     0.08008,    0.081081,    0.082082,    0.083083,    0.084084,    0.085085,    0.086086,    0.087087,    0.088088,    0.089089,     0.09009,    0.091091,    0.092092,    0.093093,    0.094094,    0.095095,\n",
       "          0.096096,    0.097097,    0.098098,    0.099099,      0.1001,      0.1011,      0.1021,      0.1031,      0.1041,     0.10511,     0.10611,     0.10711,     0.10811,     0.10911,     0.11011,     0.11111,     0.11211,     0.11311,     0.11411,     0.11512,     0.11612,     0.11712,     0.11812,     0.11912,\n",
       "           0.12012,     0.12112,     0.12212,     0.12312,     0.12412,     0.12513,     0.12613,     0.12713,     0.12813,     0.12913,     0.13013,     0.13113,     0.13213,     0.13313,     0.13413,     0.13514,     0.13614,     0.13714,     0.13814,     0.13914,     0.14014,     0.14114,     0.14214,     0.14314,\n",
       "           0.14414,     0.14515,     0.14615,     0.14715,     0.14815,     0.14915,     0.15015,     0.15115,     0.15215,     0.15315,     0.15415,     0.15516,     0.15616,     0.15716,     0.15816,     0.15916,     0.16016,     0.16116,     0.16216,     0.16316,     0.16416,     0.16517,     0.16617,     0.16717,\n",
       "           0.16817,     0.16917,     0.17017,     0.17117,     0.17217,     0.17317,     0.17417,     0.17518,     0.17618,     0.17718,     0.17818,     0.17918,     0.18018,     0.18118,     0.18218,     0.18318,     0.18418,     0.18519,     0.18619,     0.18719,     0.18819,     0.18919,     0.19019,     0.19119,\n",
       "           0.19219,     0.19319,     0.19419,      0.1952,      0.1962,      0.1972,      0.1982,      0.1992,      0.2002,      0.2012,      0.2022,      0.2032,      0.2042,     0.20521,     0.20621,     0.20721,     0.20821,     0.20921,     0.21021,     0.21121,     0.21221,     0.21321,     0.21421,     0.21522,\n",
       "           0.21622,     0.21722,     0.21822,     0.21922,     0.22022,     0.22122,     0.22222,     0.22322,     0.22422,     0.22523,     0.22623,     0.22723,     0.22823,     0.22923,     0.23023,     0.23123,     0.23223,     0.23323,     0.23423,     0.23524,     0.23624,     0.23724,     0.23824,     0.23924,\n",
       "           0.24024,     0.24124,     0.24224,     0.24324,     0.24424,     0.24525,     0.24625,     0.24725,     0.24825,     0.24925,     0.25025,     0.25125,     0.25225,     0.25325,     0.25425,     0.25526,     0.25626,     0.25726,     0.25826,     0.25926,     0.26026,     0.26126,     0.26226,     0.26326,\n",
       "           0.26426,     0.26527,     0.26627,     0.26727,     0.26827,     0.26927,     0.27027,     0.27127,     0.27227,     0.27327,     0.27427,     0.27528,     0.27628,     0.27728,     0.27828,     0.27928,     0.28028,     0.28128,     0.28228,     0.28328,     0.28428,     0.28529,     0.28629,     0.28729,\n",
       "           0.28829,     0.28929,     0.29029,     0.29129,     0.29229,     0.29329,     0.29429,      0.2953,      0.2963,      0.2973,      0.2983,      0.2993,      0.3003,      0.3013,      0.3023,      0.3033,      0.3043,     0.30531,     0.30631,     0.30731,     0.30831,     0.30931,     0.31031,     0.31131,\n",
       "           0.31231,     0.31331,     0.31431,     0.31532,     0.31632,     0.31732,     0.31832,     0.31932,     0.32032,     0.32132,     0.32232,     0.32332,     0.32432,     0.32533,     0.32633,     0.32733,     0.32833,     0.32933,     0.33033,     0.33133,     0.33233,     0.33333,     0.33433,     0.33534,\n",
       "           0.33634,     0.33734,     0.33834,     0.33934,     0.34034,     0.34134,     0.34234,     0.34334,     0.34434,     0.34535,     0.34635,     0.34735,     0.34835,     0.34935,     0.35035,     0.35135,     0.35235,     0.35335,     0.35435,     0.35536,     0.35636,     0.35736,     0.35836,     0.35936,\n",
       "           0.36036,     0.36136,     0.36236,     0.36336,     0.36436,     0.36537,     0.36637,     0.36737,     0.36837,     0.36937,     0.37037,     0.37137,     0.37237,     0.37337,     0.37437,     0.37538,     0.37638,     0.37738,     0.37838,     0.37938,     0.38038,     0.38138,     0.38238,     0.38338,\n",
       "           0.38438,     0.38539,     0.38639,     0.38739,     0.38839,     0.38939,     0.39039,     0.39139,     0.39239,     0.39339,     0.39439,      0.3954,      0.3964,      0.3974,      0.3984,      0.3994,      0.4004,      0.4014,      0.4024,      0.4034,      0.4044,     0.40541,     0.40641,     0.40741,\n",
       "           0.40841,     0.40941,     0.41041,     0.41141,     0.41241,     0.41341,     0.41441,     0.41542,     0.41642,     0.41742,     0.41842,     0.41942,     0.42042,     0.42142,     0.42242,     0.42342,     0.42442,     0.42543,     0.42643,     0.42743,     0.42843,     0.42943,     0.43043,     0.43143,\n",
       "           0.43243,     0.43343,     0.43443,     0.43544,     0.43644,     0.43744,     0.43844,     0.43944,     0.44044,     0.44144,     0.44244,     0.44344,     0.44444,     0.44545,     0.44645,     0.44745,     0.44845,     0.44945,     0.45045,     0.45145,     0.45245,     0.45345,     0.45445,     0.45546,\n",
       "           0.45646,     0.45746,     0.45846,     0.45946,     0.46046,     0.46146,     0.46246,     0.46346,     0.46446,     0.46547,     0.46647,     0.46747,     0.46847,     0.46947,     0.47047,     0.47147,     0.47247,     0.47347,     0.47447,     0.47548,     0.47648,     0.47748,     0.47848,     0.47948,\n",
       "           0.48048,     0.48148,     0.48248,     0.48348,     0.48448,     0.48549,     0.48649,     0.48749,     0.48849,     0.48949,     0.49049,     0.49149,     0.49249,     0.49349,     0.49449,      0.4955,      0.4965,      0.4975,      0.4985,      0.4995,      0.5005,      0.5015,      0.5025,      0.5035,\n",
       "            0.5045,     0.50551,     0.50651,     0.50751,     0.50851,     0.50951,     0.51051,     0.51151,     0.51251,     0.51351,     0.51451,     0.51552,     0.51652,     0.51752,     0.51852,     0.51952,     0.52052,     0.52152,     0.52252,     0.52352,     0.52452,     0.52553,     0.52653,     0.52753,\n",
       "           0.52853,     0.52953,     0.53053,     0.53153,     0.53253,     0.53353,     0.53453,     0.53554,     0.53654,     0.53754,     0.53854,     0.53954,     0.54054,     0.54154,     0.54254,     0.54354,     0.54454,     0.54555,     0.54655,     0.54755,     0.54855,     0.54955,     0.55055,     0.55155,\n",
       "           0.55255,     0.55355,     0.55455,     0.55556,     0.55656,     0.55756,     0.55856,     0.55956,     0.56056,     0.56156,     0.56256,     0.56356,     0.56456,     0.56557,     0.56657,     0.56757,     0.56857,     0.56957,     0.57057,     0.57157,     0.57257,     0.57357,     0.57457,     0.57558,\n",
       "           0.57658,     0.57758,     0.57858,     0.57958,     0.58058,     0.58158,     0.58258,     0.58358,     0.58458,     0.58559,     0.58659,     0.58759,     0.58859,     0.58959,     0.59059,     0.59159,     0.59259,     0.59359,     0.59459,      0.5956,      0.5966,      0.5976,      0.5986,      0.5996,\n",
       "            0.6006,      0.6016,      0.6026,      0.6036,      0.6046,     0.60561,     0.60661,     0.60761,     0.60861,     0.60961,     0.61061,     0.61161,     0.61261,     0.61361,     0.61461,     0.61562,     0.61662,     0.61762,     0.61862,     0.61962,     0.62062,     0.62162,     0.62262,     0.62362,\n",
       "           0.62462,     0.62563,     0.62663,     0.62763,     0.62863,     0.62963,     0.63063,     0.63163,     0.63263,     0.63363,     0.63463,     0.63564,     0.63664,     0.63764,     0.63864,     0.63964,     0.64064,     0.64164,     0.64264,     0.64364,     0.64464,     0.64565,     0.64665,     0.64765,\n",
       "           0.64865,     0.64965,     0.65065,     0.65165,     0.65265,     0.65365,     0.65465,     0.65566,     0.65666,     0.65766,     0.65866,     0.65966,     0.66066,     0.66166,     0.66266,     0.66366,     0.66466,     0.66567,     0.66667,     0.66767,     0.66867,     0.66967,     0.67067,     0.67167,\n",
       "           0.67267,     0.67367,     0.67467,     0.67568,     0.67668,     0.67768,     0.67868,     0.67968,     0.68068,     0.68168,     0.68268,     0.68368,     0.68468,     0.68569,     0.68669,     0.68769,     0.68869,     0.68969,     0.69069,     0.69169,     0.69269,     0.69369,     0.69469,      0.6957,\n",
       "            0.6967,      0.6977,      0.6987,      0.6997,      0.7007,      0.7017,      0.7027,      0.7037,      0.7047,     0.70571,     0.70671,     0.70771,     0.70871,     0.70971,     0.71071,     0.71171,     0.71271,     0.71371,     0.71471,     0.71572,     0.71672,     0.71772,     0.71872,     0.71972,\n",
       "           0.72072,     0.72172,     0.72272,     0.72372,     0.72472,     0.72573,     0.72673,     0.72773,     0.72873,     0.72973,     0.73073,     0.73173,     0.73273,     0.73373,     0.73473,     0.73574,     0.73674,     0.73774,     0.73874,     0.73974,     0.74074,     0.74174,     0.74274,     0.74374,\n",
       "           0.74474,     0.74575,     0.74675,     0.74775,     0.74875,     0.74975,     0.75075,     0.75175,     0.75275,     0.75375,     0.75475,     0.75576,     0.75676,     0.75776,     0.75876,     0.75976,     0.76076,     0.76176,     0.76276,     0.76376,     0.76476,     0.76577,     0.76677,     0.76777,\n",
       "           0.76877,     0.76977,     0.77077,     0.77177,     0.77277,     0.77377,     0.77477,     0.77578,     0.77678,     0.77778,     0.77878,     0.77978,     0.78078,     0.78178,     0.78278,     0.78378,     0.78478,     0.78579,     0.78679,     0.78779,     0.78879,     0.78979,     0.79079,     0.79179,\n",
       "           0.79279,     0.79379,     0.79479,      0.7958,      0.7968,      0.7978,      0.7988,      0.7998,      0.8008,      0.8018,      0.8028,      0.8038,      0.8048,     0.80581,     0.80681,     0.80781,     0.80881,     0.80981,     0.81081,     0.81181,     0.81281,     0.81381,     0.81481,     0.81582,\n",
       "           0.81682,     0.81782,     0.81882,     0.81982,     0.82082,     0.82182,     0.82282,     0.82382,     0.82482,     0.82583,     0.82683,     0.82783,     0.82883,     0.82983,     0.83083,     0.83183,     0.83283,     0.83383,     0.83483,     0.83584,     0.83684,     0.83784,     0.83884,     0.83984,\n",
       "           0.84084,     0.84184,     0.84284,     0.84384,     0.84484,     0.84585,     0.84685,     0.84785,     0.84885,     0.84985,     0.85085,     0.85185,     0.85285,     0.85385,     0.85485,     0.85586,     0.85686,     0.85786,     0.85886,     0.85986,     0.86086,     0.86186,     0.86286,     0.86386,\n",
       "           0.86486,     0.86587,     0.86687,     0.86787,     0.86887,     0.86987,     0.87087,     0.87187,     0.87287,     0.87387,     0.87487,     0.87588,     0.87688,     0.87788,     0.87888,     0.87988,     0.88088,     0.88188,     0.88288,     0.88388,     0.88488,     0.88589,     0.88689,     0.88789,\n",
       "           0.88889,     0.88989,     0.89089,     0.89189,     0.89289,     0.89389,     0.89489,      0.8959,      0.8969,      0.8979,      0.8989,      0.8999,      0.9009,      0.9019,      0.9029,      0.9039,      0.9049,     0.90591,     0.90691,     0.90791,     0.90891,     0.90991,     0.91091,     0.91191,\n",
       "           0.91291,     0.91391,     0.91491,     0.91592,     0.91692,     0.91792,     0.91892,     0.91992,     0.92092,     0.92192,     0.92292,     0.92392,     0.92492,     0.92593,     0.92693,     0.92793,     0.92893,     0.92993,     0.93093,     0.93193,     0.93293,     0.93393,     0.93493,     0.93594,\n",
       "           0.93694,     0.93794,     0.93894,     0.93994,     0.94094,     0.94194,     0.94294,     0.94394,     0.94494,     0.94595,     0.94695,     0.94795,     0.94895,     0.94995,     0.95095,     0.95195,     0.95295,     0.95395,     0.95495,     0.95596,     0.95696,     0.95796,     0.95896,     0.95996,\n",
       "           0.96096,     0.96196,     0.96296,     0.96396,     0.96496,     0.96597,     0.96697,     0.96797,     0.96897,     0.96997,     0.97097,     0.97197,     0.97297,     0.97397,     0.97497,     0.97598,     0.97698,     0.97798,     0.97898,     0.97998,     0.98098,     0.98198,     0.98298,     0.98398,\n",
       "           0.98498,     0.98599,     0.98699,     0.98799,     0.98899,     0.98999,     0.99099,     0.99199,     0.99299,     0.99399,     0.99499,       0.996,       0.997,       0.998,       0.999,           1]), array([[          1,           1,           1,           1,           1,           1,           1,           1,           1,           1,           1,           1,           1,           1,           1,           1,           1,           1,           1,           1,           1,           1,           1,\n",
       "                  1,           1,           1,           1,           1,           1,           1,           1,           1,           1,           1,           1,           1,           1,           1,           1,           1,           1,           1,           0,           0,           0,           0,\n",
       "                  0,           0,           0,           0,           0,           0,           0,           0,           0,           0,           0,           0,           0,           0,           0,           0,           0,           0,           0,           0,           0,           0,           0,\n",
       "                  0,           0,           0,           0,           0,           0,           0,           0,           0,           0,           0,           0,           0,           0,           0,           0,           0,           0,           0,           0,           0,           0,           0,\n",
       "                  0,           0,           0,           0,           0,           0,           0,           0,           0,           0,           0,           0,           0,           0,           0,           0,           0,           0,           0,           0,           0,           0,           0,\n",
       "                  0,           0,           0,           0,           0,           0,           0,           0,           0,           0,           0,           0,           0,           0,           0,           0,           0,           0,           0,           0,           0,           0,           0,\n",
       "                  0,           0,           0,           0,           0,           0,           0,           0,           0,           0,           0,           0,           0,           0,           0,           0,           0,           0,           0,           0,           0,           0,           0,\n",
       "                  0,           0,           0,           0,           0,           0,           0,           0,           0,           0,           0,           0,           0,           0,           0,           0,           0,           0,           0,           0,           0,           0,           0,\n",
       "                  0,           0,           0,           0,           0,           0,           0,           0,           0,           0,           0,           0,           0,           0,           0,           0,           0,           0,           0,           0,           0,           0,           0,\n",
       "                  0,           0,           0,           0,           0,           0,           0,           0,           0,           0,           0,           0,           0,           0,           0,           0,           0,           0,           0,           0,           0,           0,           0,\n",
       "                  0,           0,           0,           0,           0,           0,           0,           0,           0,           0,           0,           0,           0,           0,           0,           0,           0,           0,           0,           0,           0,           0,           0,\n",
       "                  0,           0,           0,           0,           0,           0,           0,           0,           0,           0,           0,           0,           0,           0,           0,           0,           0,           0,           0,           0,           0,           0,           0,\n",
       "                  0,           0,           0,           0,           0,           0,           0,           0,           0,           0,           0,           0,           0,           0,           0,           0,           0,           0,           0,           0,           0,           0,           0,\n",
       "                  0,           0,           0,           0,           0,           0,           0,           0,           0,           0,           0,           0,           0,           0,           0,           0,           0,           0,           0,           0,           0,           0,           0,\n",
       "                  0,           0,           0,           0,           0,           0,           0,           0,           0,           0,           0,           0,           0,           0,           0,           0,           0,           0,           0,           0,           0,           0,           0,\n",
       "                  0,           0,           0,           0,           0,           0,           0,           0,           0,           0,           0,           0,           0,           0,           0,           0,           0,           0,           0,           0,           0,           0,           0,\n",
       "                  0,           0,           0,           0,           0,           0,           0,           0,           0,           0,           0,           0,           0,           0,           0,           0,           0,           0,           0,           0,           0,           0,           0,\n",
       "                  0,           0,           0,           0,           0,           0,           0,           0,           0,           0,           0,           0,           0,           0,           0,           0,           0,           0,           0,           0,           0,           0,           0,\n",
       "                  0,           0,           0,           0,           0,           0,           0,           0,           0,           0,           0,           0,           0,           0,           0,           0,           0,           0,           0,           0,           0,           0,           0,\n",
       "                  0,           0,           0,           0,           0,           0,           0,           0,           0,           0,           0,           0,           0,           0,           0,           0,           0,           0,           0,           0,           0,           0,           0,\n",
       "                  0,           0,           0,           0,           0,           0,           0,           0,           0,           0,           0,           0,           0,           0,           0,           0,           0,           0,           0,           0,           0,           0,           0,\n",
       "                  0,           0,           0,           0,           0,           0,           0,           0,           0,           0,           0,           0,           0,           0,           0,           0,           0,           0,           0,           0,           0,           0,           0,\n",
       "                  0,           0,           0,           0,           0,           0,           0,           0,           0,           0,           0,           0,           0,           0,           0,           0,           0,           0,           0,           0,           0,           0,           0,\n",
       "                  0,           0,           0,           0,           0,           0,           0,           0,           0,           0,           0,           0,           0,           0,           0,           0,           0,           0,           0,           0,           0,           0,           0,\n",
       "                  0,           0,           0,           0,           0,           0,           0,           0,           0,           0,           0,           0,           0,           0,           0,           0,           0,           0,           0,           0,           0,           0,           0,\n",
       "                  0,           0,           0,           0,           0,           0,           0,           0,           0,           0,           0,           0,           0,           0,           0,           0,           0,           0,           0,           0,           0,           0,           0,\n",
       "                  0,           0,           0,           0,           0,           0,           0,           0,           0,           0,           0,           0,           0,           0,           0,           0,           0,           0,           0,           0,           0,           0,           0,\n",
       "                  0,           0,           0,           0,           0,           0,           0,           0,           0,           0,           0,           0,           0,           0,           0,           0,           0,           0,           0,           0,           0,           0,           0,\n",
       "                  0,           0,           0,           0,           0,           0,           0,           0,           0,           0,           0,           0,           0,           0,           0,           0,           0,           0,           0,           0,           0,           0,           0,\n",
       "                  0,           0,           0,           0,           0,           0,           0,           0,           0,           0,           0,           0,           0,           0,           0,           0,           0,           0,           0,           0,           0,           0,           0,\n",
       "                  0,           0,           0,           0,           0,           0,           0,           0,           0,           0,           0,           0,           0,           0,           0,           0,           0,           0,           0,           0,           0,           0,           0,\n",
       "                  0,           0,           0,           0,           0,           0,           0,           0,           0,           0,           0,           0,           0,           0,           0,           0,           0,           0,           0,           0,           0,           0,           0,\n",
       "                  0,           0,           0,           0,           0,           0,           0,           0,           0,           0,           0,           0,           0,           0,           0,           0,           0,           0,           0,           0,           0,           0,           0,\n",
       "                  0,           0,           0,           0,           0,           0,           0,           0,           0,           0,           0,           0,           0,           0,           0,           0,           0,           0,           0,           0,           0,           0,           0,\n",
       "                  0,           0,           0,           0,           0,           0,           0,           0,           0,           0,           0,           0,           0,           0,           0,           0,           0,           0,           0,           0,           0,           0,           0,\n",
       "                  0,           0,           0,           0,           0,           0,           0,           0,           0,           0,           0,           0,           0,           0,           0,           0,           0,           0,           0,           0,           0,           0,           0,\n",
       "                  0,           0,           0,           0,           0,           0,           0,           0,           0,           0,           0,           0,           0,           0,           0,           0,           0,           0,           0,           0,           0,           0,           0,\n",
       "                  0,           0,           0,           0,           0,           0,           0,           0,           0,           0,           0,           0,           0,           0,           0,           0,           0,           0,           0,           0,           0,           0,           0,\n",
       "                  0,           0,           0,           0,           0,           0,           0,           0,           0,           0,           0,           0,           0,           0,           0,           0,           0,           0,           0,           0,           0,           0,           0,\n",
       "                  0,           0,           0,           0,           0,           0,           0,           0,           0,           0,           0,           0,           0,           0,           0,           0,           0,           0,           0,           0,           0,           0,           0,\n",
       "                  0,           0,           0,           0,           0,           0,           0,           0,           0,           0,           0,           0,           0,           0,           0,           0,           0,           0,           0,           0,           0,           0,           0,\n",
       "                  0,           0,           0,           0,           0,           0,           0,           0,           0,           0,           0,           0,           0,           0,           0,           0,           0,           0,           0,           0,           0,           0,           0,\n",
       "                  0,           0,           0,           0,           0,           0,           0,           0,           0,           0,           0,           0,           0,           0,           0,           0,           0,           0,           0,           0,           0,           0,           0,\n",
       "                  0,           0,           0,           0,           0,           0,           0,           0,           0,           0,           0]]), 'Confidence', 'Recall']]\n",
       "fitness: 0.90545\n",
       "keys: ['metrics/precision(B)', 'metrics/recall(B)', 'metrics/mAP50(B)', 'metrics/mAP50-95(B)']\n",
       "maps: array([     0.8955])\n",
       "names: {0: 'Fork_Lift'}\n",
       "plot: True\n",
       "results_dict: {'metrics/precision(B)': 0.0033333333333333335, 'metrics/recall(B)': 1.0, 'metrics/mAP50(B)': 0.995, 'metrics/mAP50-95(B)': 0.8955, 'fitness': 0.90545}\n",
       "save_dir: WindowsPath('runs/detect/train2')\n",
       "speed: {'preprocess': 4.002809524536133, 'inference': 305.85432052612305, 'loss': 0.0, 'postprocess': 10.004758834838867}\n",
       "task: 'detect'"
      ]
     },
     "execution_count": 32,
     "metadata": {},
     "output_type": "execute_result"
    }
   ],
   "source": [
    "model.train(data='data.yaml',epochs=60)"
   ]
  },
  {
   "cell_type": "markdown",
   "id": "e9c6645d-0d1b-4491-9416-f1eb48517bd7",
   "metadata": {},
   "source": [
    "## main image"
   ]
  },
  {
   "cell_type": "code",
   "execution_count": 40,
   "id": "196bd288-b4fd-40da-9059-b5e7c9e25c3b",
   "metadata": {},
   "outputs": [
    {
     "ename": "FileNotFoundError",
     "evalue": "[Errno 2] No such file or directory: 'best2.pt'",
     "output_type": "error",
     "traceback": [
      "\u001b[1;31m---------------------------------------------------------------------------\u001b[0m",
      "\u001b[1;31mFileNotFoundError\u001b[0m                         Traceback (most recent call last)",
      "Cell \u001b[1;32mIn[40], line 21\u001b[0m\n\u001b[0;32m     18\u001b[0m image_rgb \u001b[38;5;241m=\u001b[39m cv2\u001b[38;5;241m.\u001b[39mcvtColor(image, cv2\u001b[38;5;241m.\u001b[39mCOLOR_BGR2RGB)\n\u001b[0;32m     20\u001b[0m \u001b[38;5;66;03m# Initialize the trained YOLO model for stop sign detection\u001b[39;00m\n\u001b[1;32m---> 21\u001b[0m model_trained \u001b[38;5;241m=\u001b[39m YOLO(\u001b[38;5;124m'\u001b[39m\u001b[38;5;124mbest2.pt\u001b[39m\u001b[38;5;124m'\u001b[39m)\n\u001b[0;32m     23\u001b[0m \u001b[38;5;66;03m# Perform object detection on the image\u001b[39;00m\n\u001b[0;32m     24\u001b[0m results \u001b[38;5;241m=\u001b[39m model_trained\u001b[38;5;241m.\u001b[39mpredict(image)\n",
      "File \u001b[1;32m~\\AppData\\Local\\anaconda3\\envs\\cvan\\Lib\\site-packages\\ultralytics\\models\\yolo\\model.py:23\u001b[0m, in \u001b[0;36mYOLO.__init__\u001b[1;34m(self, model, task, verbose)\u001b[0m\n\u001b[0;32m     20\u001b[0m     \u001b[38;5;28mself\u001b[39m\u001b[38;5;241m.\u001b[39m\u001b[38;5;18m__dict__\u001b[39m \u001b[38;5;241m=\u001b[39m new_instance\u001b[38;5;241m.\u001b[39m\u001b[38;5;18m__dict__\u001b[39m\n\u001b[0;32m     21\u001b[0m \u001b[38;5;28;01melse\u001b[39;00m:\n\u001b[0;32m     22\u001b[0m     \u001b[38;5;66;03m# Continue with default YOLO initialization\u001b[39;00m\n\u001b[1;32m---> 23\u001b[0m     \u001b[38;5;28msuper\u001b[39m()\u001b[38;5;241m.\u001b[39m\u001b[38;5;21m__init__\u001b[39m(model\u001b[38;5;241m=\u001b[39mmodel, task\u001b[38;5;241m=\u001b[39mtask, verbose\u001b[38;5;241m=\u001b[39mverbose)\n",
      "File \u001b[1;32m~\\AppData\\Local\\anaconda3\\envs\\cvan\\Lib\\site-packages\\ultralytics\\engine\\model.py:141\u001b[0m, in \u001b[0;36mModel.__init__\u001b[1;34m(self, model, task, verbose)\u001b[0m\n\u001b[0;32m    139\u001b[0m     \u001b[38;5;28mself\u001b[39m\u001b[38;5;241m.\u001b[39m_new(model, task\u001b[38;5;241m=\u001b[39mtask, verbose\u001b[38;5;241m=\u001b[39mverbose)\n\u001b[0;32m    140\u001b[0m \u001b[38;5;28;01melse\u001b[39;00m:\n\u001b[1;32m--> 141\u001b[0m     \u001b[38;5;28mself\u001b[39m\u001b[38;5;241m.\u001b[39m_load(model, task\u001b[38;5;241m=\u001b[39mtask)\n",
      "File \u001b[1;32m~\\AppData\\Local\\anaconda3\\envs\\cvan\\Lib\\site-packages\\ultralytics\\engine\\model.py:230\u001b[0m, in \u001b[0;36mModel._load\u001b[1;34m(self, weights, task)\u001b[0m\n\u001b[0;32m    227\u001b[0m weights \u001b[38;5;241m=\u001b[39m checks\u001b[38;5;241m.\u001b[39mcheck_model_file_from_stem(weights)  \u001b[38;5;66;03m# add suffix, i.e. yolov8n -> yolov8n.pt\u001b[39;00m\n\u001b[0;32m    229\u001b[0m \u001b[38;5;28;01mif\u001b[39;00m Path(weights)\u001b[38;5;241m.\u001b[39msuffix \u001b[38;5;241m==\u001b[39m \u001b[38;5;124m\"\u001b[39m\u001b[38;5;124m.pt\u001b[39m\u001b[38;5;124m\"\u001b[39m:\n\u001b[1;32m--> 230\u001b[0m     \u001b[38;5;28mself\u001b[39m\u001b[38;5;241m.\u001b[39mmodel, \u001b[38;5;28mself\u001b[39m\u001b[38;5;241m.\u001b[39mckpt \u001b[38;5;241m=\u001b[39m attempt_load_one_weight(weights)\n\u001b[0;32m    231\u001b[0m     \u001b[38;5;28mself\u001b[39m\u001b[38;5;241m.\u001b[39mtask \u001b[38;5;241m=\u001b[39m \u001b[38;5;28mself\u001b[39m\u001b[38;5;241m.\u001b[39mmodel\u001b[38;5;241m.\u001b[39margs[\u001b[38;5;124m\"\u001b[39m\u001b[38;5;124mtask\u001b[39m\u001b[38;5;124m\"\u001b[39m]\n\u001b[0;32m    232\u001b[0m     \u001b[38;5;28mself\u001b[39m\u001b[38;5;241m.\u001b[39moverrides \u001b[38;5;241m=\u001b[39m \u001b[38;5;28mself\u001b[39m\u001b[38;5;241m.\u001b[39mmodel\u001b[38;5;241m.\u001b[39margs \u001b[38;5;241m=\u001b[39m \u001b[38;5;28mself\u001b[39m\u001b[38;5;241m.\u001b[39m_reset_ckpt_args(\u001b[38;5;28mself\u001b[39m\u001b[38;5;241m.\u001b[39mmodel\u001b[38;5;241m.\u001b[39margs)\n",
      "File \u001b[1;32m~\\AppData\\Local\\anaconda3\\envs\\cvan\\Lib\\site-packages\\ultralytics\\nn\\tasks.py:790\u001b[0m, in \u001b[0;36mattempt_load_one_weight\u001b[1;34m(weight, device, inplace, fuse)\u001b[0m\n\u001b[0;32m    788\u001b[0m \u001b[38;5;28;01mdef\u001b[39;00m \u001b[38;5;21mattempt_load_one_weight\u001b[39m(weight, device\u001b[38;5;241m=\u001b[39m\u001b[38;5;28;01mNone\u001b[39;00m, inplace\u001b[38;5;241m=\u001b[39m\u001b[38;5;28;01mTrue\u001b[39;00m, fuse\u001b[38;5;241m=\u001b[39m\u001b[38;5;28;01mFalse\u001b[39;00m):\n\u001b[0;32m    789\u001b[0m \u001b[38;5;250m    \u001b[39m\u001b[38;5;124;03m\"\"\"Loads a single model weights.\"\"\"\u001b[39;00m\n\u001b[1;32m--> 790\u001b[0m     ckpt, weight \u001b[38;5;241m=\u001b[39m torch_safe_load(weight)  \u001b[38;5;66;03m# load ckpt\u001b[39;00m\n\u001b[0;32m    791\u001b[0m     args \u001b[38;5;241m=\u001b[39m {\u001b[38;5;241m*\u001b[39m\u001b[38;5;241m*\u001b[39mDEFAULT_CFG_DICT, \u001b[38;5;241m*\u001b[39m\u001b[38;5;241m*\u001b[39m(ckpt\u001b[38;5;241m.\u001b[39mget(\u001b[38;5;124m\"\u001b[39m\u001b[38;5;124mtrain_args\u001b[39m\u001b[38;5;124m\"\u001b[39m, {}))}  \u001b[38;5;66;03m# combine model and default args, preferring model args\u001b[39;00m\n\u001b[0;32m    792\u001b[0m     model \u001b[38;5;241m=\u001b[39m (ckpt\u001b[38;5;241m.\u001b[39mget(\u001b[38;5;124m\"\u001b[39m\u001b[38;5;124mema\u001b[39m\u001b[38;5;124m\"\u001b[39m) \u001b[38;5;129;01mor\u001b[39;00m ckpt[\u001b[38;5;124m\"\u001b[39m\u001b[38;5;124mmodel\u001b[39m\u001b[38;5;124m\"\u001b[39m])\u001b[38;5;241m.\u001b[39mto(device)\u001b[38;5;241m.\u001b[39mfloat()  \u001b[38;5;66;03m# FP32 model\u001b[39;00m\n",
      "File \u001b[1;32m~\\AppData\\Local\\anaconda3\\envs\\cvan\\Lib\\site-packages\\ultralytics\\nn\\tasks.py:716\u001b[0m, in \u001b[0;36mtorch_safe_load\u001b[1;34m(weight)\u001b[0m\n\u001b[0;32m    708\u001b[0m \u001b[38;5;28;01mtry\u001b[39;00m:\n\u001b[0;32m    709\u001b[0m     \u001b[38;5;28;01mwith\u001b[39;00m temporary_modules(\n\u001b[0;32m    710\u001b[0m         {\n\u001b[0;32m    711\u001b[0m             \u001b[38;5;124m\"\u001b[39m\u001b[38;5;124multralytics.yolo.utils\u001b[39m\u001b[38;5;124m\"\u001b[39m: \u001b[38;5;124m\"\u001b[39m\u001b[38;5;124multralytics.utils\u001b[39m\u001b[38;5;124m\"\u001b[39m,\n\u001b[1;32m   (...)\u001b[0m\n\u001b[0;32m    714\u001b[0m         }\n\u001b[0;32m    715\u001b[0m     ):  \u001b[38;5;66;03m# for legacy 8.0 Classify and Pose models\u001b[39;00m\n\u001b[1;32m--> 716\u001b[0m         ckpt \u001b[38;5;241m=\u001b[39m torch\u001b[38;5;241m.\u001b[39mload(file, map_location\u001b[38;5;241m=\u001b[39m\u001b[38;5;124m\"\u001b[39m\u001b[38;5;124mcpu\u001b[39m\u001b[38;5;124m\"\u001b[39m)\n\u001b[0;32m    718\u001b[0m \u001b[38;5;28;01mexcept\u001b[39;00m \u001b[38;5;167;01mModuleNotFoundError\u001b[39;00m \u001b[38;5;28;01mas\u001b[39;00m e:  \u001b[38;5;66;03m# e.name is missing module name\u001b[39;00m\n\u001b[0;32m    719\u001b[0m     \u001b[38;5;28;01mif\u001b[39;00m e\u001b[38;5;241m.\u001b[39mname \u001b[38;5;241m==\u001b[39m \u001b[38;5;124m\"\u001b[39m\u001b[38;5;124mmodels\u001b[39m\u001b[38;5;124m\"\u001b[39m:\n",
      "File \u001b[1;32m~\\AppData\\Local\\anaconda3\\envs\\cvan\\Lib\\site-packages\\torch\\serialization.py:998\u001b[0m, in \u001b[0;36mload\u001b[1;34m(f, map_location, pickle_module, weights_only, mmap, **pickle_load_args)\u001b[0m\n\u001b[0;32m    995\u001b[0m \u001b[38;5;28;01mif\u001b[39;00m \u001b[38;5;124m'\u001b[39m\u001b[38;5;124mencoding\u001b[39m\u001b[38;5;124m'\u001b[39m \u001b[38;5;129;01mnot\u001b[39;00m \u001b[38;5;129;01min\u001b[39;00m pickle_load_args\u001b[38;5;241m.\u001b[39mkeys():\n\u001b[0;32m    996\u001b[0m     pickle_load_args[\u001b[38;5;124m'\u001b[39m\u001b[38;5;124mencoding\u001b[39m\u001b[38;5;124m'\u001b[39m] \u001b[38;5;241m=\u001b[39m \u001b[38;5;124m'\u001b[39m\u001b[38;5;124mutf-8\u001b[39m\u001b[38;5;124m'\u001b[39m\n\u001b[1;32m--> 998\u001b[0m \u001b[38;5;28;01mwith\u001b[39;00m _open_file_like(f, \u001b[38;5;124m'\u001b[39m\u001b[38;5;124mrb\u001b[39m\u001b[38;5;124m'\u001b[39m) \u001b[38;5;28;01mas\u001b[39;00m opened_file:\n\u001b[0;32m    999\u001b[0m     \u001b[38;5;28;01mif\u001b[39;00m _is_zipfile(opened_file):\n\u001b[0;32m   1000\u001b[0m         \u001b[38;5;66;03m# The zipfile reader is going to advance the current file position.\u001b[39;00m\n\u001b[0;32m   1001\u001b[0m         \u001b[38;5;66;03m# If we want to actually tail call to torch.jit.load, we need to\u001b[39;00m\n\u001b[0;32m   1002\u001b[0m         \u001b[38;5;66;03m# reset back to the original position.\u001b[39;00m\n\u001b[0;32m   1003\u001b[0m         orig_position \u001b[38;5;241m=\u001b[39m opened_file\u001b[38;5;241m.\u001b[39mtell()\n",
      "File \u001b[1;32m~\\AppData\\Local\\anaconda3\\envs\\cvan\\Lib\\site-packages\\torch\\serialization.py:445\u001b[0m, in \u001b[0;36m_open_file_like\u001b[1;34m(name_or_buffer, mode)\u001b[0m\n\u001b[0;32m    443\u001b[0m \u001b[38;5;28;01mdef\u001b[39;00m \u001b[38;5;21m_open_file_like\u001b[39m(name_or_buffer, mode):\n\u001b[0;32m    444\u001b[0m     \u001b[38;5;28;01mif\u001b[39;00m _is_path(name_or_buffer):\n\u001b[1;32m--> 445\u001b[0m         \u001b[38;5;28;01mreturn\u001b[39;00m _open_file(name_or_buffer, mode)\n\u001b[0;32m    446\u001b[0m     \u001b[38;5;28;01melse\u001b[39;00m:\n\u001b[0;32m    447\u001b[0m         \u001b[38;5;28;01mif\u001b[39;00m \u001b[38;5;124m'\u001b[39m\u001b[38;5;124mw\u001b[39m\u001b[38;5;124m'\u001b[39m \u001b[38;5;129;01min\u001b[39;00m mode:\n",
      "File \u001b[1;32m~\\AppData\\Local\\anaconda3\\envs\\cvan\\Lib\\site-packages\\torch\\serialization.py:426\u001b[0m, in \u001b[0;36m_open_file.__init__\u001b[1;34m(self, name, mode)\u001b[0m\n\u001b[0;32m    425\u001b[0m \u001b[38;5;28;01mdef\u001b[39;00m \u001b[38;5;21m__init__\u001b[39m(\u001b[38;5;28mself\u001b[39m, name, mode):\n\u001b[1;32m--> 426\u001b[0m     \u001b[38;5;28msuper\u001b[39m()\u001b[38;5;241m.\u001b[39m\u001b[38;5;21m__init__\u001b[39m(\u001b[38;5;28mopen\u001b[39m(name, mode))\n",
      "\u001b[1;31mFileNotFoundError\u001b[0m: [Errno 2] No such file or directory: 'best2.pt'"
     ]
    }
   ],
   "source": [
    "import os \n",
    "os.environ[\"KMP_DUPLICATE_LIB_OK\"] = \"TRUE\"\n",
    "\n",
    "import cv2\n",
    "import matplotlib.pyplot as plt\n",
    "from ultralytics import YOLO\n",
    "\n",
    "def get_box_dimensions(results):\n",
    "    box_dimensions = []\n",
    "    for box, box2 in zip(results[0].boxes.xyxy, results[0].boxes.xywh):\n",
    "        box_dimensions.append([box[0].item(), box[1].item(), box2[2].item(), box2[3].item()])\n",
    "    return box_dimensions\n",
    "\n",
    "# Load the image\n",
    "image = cv2.imread('image_598.jpg')\n",
    "\n",
    "# Convert the color space from BGR to RGB\n",
    "image_rgb = cv2.cvtColor(image, cv2.COLOR_BGR2RGB)\n",
    "\n",
    "# Initialize the trained YOLO model for stop sign detection\n",
    "model_trained = YOLO('best2.pt')\n",
    "\n",
    "# Perform object detection on the image\n",
    "results = model_trained.predict(image)\n",
    "\n",
    "# Get box dimensions from the results\n",
    "box_dimensions = get_box_dimensions(results)\n",
    "\n",
    "# Draw bounding boxes for stop signs on the image\n",
    "annotated_image = results[0].plot()\n",
    "\n",
    "# Display the annotated image\n",
    "plt.imshow(annotated_image)\n",
    "plt.title('Annotated Image with Detected Forklift')\n",
    "plt.axis('off')\n",
    "plt.show()\n",
    "\n",
    "# Print the box dimensions\n",
    "for box_dim in box_dimensions:\n",
    "    print(f\"Forklift: [{box_dim[0]:.2f}, {box_dim[1]:.2f}, {box_dim[2]:.2f}, {box_dim[3]:.2f}]\")\n"
   ]
  },
  {
   "cell_type": "markdown",
   "id": "21893ed9-89e9-4e13-a725-43b0c3927975",
   "metadata": {},
   "source": [
    "## only FORKLIFT"
   ]
  },
  {
   "cell_type": "code",
   "execution_count": 2,
   "id": "b9d7f498-1fd8-4d75-a3b0-b11e0b1c37b1",
   "metadata": {},
   "outputs": [
    {
     "ename": "FileNotFoundError",
     "evalue": "[Errno 2] No such file or directory: 'last.pt'",
     "output_type": "error",
     "traceback": [
      "\u001b[1;31m---------------------------------------------------------------------------\u001b[0m",
      "\u001b[1;31mFileNotFoundError\u001b[0m                         Traceback (most recent call last)",
      "Cell \u001b[1;32mIn[2], line 14\u001b[0m\n\u001b[0;32m     11\u001b[0m     \u001b[38;5;28;01mreturn\u001b[39;00m box_dimensions\n\u001b[0;32m     13\u001b[0m \u001b[38;5;66;03m# Initialize the trained YOLO model for stop sign detection\u001b[39;00m\n\u001b[1;32m---> 14\u001b[0m model_trained1 \u001b[38;5;241m=\u001b[39m YOLO(\u001b[38;5;124m'\u001b[39m\u001b[38;5;124mlast.pt\u001b[39m\u001b[38;5;124m'\u001b[39m)\n\u001b[0;32m     15\u001b[0m model_trained2\u001b[38;5;241m=\u001b[39mYOLO(\u001b[38;5;124m'\u001b[39m\u001b[38;5;124mss_best.pt\u001b[39m\u001b[38;5;124m'\u001b[39m)\n\u001b[0;32m     17\u001b[0m \u001b[38;5;66;03m# Specify the path to the video file\u001b[39;00m\n",
      "File \u001b[1;32m~\\AppData\\Local\\anaconda3\\envs\\cvan\\Lib\\site-packages\\ultralytics\\models\\yolo\\model.py:23\u001b[0m, in \u001b[0;36mYOLO.__init__\u001b[1;34m(self, model, task, verbose)\u001b[0m\n\u001b[0;32m     20\u001b[0m     \u001b[38;5;28mself\u001b[39m\u001b[38;5;241m.\u001b[39m\u001b[38;5;18m__dict__\u001b[39m \u001b[38;5;241m=\u001b[39m new_instance\u001b[38;5;241m.\u001b[39m\u001b[38;5;18m__dict__\u001b[39m\n\u001b[0;32m     21\u001b[0m \u001b[38;5;28;01melse\u001b[39;00m:\n\u001b[0;32m     22\u001b[0m     \u001b[38;5;66;03m# Continue with default YOLO initialization\u001b[39;00m\n\u001b[1;32m---> 23\u001b[0m     \u001b[38;5;28msuper\u001b[39m()\u001b[38;5;241m.\u001b[39m\u001b[38;5;21m__init__\u001b[39m(model\u001b[38;5;241m=\u001b[39mmodel, task\u001b[38;5;241m=\u001b[39mtask, verbose\u001b[38;5;241m=\u001b[39mverbose)\n",
      "File \u001b[1;32m~\\AppData\\Local\\anaconda3\\envs\\cvan\\Lib\\site-packages\\ultralytics\\engine\\model.py:141\u001b[0m, in \u001b[0;36mModel.__init__\u001b[1;34m(self, model, task, verbose)\u001b[0m\n\u001b[0;32m    139\u001b[0m     \u001b[38;5;28mself\u001b[39m\u001b[38;5;241m.\u001b[39m_new(model, task\u001b[38;5;241m=\u001b[39mtask, verbose\u001b[38;5;241m=\u001b[39mverbose)\n\u001b[0;32m    140\u001b[0m \u001b[38;5;28;01melse\u001b[39;00m:\n\u001b[1;32m--> 141\u001b[0m     \u001b[38;5;28mself\u001b[39m\u001b[38;5;241m.\u001b[39m_load(model, task\u001b[38;5;241m=\u001b[39mtask)\n",
      "File \u001b[1;32m~\\AppData\\Local\\anaconda3\\envs\\cvan\\Lib\\site-packages\\ultralytics\\engine\\model.py:230\u001b[0m, in \u001b[0;36mModel._load\u001b[1;34m(self, weights, task)\u001b[0m\n\u001b[0;32m    227\u001b[0m weights \u001b[38;5;241m=\u001b[39m checks\u001b[38;5;241m.\u001b[39mcheck_model_file_from_stem(weights)  \u001b[38;5;66;03m# add suffix, i.e. yolov8n -> yolov8n.pt\u001b[39;00m\n\u001b[0;32m    229\u001b[0m \u001b[38;5;28;01mif\u001b[39;00m Path(weights)\u001b[38;5;241m.\u001b[39msuffix \u001b[38;5;241m==\u001b[39m \u001b[38;5;124m\"\u001b[39m\u001b[38;5;124m.pt\u001b[39m\u001b[38;5;124m\"\u001b[39m:\n\u001b[1;32m--> 230\u001b[0m     \u001b[38;5;28mself\u001b[39m\u001b[38;5;241m.\u001b[39mmodel, \u001b[38;5;28mself\u001b[39m\u001b[38;5;241m.\u001b[39mckpt \u001b[38;5;241m=\u001b[39m attempt_load_one_weight(weights)\n\u001b[0;32m    231\u001b[0m     \u001b[38;5;28mself\u001b[39m\u001b[38;5;241m.\u001b[39mtask \u001b[38;5;241m=\u001b[39m \u001b[38;5;28mself\u001b[39m\u001b[38;5;241m.\u001b[39mmodel\u001b[38;5;241m.\u001b[39margs[\u001b[38;5;124m\"\u001b[39m\u001b[38;5;124mtask\u001b[39m\u001b[38;5;124m\"\u001b[39m]\n\u001b[0;32m    232\u001b[0m     \u001b[38;5;28mself\u001b[39m\u001b[38;5;241m.\u001b[39moverrides \u001b[38;5;241m=\u001b[39m \u001b[38;5;28mself\u001b[39m\u001b[38;5;241m.\u001b[39mmodel\u001b[38;5;241m.\u001b[39margs \u001b[38;5;241m=\u001b[39m \u001b[38;5;28mself\u001b[39m\u001b[38;5;241m.\u001b[39m_reset_ckpt_args(\u001b[38;5;28mself\u001b[39m\u001b[38;5;241m.\u001b[39mmodel\u001b[38;5;241m.\u001b[39margs)\n",
      "File \u001b[1;32m~\\AppData\\Local\\anaconda3\\envs\\cvan\\Lib\\site-packages\\ultralytics\\nn\\tasks.py:790\u001b[0m, in \u001b[0;36mattempt_load_one_weight\u001b[1;34m(weight, device, inplace, fuse)\u001b[0m\n\u001b[0;32m    788\u001b[0m \u001b[38;5;28;01mdef\u001b[39;00m \u001b[38;5;21mattempt_load_one_weight\u001b[39m(weight, device\u001b[38;5;241m=\u001b[39m\u001b[38;5;28;01mNone\u001b[39;00m, inplace\u001b[38;5;241m=\u001b[39m\u001b[38;5;28;01mTrue\u001b[39;00m, fuse\u001b[38;5;241m=\u001b[39m\u001b[38;5;28;01mFalse\u001b[39;00m):\n\u001b[0;32m    789\u001b[0m \u001b[38;5;250m    \u001b[39m\u001b[38;5;124;03m\"\"\"Loads a single model weights.\"\"\"\u001b[39;00m\n\u001b[1;32m--> 790\u001b[0m     ckpt, weight \u001b[38;5;241m=\u001b[39m torch_safe_load(weight)  \u001b[38;5;66;03m# load ckpt\u001b[39;00m\n\u001b[0;32m    791\u001b[0m     args \u001b[38;5;241m=\u001b[39m {\u001b[38;5;241m*\u001b[39m\u001b[38;5;241m*\u001b[39mDEFAULT_CFG_DICT, \u001b[38;5;241m*\u001b[39m\u001b[38;5;241m*\u001b[39m(ckpt\u001b[38;5;241m.\u001b[39mget(\u001b[38;5;124m\"\u001b[39m\u001b[38;5;124mtrain_args\u001b[39m\u001b[38;5;124m\"\u001b[39m, {}))}  \u001b[38;5;66;03m# combine model and default args, preferring model args\u001b[39;00m\n\u001b[0;32m    792\u001b[0m     model \u001b[38;5;241m=\u001b[39m (ckpt\u001b[38;5;241m.\u001b[39mget(\u001b[38;5;124m\"\u001b[39m\u001b[38;5;124mema\u001b[39m\u001b[38;5;124m\"\u001b[39m) \u001b[38;5;129;01mor\u001b[39;00m ckpt[\u001b[38;5;124m\"\u001b[39m\u001b[38;5;124mmodel\u001b[39m\u001b[38;5;124m\"\u001b[39m])\u001b[38;5;241m.\u001b[39mto(device)\u001b[38;5;241m.\u001b[39mfloat()  \u001b[38;5;66;03m# FP32 model\u001b[39;00m\n",
      "File \u001b[1;32m~\\AppData\\Local\\anaconda3\\envs\\cvan\\Lib\\site-packages\\ultralytics\\nn\\tasks.py:716\u001b[0m, in \u001b[0;36mtorch_safe_load\u001b[1;34m(weight)\u001b[0m\n\u001b[0;32m    708\u001b[0m \u001b[38;5;28;01mtry\u001b[39;00m:\n\u001b[0;32m    709\u001b[0m     \u001b[38;5;28;01mwith\u001b[39;00m temporary_modules(\n\u001b[0;32m    710\u001b[0m         {\n\u001b[0;32m    711\u001b[0m             \u001b[38;5;124m\"\u001b[39m\u001b[38;5;124multralytics.yolo.utils\u001b[39m\u001b[38;5;124m\"\u001b[39m: \u001b[38;5;124m\"\u001b[39m\u001b[38;5;124multralytics.utils\u001b[39m\u001b[38;5;124m\"\u001b[39m,\n\u001b[1;32m   (...)\u001b[0m\n\u001b[0;32m    714\u001b[0m         }\n\u001b[0;32m    715\u001b[0m     ):  \u001b[38;5;66;03m# for legacy 8.0 Classify and Pose models\u001b[39;00m\n\u001b[1;32m--> 716\u001b[0m         ckpt \u001b[38;5;241m=\u001b[39m torch\u001b[38;5;241m.\u001b[39mload(file, map_location\u001b[38;5;241m=\u001b[39m\u001b[38;5;124m\"\u001b[39m\u001b[38;5;124mcpu\u001b[39m\u001b[38;5;124m\"\u001b[39m)\n\u001b[0;32m    718\u001b[0m \u001b[38;5;28;01mexcept\u001b[39;00m \u001b[38;5;167;01mModuleNotFoundError\u001b[39;00m \u001b[38;5;28;01mas\u001b[39;00m e:  \u001b[38;5;66;03m# e.name is missing module name\u001b[39;00m\n\u001b[0;32m    719\u001b[0m     \u001b[38;5;28;01mif\u001b[39;00m e\u001b[38;5;241m.\u001b[39mname \u001b[38;5;241m==\u001b[39m \u001b[38;5;124m\"\u001b[39m\u001b[38;5;124mmodels\u001b[39m\u001b[38;5;124m\"\u001b[39m:\n",
      "File \u001b[1;32m~\\AppData\\Local\\anaconda3\\envs\\cvan\\Lib\\site-packages\\torch\\serialization.py:998\u001b[0m, in \u001b[0;36mload\u001b[1;34m(f, map_location, pickle_module, weights_only, mmap, **pickle_load_args)\u001b[0m\n\u001b[0;32m    995\u001b[0m \u001b[38;5;28;01mif\u001b[39;00m \u001b[38;5;124m'\u001b[39m\u001b[38;5;124mencoding\u001b[39m\u001b[38;5;124m'\u001b[39m \u001b[38;5;129;01mnot\u001b[39;00m \u001b[38;5;129;01min\u001b[39;00m pickle_load_args\u001b[38;5;241m.\u001b[39mkeys():\n\u001b[0;32m    996\u001b[0m     pickle_load_args[\u001b[38;5;124m'\u001b[39m\u001b[38;5;124mencoding\u001b[39m\u001b[38;5;124m'\u001b[39m] \u001b[38;5;241m=\u001b[39m \u001b[38;5;124m'\u001b[39m\u001b[38;5;124mutf-8\u001b[39m\u001b[38;5;124m'\u001b[39m\n\u001b[1;32m--> 998\u001b[0m \u001b[38;5;28;01mwith\u001b[39;00m _open_file_like(f, \u001b[38;5;124m'\u001b[39m\u001b[38;5;124mrb\u001b[39m\u001b[38;5;124m'\u001b[39m) \u001b[38;5;28;01mas\u001b[39;00m opened_file:\n\u001b[0;32m    999\u001b[0m     \u001b[38;5;28;01mif\u001b[39;00m _is_zipfile(opened_file):\n\u001b[0;32m   1000\u001b[0m         \u001b[38;5;66;03m# The zipfile reader is going to advance the current file position.\u001b[39;00m\n\u001b[0;32m   1001\u001b[0m         \u001b[38;5;66;03m# If we want to actually tail call to torch.jit.load, we need to\u001b[39;00m\n\u001b[0;32m   1002\u001b[0m         \u001b[38;5;66;03m# reset back to the original position.\u001b[39;00m\n\u001b[0;32m   1003\u001b[0m         orig_position \u001b[38;5;241m=\u001b[39m opened_file\u001b[38;5;241m.\u001b[39mtell()\n",
      "File \u001b[1;32m~\\AppData\\Local\\anaconda3\\envs\\cvan\\Lib\\site-packages\\torch\\serialization.py:445\u001b[0m, in \u001b[0;36m_open_file_like\u001b[1;34m(name_or_buffer, mode)\u001b[0m\n\u001b[0;32m    443\u001b[0m \u001b[38;5;28;01mdef\u001b[39;00m \u001b[38;5;21m_open_file_like\u001b[39m(name_or_buffer, mode):\n\u001b[0;32m    444\u001b[0m     \u001b[38;5;28;01mif\u001b[39;00m _is_path(name_or_buffer):\n\u001b[1;32m--> 445\u001b[0m         \u001b[38;5;28;01mreturn\u001b[39;00m _open_file(name_or_buffer, mode)\n\u001b[0;32m    446\u001b[0m     \u001b[38;5;28;01melse\u001b[39;00m:\n\u001b[0;32m    447\u001b[0m         \u001b[38;5;28;01mif\u001b[39;00m \u001b[38;5;124m'\u001b[39m\u001b[38;5;124mw\u001b[39m\u001b[38;5;124m'\u001b[39m \u001b[38;5;129;01min\u001b[39;00m mode:\n",
      "File \u001b[1;32m~\\AppData\\Local\\anaconda3\\envs\\cvan\\Lib\\site-packages\\torch\\serialization.py:426\u001b[0m, in \u001b[0;36m_open_file.__init__\u001b[1;34m(self, name, mode)\u001b[0m\n\u001b[0;32m    425\u001b[0m \u001b[38;5;28;01mdef\u001b[39;00m \u001b[38;5;21m__init__\u001b[39m(\u001b[38;5;28mself\u001b[39m, name, mode):\n\u001b[1;32m--> 426\u001b[0m     \u001b[38;5;28msuper\u001b[39m()\u001b[38;5;241m.\u001b[39m\u001b[38;5;21m__init__\u001b[39m(\u001b[38;5;28mopen\u001b[39m(name, mode))\n",
      "\u001b[1;31mFileNotFoundError\u001b[0m: [Errno 2] No such file or directory: 'last.pt'"
     ]
    }
   ],
   "source": [
    "import os \n",
    "os.environ[\"KMP_DUPLICATE_LIB_OK\"] = \"TRUE\"\n",
    "\n",
    "import cv2\n",
    "from ultralytics import YOLO\n",
    "\n",
    "def get_box_dimensions(results):\n",
    "    box_dimensions = []\n",
    "    for box, box2 in zip(results[0].boxes.xyxy, results[0].boxes.xywh):\n",
    "        box_dimensions.append([box[0].item(), box[1].item(), box2[2].item(), box2[3].item()])\n",
    "    return box_dimensions\n",
    "\n",
    "# Initialize the trained YOLO model for stop sign detection\n",
    "model_trained1 = YOLO('last.pt')\n",
    "model_trained2=YOLO('ss_best.pt')\n",
    "\n",
    "# Specify the path to the video file\n",
    "video_path = 'video.mp4'\n",
    "\n",
    "# Open the video file for reading\n",
    "cap = cv2.VideoCapture(video_path)\n",
    "\n",
    "# Check if the video opened successfully\n",
    "if not cap.isOpened():\n",
    "    print(\"Error: Unable to open video.\")\n",
    "else:\n",
    "    # Get the original dimensions of the video\n",
    "    original_width = int(cap.get(cv2.CAP_PROP_FRAME_WIDTH))\n",
    "    original_height = int(cap.get(cv2.CAP_PROP_FRAME_HEIGHT))\n",
    "    original_dims = (original_width, original_height)\n",
    "    \n",
    "    # Define the desired dimensions for resizing\n",
    "    new_width = 640  # Choose a new width\n",
    "    new_height = int(original_height * (new_width / original_width))  # Maintain aspect ratio\n",
    "    \n",
    "    # Loop to read and process each frame\n",
    "    while True:\n",
    "        # Read a frame from the video\n",
    "        ret, frame = cap.read()\n",
    "\n",
    "        # Check if the frame was read successfully\n",
    "        if not ret:\n",
    "            print(\"End of video or unable to read frame.\")\n",
    "            break\n",
    "\n",
    "        # Resize the frame\n",
    "        frame_resized = cv2.resize(frame, (new_width, new_height))\n",
    "\n",
    "        # Perform object detection on the resized frame\n",
    "        results = model_trained.predict(frame_resized)\n",
    "        \n",
    "\n",
    "        # Get box dimensions from the results\n",
    "        box_dimensions = get_box_dimensions(results)\n",
    "\n",
    "        # Draw bounding boxes for stop signs on the resized frame\n",
    "        annotated_frame = results[0].plot()\n",
    "\n",
    "        # Display the annotated frame\n",
    "        cv2.imshow('Annotated Frame with Detected Stop Signs', annotated_frame)\n",
    "\n",
    "        # Print the box dimensions\n",
    "        for box_dim in box_dimensions:\n",
    "            print(f\"Stop sign: [{box_dim[0]:.2f}, {box_dim[1]:.2f}, {box_dim[2]:.2f}, {box_dim[3]:.2f}]\")\n",
    "\n",
    "        # Check for user input to exit\n",
    "        if cv2.waitKey(25) & 0xFF == ord('q'):\n",
    "            break\n",
    "\n",
    "    # Release the video capture object\n",
    "    cap.release()\n",
    "    cv2.destroyAllWindows()\n"
   ]
  },
  {
   "cell_type": "markdown",
   "id": "3534b362-df9b-4723-8962-d9db12a4b4ae",
   "metadata": {},
   "source": [
    "## combination"
   ]
  },
  {
   "cell_type": "code",
   "execution_count": 13,
   "id": "90ce109d-08ce-41ea-8a36-639296328728",
   "metadata": {},
   "outputs": [
    {
     "name": "stdout",
     "output_type": "stream",
     "text": [
      "\n",
      "0: 640x384 1 Fork_Lift, 262.1ms\n",
      "Speed: 7.2ms preprocess, 262.1ms inference, 3.0ms postprocess per image at shape (1, 3, 640, 384)\n",
      "\n",
      "0: 640x384 5 stops, 254.5ms\n",
      "Speed: 7.7ms preprocess, 254.5ms inference, 3.6ms postprocess per image at shape (1, 3, 640, 384)\n",
      "Stop sign: [296.54, 470.19, 220.91, 199.99]\n",
      "Stop sign: [160.34, 780.54, 246.09, 84.87]\n",
      "Stop sign: [210.99, 685.71, 151.50, 47.85]\n",
      "Stop sign: [597.62, 440.98, 41.13, 128.93]\n",
      "Stop sign: [251.53, 688.20, 111.13, 43.49]\n",
      "Stop sign: [288.46, 689.97, 73.10, 42.53]\n",
      "\n",
      "0: 640x384 1 Fork_Lift, 130.5ms\n",
      "Speed: 3.0ms preprocess, 130.5ms inference, 1.0ms postprocess per image at shape (1, 3, 640, 384)\n",
      "\n",
      "0: 640x384 4 stops, 128.6ms\n",
      "Speed: 2.0ms preprocess, 128.6ms inference, 1.0ms postprocess per image at shape (1, 3, 640, 384)\n",
      "Stop sign: [296.46, 468.70, 220.67, 202.34]\n",
      "Stop sign: [159.81, 780.83, 248.48, 84.40]\n",
      "Stop sign: [209.75, 685.80, 152.92, 48.65]\n",
      "Stop sign: [597.69, 441.59, 41.16, 129.41]\n",
      "Stop sign: [249.96, 689.17, 112.27, 43.76]\n",
      "\n",
      "0: 640x384 1 Fork_Lift, 116.3ms\n",
      "Speed: 4.0ms preprocess, 116.3ms inference, 1.0ms postprocess per image at shape (1, 3, 640, 384)\n",
      "\n",
      "0: 640x384 3 stops, 112.6ms\n",
      "Speed: 4.0ms preprocess, 112.6ms inference, 1.0ms postprocess per image at shape (1, 3, 640, 384)\n",
      "Stop sign: [298.16, 468.63, 218.72, 203.61]\n",
      "Stop sign: [159.66, 781.56, 248.77, 84.46]\n",
      "Stop sign: [210.06, 686.37, 152.16, 47.28]\n",
      "Stop sign: [597.65, 442.26, 41.25, 130.02]\n",
      "\n",
      "0: 640x384 1 Fork_Lift, 117.4ms\n",
      "Speed: 3.0ms preprocess, 117.4ms inference, 1.0ms postprocess per image at shape (1, 3, 640, 384)\n",
      "\n",
      "0: 640x384 3 stops, 123.8ms\n",
      "Speed: 3.4ms preprocess, 123.8ms inference, 1.0ms postprocess per image at shape (1, 3, 640, 384)\n",
      "Stop sign: [292.84, 469.13, 223.92, 203.24]\n",
      "Stop sign: [159.72, 781.65, 248.58, 84.79]\n",
      "Stop sign: [210.72, 687.08, 151.67, 47.23]\n",
      "Stop sign: [597.91, 442.66, 40.88, 132.90]\n",
      "\n",
      "0: 640x384 1 Fork_Lift, 120.0ms\n",
      "Speed: 3.0ms preprocess, 120.0ms inference, 1.0ms postprocess per image at shape (1, 3, 640, 384)\n",
      "\n",
      "0: 640x384 3 stops, 121.4ms\n",
      "Speed: 3.0ms preprocess, 121.4ms inference, 2.0ms postprocess per image at shape (1, 3, 640, 384)\n",
      "Stop sign: [291.81, 468.89, 224.78, 203.44]\n",
      "Stop sign: [159.63, 783.26, 243.77, 83.59]\n",
      "Stop sign: [212.22, 687.67, 153.16, 45.81]\n",
      "Stop sign: [597.89, 442.57, 40.90, 137.07]\n",
      "\n",
      "0: 640x384 1 Fork_Lift, 104.4ms\n",
      "Speed: 3.0ms preprocess, 104.4ms inference, 1.0ms postprocess per image at shape (1, 3, 640, 384)\n",
      "\n",
      "0: 640x384 2 stops, 118.4ms\n",
      "Speed: 3.0ms preprocess, 118.4ms inference, 1.0ms postprocess per image at shape (1, 3, 640, 384)\n",
      "Stop sign: [292.87, 468.55, 223.66, 204.38]\n",
      "Stop sign: [159.29, 782.49, 247.61, 84.16]\n",
      "Stop sign: [212.07, 688.46, 153.04, 45.44]\n",
      "\n",
      "0: 640x384 1 Fork_Lift, 113.2ms\n",
      "Speed: 3.0ms preprocess, 113.2ms inference, 1.0ms postprocess per image at shape (1, 3, 640, 384)\n",
      "\n",
      "0: 640x384 3 stops, 121.5ms\n",
      "Speed: 3.3ms preprocess, 121.5ms inference, 1.3ms postprocess per image at shape (1, 3, 640, 384)\n",
      "Stop sign: [290.84, 468.34, 225.21, 204.86]\n",
      "Stop sign: [160.16, 783.17, 246.43, 83.16]\n",
      "Stop sign: [211.78, 689.67, 153.85, 44.28]\n",
      "Stop sign: [599.02, 442.87, 39.19, 113.77]\n",
      "\n",
      "0: 640x384 1 Fork_Lift, 116.7ms\n",
      "Speed: 3.0ms preprocess, 116.7ms inference, 1.0ms postprocess per image at shape (1, 3, 640, 384)\n",
      "\n",
      "0: 640x384 4 stops, 123.8ms\n",
      "Speed: 3.3ms preprocess, 123.8ms inference, 1.0ms postprocess per image at shape (1, 3, 640, 384)\n",
      "Stop sign: [289.89, 468.19, 226.14, 205.56]\n",
      "Stop sign: [161.20, 783.27, 243.83, 85.18]\n",
      "Stop sign: [212.22, 690.72, 152.83, 42.85]\n",
      "Stop sign: [212.98, 691.06, 92.58, 42.09]\n",
      "Stop sign: [599.29, 442.65, 39.09, 114.67]\n",
      "\n",
      "0: 640x384 1 Fork_Lift, 111.7ms\n",
      "Speed: 3.0ms preprocess, 111.7ms inference, 1.0ms postprocess per image at shape (1, 3, 640, 384)\n",
      "\n",
      "0: 640x384 4 stops, 118.0ms\n",
      "Speed: 3.7ms preprocess, 118.0ms inference, 1.1ms postprocess per image at shape (1, 3, 640, 384)\n",
      "Stop sign: [288.51, 469.83, 226.00, 208.52]\n",
      "Stop sign: [162.26, 783.58, 243.40, 85.11]\n",
      "Stop sign: [211.81, 691.01, 153.32, 42.48]\n",
      "Stop sign: [212.88, 691.46, 99.82, 41.67]\n",
      "Stop sign: [599.83, 443.33, 38.64, 113.97]\n",
      "\n",
      "0: 640x384 1 Fork_Lift, 149.9ms\n",
      "Speed: 51.6ms preprocess, 149.9ms inference, 1.0ms postprocess per image at shape (1, 3, 640, 384)\n",
      "\n",
      "0: 640x384 2 stops, 132.3ms\n",
      "Speed: 3.0ms preprocess, 132.3ms inference, 1.0ms postprocess per image at shape (1, 3, 640, 384)\n",
      "Stop sign: [288.91, 470.40, 225.33, 208.72]\n",
      "Stop sign: [162.53, 784.75, 242.51, 83.43]\n",
      "Stop sign: [211.83, 690.60, 151.22, 43.53]\n",
      "\n",
      "0: 640x384 1 Fork_Lift, 124.5ms\n",
      "Speed: 3.0ms preprocess, 124.5ms inference, 1.0ms postprocess per image at shape (1, 3, 640, 384)\n",
      "\n",
      "0: 640x384 2 stops, 128.7ms\n",
      "Speed: 3.6ms preprocess, 128.7ms inference, 1.0ms postprocess per image at shape (1, 3, 640, 384)\n",
      "Stop sign: [288.61, 470.15, 225.72, 210.60]\n",
      "Stop sign: [162.19, 784.61, 243.39, 84.07]\n",
      "Stop sign: [208.22, 688.88, 156.95, 47.92]\n",
      "\n",
      "0: 640x384 1 Fork_Lift, 115.5ms\n",
      "Speed: 2.0ms preprocess, 115.5ms inference, 1.0ms postprocess per image at shape (1, 3, 640, 384)\n",
      "\n",
      "0: 640x384 2 stops, 121.0ms\n",
      "Speed: 3.5ms preprocess, 121.0ms inference, 1.0ms postprocess per image at shape (1, 3, 640, 384)\n",
      "Stop sign: [288.13, 472.02, 225.91, 209.31]\n",
      "Stop sign: [162.11, 785.17, 242.72, 83.58]\n",
      "Stop sign: [208.96, 688.68, 156.90, 48.03]\n",
      "\n",
      "0: 640x384 1 Fork_Lift, 114.2ms\n",
      "Speed: 3.0ms preprocess, 114.2ms inference, 1.0ms postprocess per image at shape (1, 3, 640, 384)\n",
      "\n",
      "0: 640x384 2 stops, 114.6ms\n",
      "Speed: 3.4ms preprocess, 114.6ms inference, 1.0ms postprocess per image at shape (1, 3, 640, 384)\n",
      "Stop sign: [286.04, 474.19, 227.86, 208.27]\n",
      "Stop sign: [161.52, 784.92, 245.18, 84.42]\n",
      "Stop sign: [209.24, 689.32, 156.42, 47.72]\n",
      "\n",
      "0: 640x384 1 Fork_Lift, 307.2ms\n",
      "Speed: 26.8ms preprocess, 307.2ms inference, 1.0ms postprocess per image at shape (1, 3, 640, 384)\n",
      "\n",
      "0: 640x384 2 stops, 119.9ms\n",
      "Speed: 3.5ms preprocess, 119.9ms inference, 1.0ms postprocess per image at shape (1, 3, 640, 384)\n",
      "Stop sign: [286.25, 472.95, 227.20, 209.90]\n",
      "Stop sign: [161.48, 785.34, 245.56, 84.14]\n",
      "Stop sign: [209.29, 690.69, 158.17, 47.14]\n",
      "\n",
      "0: 640x384 1 Fork_Lift, 113.2ms\n",
      "Speed: 3.0ms preprocess, 113.2ms inference, 1.1ms postprocess per image at shape (1, 3, 640, 384)\n",
      "\n",
      "0: 640x384 2 stops, 119.0ms\n",
      "Speed: 3.1ms preprocess, 119.0ms inference, 1.0ms postprocess per image at shape (1, 3, 640, 384)\n",
      "Stop sign: [286.23, 475.54, 227.11, 208.09]\n",
      "Stop sign: [161.56, 785.61, 245.28, 83.64]\n",
      "Stop sign: [209.60, 690.00, 158.12, 49.09]\n",
      "\n",
      "0: 640x384 1 Fork_Lift, 112.2ms\n",
      "Speed: 3.0ms preprocess, 112.2ms inference, 1.0ms postprocess per image at shape (1, 3, 640, 384)\n",
      "\n",
      "0: 640x384 3 stops, 117.3ms\n",
      "Speed: 3.0ms preprocess, 117.3ms inference, 1.0ms postprocess per image at shape (1, 3, 640, 384)\n",
      "Stop sign: [286.70, 477.42, 226.03, 206.40]\n",
      "Stop sign: [161.78, 785.34, 245.03, 84.61]\n",
      "Stop sign: [207.59, 690.20, 160.30, 49.99]\n",
      "Stop sign: [599.77, 446.65, 37.61, 116.29]\n",
      "\n",
      "0: 640x384 1 Fork_Lift, 114.8ms\n",
      "Speed: 3.0ms preprocess, 114.8ms inference, 1.0ms postprocess per image at shape (1, 3, 640, 384)\n",
      "\n",
      "0: 640x384 3 stops, 121.4ms\n",
      "Speed: 3.0ms preprocess, 121.4ms inference, 1.0ms postprocess per image at shape (1, 3, 640, 384)\n",
      "Stop sign: [286.56, 478.95, 224.60, 204.85]\n",
      "Stop sign: [162.18, 786.39, 244.46, 84.38]\n",
      "Stop sign: [210.48, 692.21, 159.81, 46.95]\n",
      "Stop sign: [600.08, 447.14, 37.17, 116.66]\n",
      "\n",
      "0: 640x384 1 Fork_Lift, 120.0ms\n",
      "Speed: 2.9ms preprocess, 120.0ms inference, 1.2ms postprocess per image at shape (1, 3, 640, 384)\n",
      "\n",
      "0: 640x384 3 stops, 118.0ms\n",
      "Speed: 3.0ms preprocess, 118.0ms inference, 1.0ms postprocess per image at shape (1, 3, 640, 384)\n",
      "Stop sign: [286.86, 480.08, 223.30, 203.80]\n",
      "Stop sign: [162.37, 787.73, 244.43, 83.41]\n",
      "Stop sign: [211.82, 693.96, 158.88, 45.23]\n",
      "Stop sign: [600.39, 448.10, 37.31, 115.00]\n",
      "\n",
      "0: 640x384 1 Fork_Lift, 114.8ms\n",
      "Speed: 2.0ms preprocess, 114.8ms inference, 1.0ms postprocess per image at shape (1, 3, 640, 384)\n",
      "\n",
      "0: 640x384 2 stops, 120.1ms\n",
      "Speed: 3.6ms preprocess, 120.1ms inference, 1.0ms postprocess per image at shape (1, 3, 640, 384)\n",
      "Stop sign: [285.47, 479.98, 222.79, 203.96]\n",
      "Stop sign: [161.95, 788.52, 245.05, 82.54]\n",
      "Stop sign: [210.61, 693.40, 160.63, 45.82]\n",
      "\n",
      "0: 640x384 1 Fork_Lift, 110.7ms\n",
      "Speed: 3.0ms preprocess, 110.7ms inference, 1.0ms postprocess per image at shape (1, 3, 640, 384)\n",
      "\n",
      "0: 640x384 3 stops, 114.0ms\n",
      "Speed: 3.1ms preprocess, 114.0ms inference, 1.0ms postprocess per image at shape (1, 3, 640, 384)\n",
      "Stop sign: [285.96, 478.13, 222.20, 205.97]\n",
      "Stop sign: [162.02, 789.17, 244.69, 82.06]\n",
      "Stop sign: [210.91, 693.38, 160.22, 45.79]\n",
      "Stop sign: [600.94, 448.72, 36.76, 116.07]\n",
      "\n",
      "0: 640x384 1 Fork_Lift, 105.7ms\n",
      "Speed: 3.0ms preprocess, 105.7ms inference, 1.0ms postprocess per image at shape (1, 3, 640, 384)\n",
      "\n",
      "0: 640x384 3 stops, 217.3ms\n",
      "Speed: 3.6ms preprocess, 217.3ms inference, 1.0ms postprocess per image at shape (1, 3, 640, 384)\n",
      "Stop sign: [284.30, 479.13, 223.07, 204.95]\n",
      "Stop sign: [162.42, 789.72, 244.77, 81.86]\n",
      "Stop sign: [212.23, 695.94, 153.80, 42.78]\n",
      "Stop sign: [601.16, 448.59, 36.71, 116.37]\n",
      "\n",
      "0: 640x384 1 Fork_Lift, 110.9ms\n",
      "Speed: 3.0ms preprocess, 110.9ms inference, 1.0ms postprocess per image at shape (1, 3, 640, 384)\n",
      "\n",
      "0: 640x384 2 stops, 121.4ms\n",
      "Speed: 3.7ms preprocess, 121.4ms inference, 1.0ms postprocess per image at shape (1, 3, 640, 384)\n",
      "Stop sign: [282.48, 479.08, 223.66, 205.10]\n",
      "Stop sign: [162.56, 790.33, 245.26, 81.31]\n",
      "Stop sign: [212.90, 695.47, 153.04, 43.87]\n"
     ]
    }
   ],
   "source": [
    "import os \n",
    "os.environ[\"KMP_DUPLICATE_LIB_OK\"] = \"TRUE\"\n",
    "\n",
    "import cv2\n",
    "from ultralytics import YOLO\n",
    "\n",
    "def get_box_dimensions(results):\n",
    "    box_dimensions = []\n",
    "    for box, box2 in zip(results[0].boxes.xyxy, results[0].boxes.xywh):\n",
    "        box_dimensions.append([box[0].item(), box[1].item(), box2[2].item(), box2[3].item()])\n",
    "    return box_dimensions\n",
    "\n",
    "# Initialize the trained YOLO models for stop sign detection\n",
    "model_trained1 = YOLO('last.pt')\n",
    "model_trained2 = YOLO('ss_best.pt')\n",
    "\n",
    "# Specify the path to the video file\n",
    "video_path = 'video.mp4'\n",
    "\n",
    "# Open the video file for reading\n",
    "cap = cv2.VideoCapture(video_path)\n",
    "\n",
    "# Check if the video opened successfully\n",
    "if not cap.isOpened():\n",
    "    print(\"Error: Unable to open video.\")\n",
    "else:\n",
    "    # Get the original dimensions of the video\n",
    "    original_width = int(cap.get(cv2.CAP_PROP_FRAME_WIDTH))\n",
    "    original_height = int(cap.get(cv2.CAP_PROP_FRAME_HEIGHT))\n",
    "    original_dims = (original_width, original_height)\n",
    "    \n",
    "    # Define the desired dimensions for resizing\n",
    "    new_width = 640  # Choose a new width\n",
    "    new_height = int(original_height * (new_width / original_width))  # Maintain aspect ratio\n",
    "    \n",
    "    # Loop to read and process each frame\n",
    "    while True:\n",
    "        # Read a frame from the video\n",
    "        ret, frame = cap.read()\n",
    "\n",
    "        # Check if the frame was read successfully\n",
    "        if not ret:\n",
    "            print(\"End of video or unable to read frame.\")\n",
    "            break\n",
    "\n",
    "        # Resize the frame\n",
    "        frame_resized = cv2.resize(frame, (new_width, new_height))\n",
    "\n",
    "        # Perform object detection on the resized frame using both models\n",
    "        results1 = model_trained1.predict(frame_resized)\n",
    "        results2 = model_trained2.predict(frame_resized)\n",
    "\n",
    "        # Get box dimensions from the results of both models\n",
    "        box_dimensions1 = get_box_dimensions(results1)\n",
    "        box_dimensions2 = get_box_dimensions(results2)\n",
    "\n",
    "        # Combine box dimensions from both models\n",
    "        combined_box_dimensions = box_dimensions1 + box_dimensions2\n",
    "\n",
    "        # Draw bounding boxes for stop signs from both models on the resized frame\n",
    "        annotated_frame = results1[0].plot()\n",
    "        annotated_frame = results2[0].plot()\n",
    "\n",
    "        # Display the annotated frame\n",
    "        cv2.imshow('Annotated Frame with Detected Stop Signs',annotated_frame)\n",
    "\n",
    "        # Print the box dimensions\n",
    "        for box_dim in combined_box_dimensions:\n",
    "            print(f\"Stop sign: [{box_dim[0]:.2f}, {box_dim[1]:.2f}, {box_dim[2]:.2f}, {box_dim[3]:.2f}]\")\n",
    "\n",
    "        # Check for user input to exit\n",
    "        if cv2.waitKey(25) & 0xFF == ord('q'):\n",
    "            break\n",
    "\n",
    "    # Release the video capture object\n",
    "    cap.release()\n",
    "    cv2.destroyAllWindows()\n"
   ]
  },
  {
   "cell_type": "code",
   "execution_count": 22,
   "id": "5478b4f8-36e0-46c7-b899-2768cca652a7",
   "metadata": {},
   "outputs": [
    {
     "name": "stdout",
     "output_type": "stream",
     "text": [
      "\n",
      "0: 640x384 4 stops, 98.2ms\n",
      "Speed: 6.5ms preprocess, 98.2ms inference, 0.5ms postprocess per image at shape (1, 3, 640, 384)\n",
      "\n",
      "0: 640x384 1 Fork_Lift, 106.0ms\n",
      "Speed: 3.0ms preprocess, 106.0ms inference, 1.0ms postprocess per image at shape (1, 3, 640, 384)\n",
      "Object: [159.81, 780.83, 248.48, 84.40]\n",
      "Object: [209.75, 685.80, 152.92, 48.65]\n",
      "Object: [597.69, 441.59, 41.16, 129.41]\n",
      "Object: [249.96, 689.17, 112.27, 43.76]\n",
      "Object: [296.46, 468.70, 220.67, 202.34]\n",
      "\n",
      "0: 640x384 3 stops, 73.6ms\n",
      "Speed: 2.0ms preprocess, 73.6ms inference, 0.0ms postprocess per image at shape (1, 3, 640, 384)\n",
      "\n",
      "0: 640x384 1 Fork_Lift, 75.3ms\n",
      "Speed: 2.7ms preprocess, 75.3ms inference, 1.0ms postprocess per image at shape (1, 3, 640, 384)\n",
      "Object: [159.72, 781.65, 248.58, 84.79]\n",
      "Object: [210.72, 687.08, 151.67, 47.23]\n",
      "Object: [597.91, 442.66, 40.88, 132.90]\n",
      "Object: [292.84, 469.13, 223.92, 203.24]\n",
      "\n",
      "0: 640x384 2 stops, 63.9ms\n",
      "Speed: 2.0ms preprocess, 63.9ms inference, 0.0ms postprocess per image at shape (1, 3, 640, 384)\n",
      "\n",
      "0: 640x384 1 Fork_Lift, 62.9ms\n",
      "Speed: 2.7ms preprocess, 62.9ms inference, 1.0ms postprocess per image at shape (1, 3, 640, 384)\n",
      "Object: [159.29, 782.49, 247.61, 84.16]\n",
      "Object: [212.07, 688.46, 153.04, 45.44]\n",
      "Object: [292.87, 468.55, 223.66, 204.38]\n",
      "\n",
      "0: 640x384 4 stops, 72.1ms\n",
      "Speed: 1.3ms preprocess, 72.1ms inference, 1.0ms postprocess per image at shape (1, 3, 640, 384)\n",
      "\n",
      "0: 640x384 1 Fork_Lift, 69.6ms\n",
      "Speed: 2.1ms preprocess, 69.6ms inference, 1.0ms postprocess per image at shape (1, 3, 640, 384)\n",
      "Object: [161.20, 783.27, 243.83, 85.18]\n",
      "Object: [212.22, 690.72, 152.83, 42.85]\n",
      "Object: [212.98, 691.06, 92.58, 42.09]\n",
      "Object: [599.29, 442.65, 39.09, 114.67]\n",
      "Object: [289.89, 468.19, 226.14, 205.56]\n",
      "\n",
      "0: 640x384 2 stops, 74.4ms\n",
      "Speed: 2.0ms preprocess, 74.4ms inference, 1.0ms postprocess per image at shape (1, 3, 640, 384)\n",
      "\n",
      "0: 640x384 1 Fork_Lift, 79.1ms\n",
      "Speed: 2.9ms preprocess, 79.1ms inference, 1.0ms postprocess per image at shape (1, 3, 640, 384)\n",
      "Object: [162.53, 784.75, 242.51, 83.43]\n",
      "Object: [211.83, 690.60, 151.22, 43.53]\n",
      "Object: [288.91, 470.40, 225.33, 208.72]\n",
      "\n",
      "0: 640x384 2 stops, 82.2ms\n",
      "Speed: 2.0ms preprocess, 82.2ms inference, 1.0ms postprocess per image at shape (1, 3, 640, 384)\n",
      "\n",
      "0: 640x384 1 Fork_Lift, 76.2ms\n",
      "Speed: 2.2ms preprocess, 76.2ms inference, 1.0ms postprocess per image at shape (1, 3, 640, 384)\n",
      "Object: [162.11, 785.17, 242.72, 83.58]\n",
      "Object: [208.96, 688.68, 156.90, 48.03]\n",
      "Object: [288.13, 472.02, 225.91, 209.31]\n",
      "\n",
      "0: 640x384 2 stops, 78.6ms\n",
      "Speed: 2.0ms preprocess, 78.6ms inference, 2.0ms postprocess per image at shape (1, 3, 640, 384)\n",
      "\n",
      "0: 640x384 1 Fork_Lift, 84.9ms\n",
      "Speed: 2.8ms preprocess, 84.9ms inference, 0.5ms postprocess per image at shape (1, 3, 640, 384)\n",
      "Object: [161.48, 785.34, 245.56, 84.14]\n",
      "Object: [209.29, 690.69, 158.17, 47.14]\n",
      "Object: [286.25, 472.95, 227.20, 209.90]\n",
      "\n",
      "0: 640x384 3 stops, 72.4ms\n",
      "Speed: 2.8ms preprocess, 72.4ms inference, 1.0ms postprocess per image at shape (1, 3, 640, 384)\n",
      "\n",
      "0: 640x384 1 Fork_Lift, 75.4ms\n",
      "Speed: 2.4ms preprocess, 75.4ms inference, 0.0ms postprocess per image at shape (1, 3, 640, 384)\n",
      "Object: [161.78, 785.34, 245.03, 84.61]\n",
      "Object: [207.59, 690.20, 160.30, 49.99]\n",
      "Object: [599.77, 446.65, 37.61, 116.29]\n",
      "Object: [286.70, 477.42, 226.03, 206.40]\n",
      "\n",
      "0: 640x384 3 stops, 71.0ms\n",
      "Speed: 2.0ms preprocess, 71.0ms inference, 1.0ms postprocess per image at shape (1, 3, 640, 384)\n",
      "\n",
      "0: 640x384 1 Fork_Lift, 76.1ms\n",
      "Speed: 1.8ms preprocess, 76.1ms inference, 1.0ms postprocess per image at shape (1, 3, 640, 384)\n",
      "Object: [162.37, 787.73, 244.43, 83.41]\n",
      "Object: [211.82, 693.96, 158.88, 45.23]\n",
      "Object: [600.39, 448.10, 37.31, 115.00]\n",
      "Object: [286.86, 480.08, 223.30, 203.80]\n",
      "\n",
      "0: 640x384 3 stops, 76.4ms\n",
      "Speed: 2.0ms preprocess, 76.4ms inference, 0.0ms postprocess per image at shape (1, 3, 640, 384)\n",
      "\n",
      "0: 640x384 1 Fork_Lift, 86.9ms\n",
      "Speed: 1.9ms preprocess, 86.9ms inference, 1.0ms postprocess per image at shape (1, 3, 640, 384)\n",
      "Object: [162.02, 789.17, 244.69, 82.06]\n",
      "Object: [210.91, 693.38, 160.22, 45.79]\n",
      "Object: [600.94, 448.72, 36.76, 116.07]\n",
      "Object: [285.96, 478.13, 222.20, 205.97]\n",
      "\n",
      "0: 640x384 2 stops, 77.8ms\n",
      "Speed: 2.0ms preprocess, 77.8ms inference, 1.0ms postprocess per image at shape (1, 3, 640, 384)\n",
      "\n",
      "0: 640x384 1 Fork_Lift, 86.5ms\n",
      "Speed: 1.3ms preprocess, 86.5ms inference, 1.0ms postprocess per image at shape (1, 3, 640, 384)\n",
      "Object: [162.56, 790.33, 245.26, 81.31]\n",
      "Object: [212.90, 695.47, 153.04, 43.87]\n",
      "Object: [282.48, 479.08, 223.66, 205.10]\n",
      "\n",
      "0: 640x384 2 stops, 75.2ms\n",
      "Speed: 1.9ms preprocess, 75.2ms inference, 0.0ms postprocess per image at shape (1, 3, 640, 384)\n",
      "\n",
      "0: 640x384 1 Fork_Lift, 80.6ms\n",
      "Speed: 2.0ms preprocess, 80.6ms inference, 1.0ms postprocess per image at shape (1, 3, 640, 384)\n",
      "Object: [163.04, 790.33, 245.24, 81.88]\n",
      "Object: [211.95, 696.73, 153.50, 43.58]\n",
      "Object: [277.13, 481.40, 224.88, 203.21]\n",
      "\n",
      "0: 640x384 2 stops, 112.9ms\n",
      "Speed: 2.5ms preprocess, 112.9ms inference, 1.0ms postprocess per image at shape (1, 3, 640, 384)\n",
      "\n",
      "0: 640x384 1 Fork_Lift, 76.6ms\n",
      "Speed: 2.0ms preprocess, 76.6ms inference, 1.0ms postprocess per image at shape (1, 3, 640, 384)\n",
      "Object: [162.73, 790.29, 246.29, 82.94]\n",
      "Object: [213.54, 695.34, 158.12, 47.71]\n",
      "Object: [273.33, 481.16, 226.41, 203.82]\n",
      "\n",
      "0: 640x384 2 stops, 70.2ms\n",
      "Speed: 2.1ms preprocess, 70.2ms inference, 1.0ms postprocess per image at shape (1, 3, 640, 384)\n",
      "\n",
      "0: 640x384 1 Fork_Lift, 75.5ms\n",
      "Speed: 2.3ms preprocess, 75.5ms inference, 0.0ms postprocess per image at shape (1, 3, 640, 384)\n",
      "Object: [163.02, 790.97, 246.54, 84.02]\n",
      "Object: [214.77, 695.04, 157.27, 48.56]\n",
      "Object: [269.09, 482.49, 229.11, 203.69]\n",
      "\n",
      "0: 640x384 2 stops, 71.0ms\n",
      "Speed: 2.0ms preprocess, 71.0ms inference, 1.0ms postprocess per image at shape (1, 3, 640, 384)\n",
      "\n",
      "0: 640x384 1 Fork_Lift, 90.4ms\n",
      "Speed: 1.8ms preprocess, 90.4ms inference, 0.0ms postprocess per image at shape (1, 3, 640, 384)\n",
      "Object: [163.44, 793.39, 246.35, 82.15]\n",
      "Object: [214.87, 696.27, 158.92, 47.29]\n",
      "Object: [262.00, 483.43, 234.15, 203.55]\n",
      "\n",
      "0: 640x384 2 stops, 83.8ms\n",
      "Speed: 2.9ms preprocess, 83.8ms inference, 0.0ms postprocess per image at shape (1, 3, 640, 384)\n",
      "\n",
      "0: 640x384 1 Fork_Lift, 69.0ms\n",
      "Speed: 1.8ms preprocess, 69.0ms inference, 1.0ms postprocess per image at shape (1, 3, 640, 384)\n",
      "Object: [163.43, 793.93, 246.50, 82.40]\n",
      "Object: [213.60, 696.91, 160.07, 48.34]\n",
      "Object: [260.01, 483.01, 233.49, 205.70]\n",
      "\n",
      "0: 640x384 2 stops, 66.4ms\n",
      "Speed: 2.0ms preprocess, 66.4ms inference, 0.0ms postprocess per image at shape (1, 3, 640, 384)\n",
      "\n",
      "0: 640x384 1 Fork_Lift, 79.8ms\n",
      "Speed: 1.5ms preprocess, 79.8ms inference, 1.0ms postprocess per image at shape (1, 3, 640, 384)\n",
      "Object: [162.92, 794.70, 246.87, 82.73]\n",
      "Object: [214.48, 700.00, 161.82, 45.37]\n",
      "Object: [258.73, 481.42, 233.15, 207.59]\n",
      "\n",
      "0: 640x384 2 stops, 78.6ms\n",
      "Speed: 2.1ms preprocess, 78.6ms inference, 1.0ms postprocess per image at shape (1, 3, 640, 384)\n",
      "\n",
      "0: 640x384 1 Fork_Lift, 77.9ms\n",
      "Speed: 2.1ms preprocess, 77.9ms inference, 1.0ms postprocess per image at shape (1, 3, 640, 384)\n",
      "Object: [163.14, 795.53, 247.24, 81.97]\n",
      "Object: [215.51, 699.84, 150.18, 45.71]\n",
      "Object: [255.20, 482.69, 236.18, 209.23]\n",
      "\n",
      "0: 640x384 2 stops, 70.8ms\n",
      "Speed: 2.1ms preprocess, 70.8ms inference, 1.0ms postprocess per image at shape (1, 3, 640, 384)\n",
      "\n",
      "0: 640x384 1 Fork_Lift, 85.7ms\n",
      "Speed: 2.3ms preprocess, 85.7ms inference, 1.0ms postprocess per image at shape (1, 3, 640, 384)\n",
      "Object: [163.55, 794.76, 247.62, 85.52]\n",
      "Object: [218.61, 697.01, 154.36, 50.80]\n",
      "Object: [252.27, 483.45, 235.94, 208.51]\n",
      "\n",
      "0: 640x384 2 stops, 72.3ms\n",
      "Speed: 2.0ms preprocess, 72.3ms inference, 0.0ms postprocess per image at shape (1, 3, 640, 384)\n",
      "\n",
      "0: 640x384 1 Fork_Lift, 76.1ms\n",
      "Speed: 1.5ms preprocess, 76.1ms inference, 1.0ms postprocess per image at shape (1, 3, 640, 384)\n",
      "Object: [163.24, 795.11, 248.08, 86.35]\n",
      "Object: [218.26, 696.56, 154.95, 51.69]\n",
      "Object: [254.69, 482.78, 228.99, 207.59]\n",
      "\n",
      "0: 640x384 2 stops, 75.2ms\n",
      "Speed: 1.0ms preprocess, 75.2ms inference, 1.0ms postprocess per image at shape (1, 3, 640, 384)\n",
      "\n",
      "0: 640x384 1 Fork_Lift, 81.8ms\n",
      "Speed: 2.7ms preprocess, 81.8ms inference, 1.0ms postprocess per image at shape (1, 3, 640, 384)\n",
      "Object: [163.88, 795.91, 247.25, 84.83]\n",
      "Object: [218.15, 696.45, 155.51, 51.54]\n",
      "Object: [253.31, 483.50, 229.66, 207.36]\n",
      "\n",
      "0: 640x384 2 stops, 77.7ms\n",
      "Speed: 8.5ms preprocess, 77.7ms inference, 1.0ms postprocess per image at shape (1, 3, 640, 384)\n",
      "\n",
      "0: 640x384 1 Fork_Lift, 76.8ms\n",
      "Speed: 2.4ms preprocess, 76.8ms inference, 0.0ms postprocess per image at shape (1, 3, 640, 384)\n",
      "Object: [164.45, 796.31, 247.45, 84.83]\n",
      "Object: [216.74, 697.42, 157.39, 50.80]\n",
      "Object: [247.37, 484.63, 233.99, 210.26]\n",
      "\n",
      "0: 640x384 2 stops, 73.5ms\n",
      "Speed: 2.0ms preprocess, 73.5ms inference, 1.0ms postprocess per image at shape (1, 3, 640, 384)\n",
      "\n",
      "0: 640x384 1 Fork_Lift, 74.3ms\n",
      "Speed: 2.2ms preprocess, 74.3ms inference, 0.0ms postprocess per image at shape (1, 3, 640, 384)\n",
      "Object: [164.92, 796.43, 247.55, 85.11]\n",
      "Object: [216.68, 698.61, 157.92, 49.86]\n",
      "Object: [250.05, 483.54, 232.52, 211.35]\n",
      "\n",
      "0: 640x384 2 stops, 74.1ms\n",
      "Speed: 2.5ms preprocess, 74.1ms inference, 1.0ms postprocess per image at shape (1, 3, 640, 384)\n",
      "\n",
      "0: 640x384 1 Fork_Lift, 72.9ms\n",
      "Speed: 3.2ms preprocess, 72.9ms inference, 1.0ms postprocess per image at shape (1, 3, 640, 384)\n",
      "Object: [167.01, 797.26, 242.93, 84.21]\n",
      "Object: [217.42, 699.47, 156.84, 48.88]\n",
      "Object: [248.86, 483.08, 232.35, 211.02]\n",
      "\n",
      "0: 640x384 2 stops, 68.1ms\n",
      "Speed: 2.0ms preprocess, 68.1ms inference, 0.0ms postprocess per image at shape (1, 3, 640, 384)\n",
      "\n",
      "0: 640x384 1 Fork_Lift, 74.5ms\n",
      "Speed: 1.8ms preprocess, 74.5ms inference, 1.2ms postprocess per image at shape (1, 3, 640, 384)\n",
      "Object: [167.19, 797.24, 242.74, 84.32]\n",
      "Object: [217.80, 699.08, 156.66, 49.22]\n",
      "Object: [244.83, 483.03, 235.66, 211.54]\n",
      "\n",
      "0: 640x384 2 stops, 73.9ms\n",
      "Speed: 2.0ms preprocess, 73.9ms inference, 1.0ms postprocess per image at shape (1, 3, 640, 384)\n",
      "\n",
      "0: 640x384 1 Fork_Lift, 78.3ms\n",
      "Speed: 1.5ms preprocess, 78.3ms inference, 0.0ms postprocess per image at shape (1, 3, 640, 384)\n",
      "Object: [166.85, 797.70, 243.34, 83.40]\n",
      "Object: [215.33, 701.85, 159.85, 44.68]\n",
      "Object: [239.10, 481.92, 240.07, 211.93]\n",
      "\n",
      "0: 640x384 2 stops, 67.7ms\n",
      "Speed: 2.3ms preprocess, 67.7ms inference, 0.0ms postprocess per image at shape (1, 3, 640, 384)\n",
      "\n",
      "0: 640x384 1 Fork_Lift, 70.9ms\n",
      "Speed: 1.5ms preprocess, 70.9ms inference, 1.0ms postprocess per image at shape (1, 3, 640, 384)\n",
      "Object: [167.33, 797.09, 242.86, 84.37]\n",
      "Object: [216.94, 701.00, 158.39, 45.53]\n",
      "Object: [239.28, 483.00, 238.88, 209.98]\n",
      "\n",
      "0: 640x384 2 stops, 70.8ms\n",
      "Speed: 2.0ms preprocess, 70.8ms inference, 0.0ms postprocess per image at shape (1, 3, 640, 384)\n",
      "\n",
      "0: 640x384 1 Fork_Lift, 77.9ms\n",
      "Speed: 2.4ms preprocess, 77.9ms inference, 1.0ms postprocess per image at shape (1, 3, 640, 384)\n",
      "Object: [166.15, 795.30, 246.53, 85.10]\n",
      "Object: [220.86, 700.83, 153.11, 46.21]\n",
      "Object: [236.87, 477.97, 238.30, 213.41]\n",
      "\n",
      "0: 640x384 2 stops, 75.0ms\n",
      "Speed: 2.0ms preprocess, 75.0ms inference, 1.0ms postprocess per image at shape (1, 3, 640, 384)\n",
      "\n",
      "0: 640x384 1 Fork_Lift, 79.7ms\n",
      "Speed: 2.4ms preprocess, 79.7ms inference, 1.5ms postprocess per image at shape (1, 3, 640, 384)\n",
      "Object: [165.93, 793.61, 246.57, 83.90]\n",
      "Object: [222.88, 700.59, 148.98, 45.86]\n",
      "Object: [233.90, 482.98, 237.99, 207.36]\n",
      "\n",
      "0: 640x384 2 stops, 70.2ms\n",
      "Speed: 2.0ms preprocess, 70.2ms inference, 1.0ms postprocess per image at shape (1, 3, 640, 384)\n",
      "\n",
      "0: 640x384 1 Fork_Lift, 78.0ms\n",
      "Speed: 2.5ms preprocess, 78.0ms inference, 1.0ms postprocess per image at shape (1, 3, 640, 384)\n",
      "Object: [167.32, 792.30, 244.11, 84.07]\n",
      "Object: [221.91, 697.92, 152.18, 46.24]\n",
      "Object: [233.40, 479.89, 237.54, 207.52]\n",
      "\n",
      "0: 640x384 2 stops, 60.6ms\n",
      "Speed: 2.2ms preprocess, 60.6ms inference, 1.0ms postprocess per image at shape (1, 3, 640, 384)\n",
      "\n",
      "0: 640x384 1 Fork_Lift, 82.7ms\n",
      "Speed: 3.3ms preprocess, 82.7ms inference, 0.0ms postprocess per image at shape (1, 3, 640, 384)\n",
      "Object: [168.42, 791.50, 244.32, 83.81]\n",
      "Object: [220.50, 695.81, 153.63, 46.61]\n",
      "Object: [232.91, 476.42, 237.06, 210.00]\n",
      "\n",
      "0: 640x384 2 stops, 76.2ms\n",
      "Speed: 1.4ms preprocess, 76.2ms inference, 1.0ms postprocess per image at shape (1, 3, 640, 384)\n",
      "\n",
      "0: 640x384 1 Fork_Lift, 80.7ms\n",
      "Speed: 2.5ms preprocess, 80.7ms inference, 1.0ms postprocess per image at shape (1, 3, 640, 384)\n",
      "Object: [170.76, 791.05, 241.37, 81.73]\n",
      "Object: [220.00, 696.49, 154.91, 43.61]\n",
      "Object: [233.09, 475.87, 236.85, 209.38]\n",
      "\n",
      "0: 640x384 2 stops, 78.7ms\n",
      "Speed: 1.0ms preprocess, 78.7ms inference, 1.0ms postprocess per image at shape (1, 3, 640, 384)\n",
      "\n",
      "0: 640x384 1 Fork_Lift, 73.4ms\n",
      "Speed: 2.9ms preprocess, 73.4ms inference, 1.0ms postprocess per image at shape (1, 3, 640, 384)\n",
      "Object: [171.23, 789.16, 241.48, 81.83]\n",
      "Object: [223.23, 694.61, 151.16, 44.52]\n",
      "Object: [232.51, 470.97, 234.40, 213.37]\n",
      "\n",
      "0: 640x384 2 stops, 70.5ms\n",
      "Speed: 2.4ms preprocess, 70.5ms inference, 1.0ms postprocess per image at shape (1, 3, 640, 384)\n",
      "\n",
      "0: 640x384 1 Fork_Lift, 68.5ms\n",
      "Speed: 3.1ms preprocess, 68.5ms inference, 0.6ms postprocess per image at shape (1, 3, 640, 384)\n",
      "Object: [172.32, 786.50, 241.77, 82.85]\n",
      "Object: [227.48, 693.56, 150.99, 42.92]\n",
      "Object: [232.19, 471.04, 232.80, 212.82]\n",
      "\n",
      "0: 640x384 2 stops, 69.7ms\n",
      "Speed: 2.0ms preprocess, 69.7ms inference, 1.0ms postprocess per image at shape (1, 3, 640, 384)\n",
      "\n",
      "0: 640x384 1 Fork_Lift, 74.9ms\n",
      "Speed: 3.7ms preprocess, 74.9ms inference, 1.0ms postprocess per image at shape (1, 3, 640, 384)\n",
      "Object: [172.59, 785.25, 242.36, 82.43]\n",
      "Object: [225.56, 690.13, 149.68, 42.21]\n",
      "Object: [231.59, 470.41, 232.84, 212.08]\n",
      "\n",
      "0: 640x384 2 stops, 77.9ms\n",
      "Speed: 2.0ms preprocess, 77.9ms inference, 0.0ms postprocess per image at shape (1, 3, 640, 384)\n",
      "\n",
      "0: 640x384 1 Fork_Lift, 76.3ms\n",
      "Speed: 2.1ms preprocess, 76.3ms inference, 0.0ms postprocess per image at shape (1, 3, 640, 384)\n",
      "Object: [173.41, 782.09, 240.76, 82.07]\n",
      "Object: [227.47, 688.27, 143.69, 43.43]\n",
      "Object: [233.38, 469.20, 227.43, 205.02]\n",
      "\n",
      "0: 640x384 2 stops, 74.6ms\n",
      "Speed: 2.4ms preprocess, 74.6ms inference, 1.0ms postprocess per image at shape (1, 3, 640, 384)\n",
      "\n",
      "0: 640x384 1 Fork_Lift, 71.2ms\n",
      "Speed: 1.9ms preprocess, 71.2ms inference, 1.0ms postprocess per image at shape (1, 3, 640, 384)\n",
      "Object: [175.39, 777.66, 239.67, 83.77]\n",
      "Object: [229.78, 682.84, 148.88, 45.04]\n",
      "Object: [232.72, 465.91, 228.01, 203.94]\n",
      "\n",
      "0: 640x384 2 stops, 82.8ms\n",
      "Speed: 2.1ms preprocess, 82.8ms inference, 1.2ms postprocess per image at shape (1, 3, 640, 384)\n",
      "\n",
      "0: 640x384 1 Fork_Lift, 78.2ms\n",
      "Speed: 2.1ms preprocess, 78.2ms inference, 1.0ms postprocess per image at shape (1, 3, 640, 384)\n",
      "Object: [176.32, 773.19, 240.17, 85.05]\n",
      "Object: [229.47, 678.02, 147.37, 47.82]\n",
      "Object: [232.02, 465.54, 228.64, 200.94]\n",
      "\n",
      "0: 640x384 2 stops, 127.7ms\n",
      "Speed: 2.0ms preprocess, 127.7ms inference, 0.0ms postprocess per image at shape (1, 3, 640, 384)\n",
      "\n",
      "0: 640x384 1 Fork_Lift, 69.5ms\n",
      "Speed: 2.4ms preprocess, 69.5ms inference, 1.0ms postprocess per image at shape (1, 3, 640, 384)\n",
      "Object: [176.87, 769.26, 242.49, 84.59]\n",
      "Object: [226.67, 674.30, 153.90, 47.28]\n",
      "Object: [230.44, 461.55, 230.13, 202.40]\n",
      "\n",
      "0: 640x384 2 stops, 67.7ms\n",
      "Speed: 2.5ms preprocess, 67.7ms inference, 1.0ms postprocess per image at shape (1, 3, 640, 384)\n",
      "\n",
      "0: 640x384 1 Fork_Lift, 81.9ms\n",
      "Speed: 2.3ms preprocess, 81.9ms inference, 0.0ms postprocess per image at shape (1, 3, 640, 384)\n",
      "Object: [227.74, 671.39, 151.28, 46.66]\n",
      "Object: [177.92, 766.94, 240.41, 83.41]\n",
      "Object: [230.58, 456.60, 229.91, 205.69]\n",
      "\n",
      "0: 640x384 2 stops, 79.1ms\n",
      "Speed: 1.0ms preprocess, 79.1ms inference, 1.0ms postprocess per image at shape (1, 3, 640, 384)\n",
      "\n",
      "0: 640x384 1 Fork_Lift, 81.3ms\n",
      "Speed: 2.9ms preprocess, 81.3ms inference, 1.0ms postprocess per image at shape (1, 3, 640, 384)\n",
      "Object: [178.96, 763.72, 239.57, 81.07]\n",
      "Object: [231.55, 665.93, 153.62, 47.52]\n",
      "Object: [230.85, 455.05, 229.73, 204.98]\n",
      "\n",
      "0: 640x384 2 stops, 79.9ms\n",
      "Speed: 2.5ms preprocess, 79.9ms inference, 1.0ms postprocess per image at shape (1, 3, 640, 384)\n",
      "\n",
      "0: 640x384 1 Fork_Lift, 87.5ms\n",
      "Speed: 2.5ms preprocess, 87.5ms inference, 1.0ms postprocess per image at shape (1, 3, 640, 384)\n",
      "Object: [181.06, 761.60, 240.93, 80.52]\n",
      "Object: [231.30, 665.14, 145.82, 45.78]\n",
      "Object: [229.00, 455.65, 231.29, 203.77]\n",
      "\n",
      "0: 640x384 2 stops, 79.3ms\n",
      "Speed: 2.2ms preprocess, 79.3ms inference, 1.0ms postprocess per image at shape (1, 3, 640, 384)\n",
      "\n",
      "0: 640x384 1 Fork_Lift, 79.7ms\n",
      "Speed: 2.5ms preprocess, 79.7ms inference, 1.0ms postprocess per image at shape (1, 3, 640, 384)\n",
      "Object: [183.15, 756.61, 240.74, 82.81]\n",
      "Object: [241.74, 662.71, 142.37, 45.76]\n",
      "Object: [230.64, 448.67, 229.50, 208.80]\n",
      "\n",
      "0: 640x384 2 stops, 80.5ms\n",
      "Speed: 2.2ms preprocess, 80.5ms inference, 0.0ms postprocess per image at shape (1, 3, 640, 384)\n",
      "\n",
      "0: 640x384 1 Fork_Lift, 68.8ms\n",
      "Speed: 2.8ms preprocess, 68.8ms inference, 1.7ms postprocess per image at shape (1, 3, 640, 384)\n",
      "Object: [184.09, 753.87, 239.99, 82.02]\n",
      "Object: [232.39, 659.59, 155.97, 44.43]\n",
      "Object: [231.23, 440.16, 228.25, 216.27]\n",
      "\n",
      "0: 640x384 2 stops, 72.9ms\n",
      "Speed: 2.0ms preprocess, 72.9ms inference, 0.0ms postprocess per image at shape (1, 3, 640, 384)\n",
      "\n",
      "0: 640x384 1 Fork_Lift, 80.9ms\n",
      "Speed: 2.0ms preprocess, 80.9ms inference, 1.1ms postprocess per image at shape (1, 3, 640, 384)\n",
      "Object: [184.70, 747.90, 238.79, 84.41]\n",
      "Object: [232.71, 650.44, 154.24, 51.53]\n",
      "Object: [229.20, 436.67, 229.85, 214.34]\n",
      "\n",
      "0: 640x384 2 stops, 68.7ms\n",
      "Speed: 2.0ms preprocess, 68.7ms inference, 0.4ms postprocess per image at shape (1, 3, 640, 384)\n",
      "\n",
      "0: 640x384 1 Fork_Lift, 79.2ms\n",
      "Speed: 2.0ms preprocess, 79.2ms inference, 1.0ms postprocess per image at shape (1, 3, 640, 384)\n",
      "Object: [184.80, 741.41, 240.38, 85.88]\n",
      "Object: [233.56, 647.06, 151.72, 51.01]\n",
      "Object: [228.67, 431.91, 229.87, 214.00]\n",
      "\n",
      "0: 640x384 2 stops, 78.5ms\n",
      "Speed: 2.1ms preprocess, 78.5ms inference, 1.0ms postprocess per image at shape (1, 3, 640, 384)\n",
      "\n",
      "0: 640x384 1 Fork_Lift, 74.5ms\n",
      "Speed: 2.3ms preprocess, 74.5ms inference, 1.0ms postprocess per image at shape (1, 3, 640, 384)\n",
      "Object: [184.71, 740.16, 243.07, 84.10]\n",
      "Object: [235.08, 645.38, 158.10, 48.07]\n",
      "Object: [228.03, 428.06, 230.27, 215.29]\n",
      "\n",
      "0: 640x384 2 stops, 80.9ms\n",
      "Speed: 2.0ms preprocess, 80.9ms inference, 1.0ms postprocess per image at shape (1, 3, 640, 384)\n",
      "\n",
      "0: 640x384 1 Fork_Lift, 80.7ms\n",
      "Speed: 2.1ms preprocess, 80.7ms inference, 1.0ms postprocess per image at shape (1, 3, 640, 384)\n",
      "Object: [186.22, 736.54, 244.15, 83.26]\n",
      "Object: [234.01, 643.53, 158.84, 46.75]\n",
      "Object: [228.59, 426.46, 229.18, 214.17]\n",
      "\n",
      "0: 640x384 2 stops, 72.9ms\n",
      "Speed: 1.9ms preprocess, 72.9ms inference, 1.0ms postprocess per image at shape (1, 3, 640, 384)\n",
      "\n",
      "0: 640x384 1 Fork_Lift, 71.0ms\n",
      "Speed: 2.2ms preprocess, 71.0ms inference, 1.0ms postprocess per image at shape (1, 3, 640, 384)\n",
      "Object: [185.64, 733.64, 244.25, 81.65]\n",
      "Object: [237.31, 640.07, 155.73, 49.19]\n",
      "Object: [228.76, 425.43, 228.81, 212.98]\n",
      "\n",
      "0: 640x384 2 stops, 81.4ms\n",
      "Speed: 2.0ms preprocess, 81.4ms inference, 1.0ms postprocess per image at shape (1, 3, 640, 384)\n",
      "\n",
      "0: 640x384 1 Fork_Lift, 74.5ms\n",
      "Speed: 1.6ms preprocess, 74.5ms inference, 1.0ms postprocess per image at shape (1, 3, 640, 384)\n",
      "Object: [186.98, 732.58, 238.54, 81.41]\n",
      "Object: [235.79, 637.56, 156.51, 47.30]\n",
      "Object: [228.03, 418.71, 229.44, 217.14]\n",
      "\n",
      "0: 640x384 2 stops, 69.3ms\n",
      "Speed: 3.1ms preprocess, 69.3ms inference, 0.0ms postprocess per image at shape (1, 3, 640, 384)\n",
      "\n",
      "0: 640x384 1 Fork_Lift, 80.5ms\n",
      "Speed: 3.0ms preprocess, 80.5ms inference, 1.0ms postprocess per image at shape (1, 3, 640, 384)\n",
      "Object: [188.74, 729.64, 237.57, 82.86]\n",
      "Object: [232.73, 636.25, 157.52, 45.21]\n",
      "Object: [227.13, 413.96, 230.59, 218.02]\n",
      "\n",
      "0: 640x384 2 stops, 66.2ms\n",
      "Speed: 2.0ms preprocess, 66.2ms inference, 1.0ms postprocess per image at shape (1, 3, 640, 384)\n",
      "\n",
      "0: 640x384 1 Fork_Lift, 76.7ms\n",
      "Speed: 2.5ms preprocess, 76.7ms inference, 1.0ms postprocess per image at shape (1, 3, 640, 384)\n",
      "Object: [189.27, 726.57, 236.09, 83.99]\n",
      "Object: [234.63, 632.74, 156.25, 46.93]\n",
      "Object: [226.36, 413.24, 231.36, 216.77]\n",
      "\n",
      "0: 640x384 2 stops, 70.5ms\n",
      "Speed: 2.0ms preprocess, 70.5ms inference, 1.0ms postprocess per image at shape (1, 3, 640, 384)\n",
      "\n",
      "0: 640x384 1 Fork_Lift, 73.4ms\n",
      "Speed: 2.5ms preprocess, 73.4ms inference, 1.0ms postprocess per image at shape (1, 3, 640, 384)\n",
      "Object: [188.52, 728.71, 239.19, 79.16]\n",
      "Object: [234.52, 630.82, 156.38, 46.40]\n",
      "Object: [226.49, 411.65, 231.30, 216.02]\n",
      "\n",
      "0: 640x384 2 stops, 78.1ms\n",
      "Speed: 2.0ms preprocess, 78.1ms inference, 1.0ms postprocess per image at shape (1, 3, 640, 384)\n",
      "\n",
      "0: 640x384 1 Fork_Lift, 81.6ms\n",
      "Speed: 1.9ms preprocess, 81.6ms inference, 1.0ms postprocess per image at shape (1, 3, 640, 384)\n",
      "Object: [188.96, 725.03, 235.18, 80.63]\n",
      "Object: [233.96, 628.71, 158.23, 47.50]\n",
      "Object: [226.74, 410.82, 230.89, 216.42]\n",
      "\n",
      "0: 640x384 2 stops, 81.4ms\n",
      "Speed: 2.4ms preprocess, 81.4ms inference, 1.0ms postprocess per image at shape (1, 3, 640, 384)\n",
      "\n",
      "0: 640x384 1 Fork_Lift, 82.7ms\n",
      "Speed: 2.9ms preprocess, 82.7ms inference, 0.0ms postprocess per image at shape (1, 3, 640, 384)\n",
      "Object: [188.43, 722.50, 237.14, 80.96]\n",
      "Object: [239.40, 630.53, 150.04, 42.54]\n",
      "Object: [226.35, 410.23, 230.75, 217.03]\n",
      "\n",
      "0: 640x384 2 stops, 79.3ms\n",
      "Speed: 2.0ms preprocess, 79.3ms inference, 1.0ms postprocess per image at shape (1, 3, 640, 384)\n",
      "\n",
      "0: 640x384 1 Fork_Lift, 83.0ms\n",
      "Speed: 2.5ms preprocess, 83.0ms inference, 0.0ms postprocess per image at shape (1, 3, 640, 384)\n",
      "Object: [189.61, 720.64, 235.36, 81.64]\n",
      "Object: [239.09, 629.17, 150.05, 42.00]\n",
      "Object: [225.98, 407.87, 230.88, 219.37]\n",
      "\n",
      "0: 640x384 2 stops, 76.1ms\n",
      "Speed: 2.0ms preprocess, 76.1ms inference, 1.0ms postprocess per image at shape (1, 3, 640, 384)\n",
      "\n",
      "0: 640x384 1 Fork_Lift, 81.3ms\n",
      "Speed: 2.3ms preprocess, 81.3ms inference, 0.0ms postprocess per image at shape (1, 3, 640, 384)\n",
      "Object: [189.13, 718.78, 235.37, 82.68]\n",
      "Object: [235.07, 622.99, 156.22, 47.65]\n",
      "Object: [225.33, 405.42, 232.68, 219.51]\n",
      "\n",
      "0: 640x384 2 stops, 77.2ms\n",
      "Speed: 1.8ms preprocess, 77.2ms inference, 1.1ms postprocess per image at shape (1, 3, 640, 384)\n",
      "\n",
      "0: 640x384 1 Fork_Lift, 77.1ms\n",
      "Speed: 1.8ms preprocess, 77.1ms inference, 1.0ms postprocess per image at shape (1, 3, 640, 384)\n",
      "Object: [188.38, 716.07, 236.80, 83.21]\n",
      "Object: [236.13, 623.14, 156.27, 47.67]\n",
      "Object: [225.47, 403.87, 231.50, 221.00]\n",
      "\n",
      "0: 640x384 2 stops, 76.3ms\n",
      "Speed: 2.4ms preprocess, 76.3ms inference, 1.0ms postprocess per image at shape (1, 3, 640, 384)\n",
      "\n",
      "0: 640x384 1 Fork_Lift, 79.1ms\n",
      "Speed: 2.8ms preprocess, 79.1ms inference, 1.0ms postprocess per image at shape (1, 3, 640, 384)\n",
      "Object: [188.29, 715.35, 237.42, 82.28]\n",
      "Object: [236.27, 622.32, 156.00, 47.16]\n",
      "Object: [225.80, 403.47, 230.33, 220.45]\n",
      "\n",
      "0: 640x384 2 stops, 80.2ms\n",
      "Speed: 2.0ms preprocess, 80.2ms inference, 1.0ms postprocess per image at shape (1, 3, 640, 384)\n",
      "\n",
      "0: 640x384 1 Fork_Lift, 82.0ms\n",
      "Speed: 3.2ms preprocess, 82.0ms inference, 1.0ms postprocess per image at shape (1, 3, 640, 384)\n",
      "Object: [187.83, 714.51, 237.24, 83.90]\n",
      "Object: [236.00, 621.99, 153.84, 46.77]\n",
      "Object: [225.23, 402.69, 230.50, 220.55]\n",
      "\n",
      "0: 640x384 2 stops, 90.9ms\n",
      "Speed: 2.0ms preprocess, 90.9ms inference, 1.0ms postprocess per image at shape (1, 3, 640, 384)\n",
      "\n",
      "0: 640x384 1 Fork_Lift, 74.5ms\n",
      "Speed: 2.1ms preprocess, 74.5ms inference, 1.0ms postprocess per image at shape (1, 3, 640, 384)\n",
      "Object: [186.92, 713.18, 242.93, 84.63]\n",
      "Object: [236.12, 620.62, 152.51, 47.02]\n",
      "Object: [223.93, 401.19, 230.96, 221.45]\n",
      "\n",
      "0: 640x384 3 stops, 77.9ms\n",
      "Speed: 1.8ms preprocess, 77.9ms inference, 1.0ms postprocess per image at shape (1, 3, 640, 384)\n",
      "\n",
      "0: 640x384 1 Fork_Lift, 79.6ms\n",
      "Speed: 2.3ms preprocess, 79.6ms inference, 1.2ms postprocess per image at shape (1, 3, 640, 384)\n",
      "Object: [184.81, 712.09, 244.28, 84.82]\n",
      "Object: [235.56, 620.69, 151.27, 47.63]\n",
      "Object: [394.23, 539.87, 55.35, 71.44]\n",
      "Object: [220.91, 401.50, 233.48, 222.00]\n",
      "\n",
      "0: 640x384 2 stops, 73.8ms\n",
      "Speed: 2.0ms preprocess, 73.8ms inference, 0.0ms postprocess per image at shape (1, 3, 640, 384)\n",
      "\n",
      "0: 640x384 1 Fork_Lift, 69.3ms\n",
      "Speed: 2.8ms preprocess, 69.3ms inference, 1.0ms postprocess per image at shape (1, 3, 640, 384)\n",
      "Object: [184.99, 713.27, 239.82, 82.77]\n",
      "Object: [234.42, 620.59, 155.23, 46.21]\n",
      "Object: [220.60, 401.11, 231.43, 222.63]\n",
      "\n",
      "0: 640x384 2 stops, 86.2ms\n",
      "Speed: 2.8ms preprocess, 86.2ms inference, 1.0ms postprocess per image at shape (1, 3, 640, 384)\n",
      "\n",
      "0: 640x384 1 Fork_Lift, 86.4ms\n",
      "Speed: 3.2ms preprocess, 86.4ms inference, 0.0ms postprocess per image at shape (1, 3, 640, 384)\n",
      "Object: [182.99, 712.90, 239.63, 83.12]\n",
      "Object: [233.90, 619.83, 156.34, 47.31]\n",
      "Object: [218.11, 401.74, 231.47, 221.75]\n",
      "\n",
      "0: 640x384 2 stops, 77.0ms\n",
      "Speed: 2.7ms preprocess, 77.0ms inference, 1.0ms postprocess per image at shape (1, 3, 640, 384)\n",
      "\n",
      "0: 640x384 1 Fork_Lift, 78.1ms\n",
      "Speed: 2.6ms preprocess, 78.1ms inference, 1.0ms postprocess per image at shape (1, 3, 640, 384)\n",
      "Object: [181.19, 712.90, 239.02, 83.19]\n",
      "Object: [230.48, 620.45, 157.68, 46.70]\n",
      "Object: [210.84, 401.24, 233.80, 222.44]\n",
      "\n",
      "0: 640x384 2 stops, 85.9ms\n",
      "Speed: 1.1ms preprocess, 85.9ms inference, 1.0ms postprocess per image at shape (1, 3, 640, 384)\n",
      "\n",
      "0: 640x384 1 Fork_Lift, 86.8ms\n",
      "Speed: 1.5ms preprocess, 86.8ms inference, 1.0ms postprocess per image at shape (1, 3, 640, 384)\n",
      "Object: [178.06, 712.20, 240.37, 85.32]\n",
      "Object: [228.46, 621.24, 154.67, 46.27]\n",
      "Object: [203.57, 401.14, 233.74, 222.88]\n",
      "\n",
      "0: 640x384 2 stops, 77.2ms\n",
      "Speed: 2.0ms preprocess, 77.2ms inference, 1.0ms postprocess per image at shape (1, 3, 640, 384)\n",
      "\n",
      "0: 640x384 1 Fork_Lift, 80.0ms\n",
      "Speed: 2.2ms preprocess, 80.0ms inference, 1.0ms postprocess per image at shape (1, 3, 640, 384)\n",
      "Object: [176.47, 713.65, 240.13, 84.47]\n",
      "Object: [227.60, 624.35, 148.47, 43.40]\n",
      "Object: [202.70, 400.47, 230.24, 223.67]\n",
      "\n",
      "0: 640x384 2 stops, 83.1ms\n",
      "Speed: 2.0ms preprocess, 83.1ms inference, 1.1ms postprocess per image at shape (1, 3, 640, 384)\n",
      "\n",
      "0: 640x384 1 Fork_Lift, 81.5ms\n",
      "Speed: 2.1ms preprocess, 81.5ms inference, 1.0ms postprocess per image at shape (1, 3, 640, 384)\n",
      "Object: [171.77, 715.28, 240.23, 84.52]\n",
      "Object: [224.56, 621.10, 154.88, 47.41]\n",
      "Object: [201.35, 399.88, 229.88, 224.34]\n",
      "\n",
      "0: 640x384 2 stops, 87.5ms\n",
      "Speed: 2.0ms preprocess, 87.5ms inference, 1.0ms postprocess per image at shape (1, 3, 640, 384)\n",
      "\n",
      "0: 640x384 1 Fork_Lift, 127.0ms\n",
      "Speed: 2.6ms preprocess, 127.0ms inference, 1.0ms postprocess per image at shape (1, 3, 640, 384)\n",
      "Object: [170.95, 717.15, 238.60, 83.49]\n",
      "Object: [220.27, 622.62, 155.86, 48.84]\n",
      "Object: [200.88, 399.66, 228.17, 225.59]\n",
      "\n",
      "0: 640x384 2 stops, 77.0ms\n",
      "Speed: 2.0ms preprocess, 77.0ms inference, 1.0ms postprocess per image at shape (1, 3, 640, 384)\n",
      "\n",
      "0: 640x384 1 Fork_Lift, 82.9ms\n",
      "Speed: 3.0ms preprocess, 82.9ms inference, 0.0ms postprocess per image at shape (1, 3, 640, 384)\n",
      "Object: [166.99, 718.52, 239.42, 82.45]\n",
      "Object: [221.45, 624.13, 155.37, 47.78]\n",
      "Object: [200.38, 400.06, 226.49, 226.93]\n",
      "\n",
      "0: 640x384 2 stops, 75.3ms\n",
      "Speed: 1.9ms preprocess, 75.3ms inference, 0.0ms postprocess per image at shape (1, 3, 640, 384)\n",
      "\n",
      "0: 640x384 1 Fork_Lift, 75.0ms\n",
      "Speed: 1.9ms preprocess, 75.0ms inference, 1.0ms postprocess per image at shape (1, 3, 640, 384)\n",
      "Object: [162.70, 718.11, 243.13, 82.49]\n",
      "Object: [218.22, 623.77, 156.29, 49.34]\n",
      "Object: [199.98, 399.85, 224.70, 227.27]\n",
      "\n",
      "0: 640x384 2 stops, 75.9ms\n",
      "Speed: 3.1ms preprocess, 75.9ms inference, 0.0ms postprocess per image at shape (1, 3, 640, 384)\n",
      "\n",
      "0: 640x384 1 Fork_Lift, 97.1ms\n",
      "Speed: 2.5ms preprocess, 97.1ms inference, 0.5ms postprocess per image at shape (1, 3, 640, 384)\n",
      "Object: [161.95, 719.21, 241.32, 81.63]\n",
      "Object: [216.97, 624.81, 153.89, 47.55]\n",
      "Object: [199.28, 400.42, 223.57, 228.42]\n",
      "\n",
      "0: 640x384 2 stops, 72.0ms\n",
      "Speed: 2.0ms preprocess, 72.0ms inference, 1.0ms postprocess per image at shape (1, 3, 640, 384)\n",
      "\n",
      "0: 640x384 1 Fork_Lift, 80.1ms\n",
      "Speed: 2.0ms preprocess, 80.1ms inference, 1.0ms postprocess per image at shape (1, 3, 640, 384)\n",
      "Object: [159.91, 719.75, 238.16, 82.57]\n",
      "Object: [213.78, 621.82, 153.66, 49.35]\n",
      "Object: [196.77, 402.36, 224.65, 229.48]\n",
      "\n",
      "0: 640x384 3 stops, 71.2ms\n",
      "Speed: 2.0ms preprocess, 71.2ms inference, 1.0ms postprocess per image at shape (1, 3, 640, 384)\n",
      "\n",
      "0: 640x384 1 Fork_Lift, 76.2ms\n",
      "Speed: 2.4ms preprocess, 76.2ms inference, 0.0ms postprocess per image at shape (1, 3, 640, 384)\n",
      "Object: [156.13, 721.43, 239.65, 81.88]\n",
      "Object: [205.00, 623.93, 160.07, 50.06]\n",
      "Object: [598.87, 385.17, 39.75, 116.39]\n",
      "Object: [195.26, 400.88, 222.91, 234.71]\n",
      "\n",
      "0: 640x384 3 stops, 63.6ms\n",
      "Speed: 2.0ms preprocess, 63.6ms inference, 1.0ms postprocess per image at shape (1, 3, 640, 384)\n",
      "\n",
      "0: 640x384 1 Fork_Lift, 89.4ms\n",
      "Speed: 3.0ms preprocess, 89.4ms inference, 1.0ms postprocess per image at shape (1, 3, 640, 384)\n",
      "Object: [153.55, 721.94, 240.63, 83.12]\n",
      "Object: [203.80, 624.71, 159.27, 50.71]\n",
      "Object: [596.71, 388.26, 41.30, 113.97]\n",
      "Object: [193.65, 404.15, 219.50, 232.39]\n",
      "\n",
      "0: 640x384 3 stops, 82.9ms\n",
      "Speed: 2.0ms preprocess, 82.9ms inference, 1.0ms postprocess per image at shape (1, 3, 640, 384)\n",
      "\n",
      "0: 640x384 1 Fork_Lift, 75.6ms\n",
      "Speed: 2.8ms preprocess, 75.6ms inference, 1.0ms postprocess per image at shape (1, 3, 640, 384)\n",
      "Object: [150.48, 723.20, 238.90, 82.70]\n",
      "Object: [200.70, 624.63, 161.67, 52.18]\n",
      "Object: [595.19, 387.74, 42.46, 113.16]\n",
      "Object: [191.41, 403.15, 215.40, 233.73]\n",
      "\n",
      "0: 640x384 3 stops, 81.6ms\n",
      "Speed: 1.7ms preprocess, 81.6ms inference, 0.0ms postprocess per image at shape (1, 3, 640, 384)\n",
      "\n",
      "0: 640x384 1 Fork_Lift, 145.4ms\n",
      "Speed: 2.6ms preprocess, 145.4ms inference, 0.0ms postprocess per image at shape (1, 3, 640, 384)\n",
      "Object: [146.37, 723.91, 239.97, 83.14]\n",
      "Object: [591.37, 387.21, 46.52, 114.03]\n",
      "Object: [199.03, 626.01, 157.82, 51.95]\n",
      "Object: [190.36, 405.25, 213.04, 230.56]\n",
      "\n",
      "0: 640x384 3 stops, 80.2ms\n",
      "Speed: 2.1ms preprocess, 80.2ms inference, 0.0ms postprocess per image at shape (1, 3, 640, 384)\n",
      "\n",
      "0: 640x384 1 Fork_Lift, 81.9ms\n",
      "Speed: 3.2ms preprocess, 81.9ms inference, 1.0ms postprocess per image at shape (1, 3, 640, 384)\n",
      "Object: [589.02, 388.35, 48.79, 111.16]\n",
      "Object: [142.24, 726.74, 239.25, 81.20]\n",
      "Object: [198.48, 630.17, 158.63, 45.86]\n",
      "Object: [182.31, 407.57, 219.63, 231.55]\n",
      "\n",
      "0: 640x384 3 stops, 84.6ms\n",
      "Speed: 2.1ms preprocess, 84.6ms inference, 1.0ms postprocess per image at shape (1, 3, 640, 384)\n",
      "\n",
      "0: 640x384 1 Fork_Lift, 75.6ms\n",
      "Speed: 2.8ms preprocess, 75.6ms inference, 0.0ms postprocess per image at shape (1, 3, 640, 384)\n",
      "Object: [586.00, 388.63, 52.02, 114.45]\n",
      "Object: [138.97, 727.04, 241.04, 82.61]\n",
      "Object: [189.61, 629.70, 159.68, 49.18]\n",
      "Object: [177.44, 405.32, 222.81, 231.36]\n",
      "\n",
      "0: 640x384 3 stops, 87.1ms\n",
      "Speed: 2.0ms preprocess, 87.1ms inference, 1.0ms postprocess per image at shape (1, 3, 640, 384)\n",
      "\n",
      "0: 640x384 1 Fork_Lift, 91.4ms\n",
      "Speed: 2.6ms preprocess, 91.4ms inference, 1.0ms postprocess per image at shape (1, 3, 640, 384)\n",
      "Object: [582.32, 389.81, 55.19, 114.02]\n",
      "Object: [135.01, 727.25, 240.73, 82.96]\n",
      "Object: [191.78, 633.61, 160.46, 44.41]\n",
      "Object: [176.62, 404.68, 223.16, 233.00]\n",
      "\n",
      "0: 640x384 3 stops, 77.6ms\n",
      "Speed: 2.0ms preprocess, 77.6ms inference, 1.0ms postprocess per image at shape (1, 3, 640, 384)\n",
      "\n",
      "0: 640x384 1 Fork_Lift, 82.8ms\n",
      "Speed: 2.7ms preprocess, 82.8ms inference, 1.0ms postprocess per image at shape (1, 3, 640, 384)\n",
      "Object: [131.69, 727.17, 241.95, 84.59]\n",
      "Object: [579.21, 391.74, 58.86, 110.65]\n",
      "Object: [184.85, 633.76, 158.91, 46.67]\n",
      "Object: [175.93, 405.31, 220.97, 233.09]\n",
      "\n",
      "0: 640x384 3 stops, 81.5ms\n",
      "Speed: 1.0ms preprocess, 81.5ms inference, 0.5ms postprocess per image at shape (1, 3, 640, 384)\n",
      "\n",
      "0: 640x384 1 Fork_Lift, 83.2ms\n",
      "Speed: 2.0ms preprocess, 83.2ms inference, 0.0ms postprocess per image at shape (1, 3, 640, 384)\n",
      "Object: [128.62, 728.89, 238.95, 83.73]\n",
      "Object: [572.79, 394.41, 63.85, 109.19]\n",
      "Object: [188.14, 637.99, 153.21, 44.27]\n",
      "Object: [172.64, 412.06, 222.75, 229.32]\n",
      "\n",
      "0: 640x384 3 stops, 72.4ms\n",
      "Speed: 2.1ms preprocess, 72.4ms inference, 1.0ms postprocess per image at shape (1, 3, 640, 384)\n",
      "\n",
      "0: 640x384 1 Fork_Lift, 88.6ms\n",
      "Speed: 2.8ms preprocess, 88.6ms inference, 1.0ms postprocess per image at shape (1, 3, 640, 384)\n",
      "Object: [124.60, 730.03, 241.42, 82.01]\n",
      "Object: [568.48, 394.89, 69.12, 109.92]\n",
      "Object: [185.03, 638.10, 156.05, 44.68]\n",
      "Object: [168.91, 412.62, 221.04, 228.97]\n",
      "\n",
      "0: 640x384 3 stops, 78.0ms\n",
      "Speed: 2.0ms preprocess, 78.0ms inference, 1.0ms postprocess per image at shape (1, 3, 640, 384)\n",
      "\n",
      "0: 640x384 1 Fork_Lift, 133.3ms\n",
      "Speed: 4.4ms preprocess, 133.3ms inference, 1.0ms postprocess per image at shape (1, 3, 640, 384)\n",
      "Object: [564.17, 397.48, 73.55, 107.54]\n",
      "Object: [120.23, 731.54, 241.07, 82.09]\n",
      "Object: [178.78, 639.03, 154.90, 44.18]\n",
      "Object: [167.21, 411.91, 217.09, 230.81]\n",
      "\n",
      "0: 640x384 3 stops, 87.1ms\n",
      "Speed: 2.0ms preprocess, 87.1ms inference, 1.0ms postprocess per image at shape (1, 3, 640, 384)\n",
      "\n",
      "0: 640x384 1 Fork_Lift, 73.2ms\n",
      "Speed: 2.6ms preprocess, 73.2ms inference, 1.0ms postprocess per image at shape (1, 3, 640, 384)\n",
      "Object: [116.26, 732.95, 240.71, 81.83]\n",
      "Object: [559.07, 396.76, 80.62, 109.77]\n",
      "Object: [175.15, 637.79, 152.01, 45.20]\n",
      "Object: [164.22, 413.10, 213.49, 234.77]\n",
      "\n",
      "0: 640x384 3 stops, 75.3ms\n",
      "Speed: 3.2ms preprocess, 75.3ms inference, 1.0ms postprocess per image at shape (1, 3, 640, 384)\n",
      "\n",
      "0: 640x384 1 Fork_Lift, 79.6ms\n",
      "Speed: 3.3ms preprocess, 79.6ms inference, 1.0ms postprocess per image at shape (1, 3, 640, 384)\n",
      "Object: [110.00, 733.65, 244.60, 82.42]\n",
      "Object: [554.61, 398.06, 85.28, 108.53]\n",
      "Object: [172.81, 637.13, 150.64, 47.29]\n",
      "Object: [161.24, 413.09, 213.72, 230.82]\n",
      "\n",
      "0: 640x384 3 stops, 80.6ms\n",
      "Speed: 2.0ms preprocess, 80.6ms inference, 1.0ms postprocess per image at shape (1, 3, 640, 384)\n",
      "\n",
      "0: 640x384 1 Fork_Lift, 83.3ms\n",
      "Speed: 1.5ms preprocess, 83.3ms inference, 1.0ms postprocess per image at shape (1, 3, 640, 384)\n",
      "Object: [106.58, 734.25, 244.80, 82.23]\n",
      "Object: [551.73, 397.50, 88.15, 109.27]\n",
      "Object: [166.09, 638.04, 155.85, 46.43]\n",
      "Object: [148.15, 413.40, 223.37, 232.87]\n",
      "\n",
      "0: 640x384 3 stops, 81.0ms\n",
      "Speed: 2.7ms preprocess, 81.0ms inference, 1.0ms postprocess per image at shape (1, 3, 640, 384)\n",
      "\n",
      "0: 640x384 1 Fork_Lift, 90.3ms\n",
      "Speed: 2.0ms preprocess, 90.3ms inference, 1.0ms postprocess per image at shape (1, 3, 640, 384)\n",
      "Object: [103.55, 734.63, 242.74, 81.33]\n",
      "Object: [547.25, 397.56, 92.75, 111.81]\n",
      "Object: [162.84, 639.36, 158.23, 45.39]\n",
      "Object: [145.39, 414.07, 225.03, 233.51]\n",
      "\n",
      "0: 640x384 3 stops, 75.0ms\n",
      "Speed: 3.0ms preprocess, 75.0ms inference, 1.0ms postprocess per image at shape (1, 3, 640, 384)\n",
      "\n",
      "0: 640x384 1 Fork_Lift, 81.0ms\n",
      "Speed: 2.9ms preprocess, 81.0ms inference, 1.0ms postprocess per image at shape (1, 3, 640, 384)\n",
      "Object: [100.35, 735.05, 241.83, 80.75]\n",
      "Object: [544.66, 398.10, 95.34, 113.01]\n",
      "Object: [154.91, 637.70, 160.85, 49.01]\n",
      "Object: [143.50, 415.91, 226.37, 237.94]\n",
      "\n",
      "0: 640x384 3 stops, 89.5ms\n",
      "Speed: 7.1ms preprocess, 89.5ms inference, 1.0ms postprocess per image at shape (1, 3, 640, 384)\n",
      "\n",
      "0: 640x384 1 Fork_Lift, 79.8ms\n",
      "Speed: 3.7ms preprocess, 79.8ms inference, 1.0ms postprocess per image at shape (1, 3, 640, 384)\n",
      "Object: [95.19, 735.45, 244.08, 82.34]\n",
      "Object: [541.43, 400.98, 98.57, 109.61]\n",
      "Object: [155.70, 640.01, 164.37, 47.60]\n",
      "Object: [144.35, 415.46, 219.91, 239.57]\n",
      "\n",
      "0: 640x384 3 stops, 79.0ms\n",
      "Speed: 2.4ms preprocess, 79.0ms inference, 1.0ms postprocess per image at shape (1, 3, 640, 384)\n",
      "\n",
      "0: 640x384 1 Fork_Lift, 81.0ms\n",
      "Speed: 2.4ms preprocess, 81.0ms inference, 1.0ms postprocess per image at shape (1, 3, 640, 384)\n",
      "Object: [92.02, 735.94, 242.10, 83.07]\n",
      "Object: [538.19, 401.79, 101.81, 109.02]\n",
      "Object: [155.85, 640.57, 156.98, 47.70]\n",
      "Object: [143.11, 421.49, 217.33, 230.50]\n",
      "\n",
      "0: 640x384 3 stops, 76.7ms\n",
      "Speed: 2.0ms preprocess, 76.7ms inference, 1.0ms postprocess per image at shape (1, 3, 640, 384)\n",
      "\n",
      "0: 640x384 1 Fork_Lift, 83.6ms\n",
      "Speed: 3.4ms preprocess, 83.6ms inference, 1.0ms postprocess per image at shape (1, 3, 640, 384)\n",
      "Object: [89.63, 736.75, 243.22, 81.56]\n",
      "Object: [534.07, 401.13, 105.93, 110.63]\n",
      "Object: [151.19, 639.43, 157.04, 49.85]\n",
      "Object: [140.88, 427.68, 216.76, 226.27]\n",
      "\n",
      "0: 640x384 3 stops, 78.7ms\n",
      "Speed: 3.1ms preprocess, 78.7ms inference, 1.2ms postprocess per image at shape (1, 3, 640, 384)\n",
      "\n",
      "0: 640x384 1 Fork_Lift, 81.1ms\n",
      "Speed: 1.8ms preprocess, 81.1ms inference, 1.0ms postprocess per image at shape (1, 3, 640, 384)\n",
      "Object: [530.86, 401.77, 109.00, 110.03]\n",
      "Object: [85.94, 737.23, 243.50, 81.61]\n",
      "Object: [150.19, 641.81, 158.72, 47.70]\n",
      "Object: [138.58, 418.32, 214.63, 236.51]\n",
      "\n",
      "0: 640x384 3 stops, 89.1ms\n",
      "Speed: 2.0ms preprocess, 89.1ms inference, 1.0ms postprocess per image at shape (1, 3, 640, 384)\n",
      "\n",
      "0: 640x384 1 Fork_Lift, 81.6ms\n",
      "Speed: 2.9ms preprocess, 81.6ms inference, 0.0ms postprocess per image at shape (1, 3, 640, 384)\n",
      "Object: [527.80, 402.06, 109.31, 110.48]\n",
      "Object: [147.00, 641.53, 162.75, 47.70]\n",
      "Object: [82.75, 738.39, 245.81, 80.78]\n",
      "Object: [135.70, 421.69, 210.64, 233.41]\n",
      "\n",
      "0: 640x384 3 stops, 67.5ms\n",
      "Speed: 2.9ms preprocess, 67.5ms inference, 0.0ms postprocess per image at shape (1, 3, 640, 384)\n",
      "\n",
      "0: 640x384 1 Fork_Lift, 84.3ms\n",
      "Speed: 2.1ms preprocess, 84.3ms inference, 0.0ms postprocess per image at shape (1, 3, 640, 384)\n",
      "Object: [526.37, 401.82, 109.36, 111.57]\n",
      "Object: [145.27, 642.47, 157.90, 47.14]\n",
      "Object: [78.91, 738.69, 247.85, 81.11]\n",
      "Object: [134.76, 422.87, 210.79, 233.12]\n",
      "\n",
      "0: 640x384 3 stops, 120.0ms\n",
      "Speed: 2.0ms preprocess, 120.0ms inference, 1.0ms postprocess per image at shape (1, 3, 640, 384)\n",
      "\n",
      "0: 640x384 1 Fork_Lift, 88.1ms\n",
      "Speed: 2.7ms preprocess, 88.1ms inference, 0.0ms postprocess per image at shape (1, 3, 640, 384)\n",
      "Object: [525.16, 402.00, 109.24, 111.10]\n",
      "Object: [76.71, 739.13, 248.14, 81.84]\n",
      "Object: [139.90, 644.22, 157.92, 45.41]\n",
      "Object: [133.15, 423.94, 212.09, 231.46]\n",
      "\n",
      "0: 640x384 3 stops, 79.6ms\n",
      "Speed: 2.0ms preprocess, 79.6ms inference, 0.0ms postprocess per image at shape (1, 3, 640, 384)\n",
      "\n",
      "0: 640x384 1 Fork_Lift, 88.4ms\n",
      "Speed: 1.9ms preprocess, 88.4ms inference, 1.0ms postprocess per image at shape (1, 3, 640, 384)\n",
      "Object: [139.14, 644.20, 155.45, 45.81]\n",
      "Object: [522.54, 402.32, 109.61, 111.06]\n",
      "Object: [76.05, 739.21, 244.69, 82.12]\n",
      "Object: [127.96, 418.27, 216.88, 236.20]\n",
      "\n",
      "0: 640x384 3 stops, 77.0ms\n",
      "Speed: 2.0ms preprocess, 77.0ms inference, 1.0ms postprocess per image at shape (1, 3, 640, 384)\n",
      "\n",
      "0: 640x384 1 Fork_Lift, 87.0ms\n",
      "Speed: 2.3ms preprocess, 87.0ms inference, 1.0ms postprocess per image at shape (1, 3, 640, 384)\n",
      "Object: [520.22, 402.37, 112.84, 110.07]\n",
      "Object: [74.10, 740.17, 245.83, 81.34]\n",
      "Object: [143.43, 644.62, 156.31, 45.77]\n",
      "Object: [124.71, 422.50, 219.73, 233.22]\n",
      "\n",
      "0: 640x384 3 stops, 77.3ms\n",
      "Speed: 2.0ms preprocess, 77.3ms inference, 1.0ms postprocess per image at shape (1, 3, 640, 384)\n",
      "\n",
      "0: 640x384 1 Fork_Lift, 85.4ms\n",
      "Speed: 2.8ms preprocess, 85.4ms inference, 1.0ms postprocess per image at shape (1, 3, 640, 384)\n",
      "Object: [72.62, 740.24, 246.09, 80.70]\n",
      "Object: [518.26, 403.05, 110.91, 109.18]\n",
      "Object: [135.23, 643.35, 155.84, 47.62]\n",
      "Object: [123.35, 419.13, 220.99, 235.39]\n",
      "\n",
      "0: 640x384 3 stops, 77.0ms\n",
      "Speed: 2.0ms preprocess, 77.0ms inference, 0.0ms postprocess per image at shape (1, 3, 640, 384)\n",
      "\n",
      "0: 640x384 1 Fork_Lift, 85.7ms\n",
      "Speed: 2.0ms preprocess, 85.7ms inference, 1.0ms postprocess per image at shape (1, 3, 640, 384)\n",
      "Object: [72.03, 740.23, 246.68, 81.05]\n",
      "Object: [518.48, 403.27, 109.71, 109.15]\n",
      "Object: [136.48, 644.84, 160.78, 45.70]\n",
      "Object: [124.11, 421.03, 219.98, 233.75]\n",
      "\n",
      "0: 640x384 3 stops, 82.3ms\n",
      "Speed: 2.0ms preprocess, 82.3ms inference, 1.0ms postprocess per image at shape (1, 3, 640, 384)\n",
      "\n",
      "0: 640x384 1 Fork_Lift, 82.3ms\n",
      "Speed: 2.0ms preprocess, 82.3ms inference, 1.0ms postprocess per image at shape (1, 3, 640, 384)\n",
      "Object: [518.58, 403.57, 109.23, 109.04]\n",
      "Object: [71.46, 740.17, 246.63, 81.39]\n",
      "Object: [137.62, 644.20, 158.87, 46.95]\n",
      "Object: [123.13, 420.89, 221.00, 234.04]\n",
      "\n",
      "0: 640x384 3 stops, 84.8ms\n",
      "Speed: 2.7ms preprocess, 84.8ms inference, 1.0ms postprocess per image at shape (1, 3, 640, 384)\n",
      "\n",
      "0: 640x384 1 Fork_Lift, 84.5ms\n",
      "Speed: 3.1ms preprocess, 84.5ms inference, 1.0ms postprocess per image at shape (1, 3, 640, 384)\n",
      "Object: [518.87, 403.84, 109.02, 108.92]\n",
      "Object: [71.48, 739.88, 246.77, 81.96]\n",
      "Object: [137.93, 644.79, 157.90, 46.28]\n",
      "Object: [123.84, 417.67, 220.33, 236.79]\n",
      "\n",
      "0: 640x384 3 stops, 74.2ms\n",
      "Speed: 2.0ms preprocess, 74.2ms inference, 0.0ms postprocess per image at shape (1, 3, 640, 384)\n",
      "\n",
      "0: 640x384 1 Fork_Lift, 83.9ms\n",
      "Speed: 2.5ms preprocess, 83.9ms inference, 0.0ms postprocess per image at shape (1, 3, 640, 384)\n",
      "Object: [71.69, 740.07, 246.59, 81.50]\n",
      "Object: [518.54, 403.94, 110.02, 109.30]\n",
      "Object: [136.03, 643.25, 154.67, 48.64]\n",
      "Object: [122.46, 416.78, 221.94, 238.02]\n",
      "\n",
      "0: 640x384 3 stops, 81.2ms\n",
      "Speed: 2.0ms preprocess, 81.2ms inference, 1.9ms postprocess per image at shape (1, 3, 640, 384)\n",
      "\n",
      "0: 640x384 1 Fork_Lift, 85.8ms\n",
      "Speed: 2.8ms preprocess, 85.8ms inference, 1.0ms postprocess per image at shape (1, 3, 640, 384)\n",
      "Object: [519.66, 403.81, 112.98, 110.65]\n",
      "Object: [72.61, 739.64, 246.14, 82.07]\n",
      "Object: [135.70, 643.17, 156.01, 47.84]\n",
      "Object: [124.78, 415.28, 219.64, 240.94]\n",
      "\n",
      "0: 640x384 3 stops, 93.1ms\n",
      "Speed: 2.3ms preprocess, 93.1ms inference, 1.0ms postprocess per image at shape (1, 3, 640, 384)\n",
      "\n",
      "0: 640x384 1 Fork_Lift, 96.5ms\n",
      "Speed: 2.8ms preprocess, 96.5ms inference, 1.0ms postprocess per image at shape (1, 3, 640, 384)\n",
      "Object: [521.60, 404.72, 110.80, 111.29]\n",
      "Object: [73.76, 739.55, 245.84, 82.54]\n",
      "Object: [135.55, 644.00, 157.79, 47.63]\n",
      "Object: [129.22, 414.03, 215.77, 243.07]\n",
      "\n",
      "0: 640x384 3 stops, 81.8ms\n",
      "Speed: 2.0ms preprocess, 81.8ms inference, 1.0ms postprocess per image at shape (1, 3, 640, 384)\n",
      "\n",
      "0: 640x384 1 Fork_Lift, 85.7ms\n",
      "Speed: 2.2ms preprocess, 85.7ms inference, 1.0ms postprocess per image at shape (1, 3, 640, 384)\n",
      "Object: [523.69, 404.40, 110.18, 111.49]\n",
      "Object: [75.56, 739.86, 244.59, 82.24]\n",
      "Object: [145.61, 645.38, 159.18, 46.63]\n",
      "Object: [132.39, 415.56, 212.96, 241.82]\n",
      "\n",
      "0: 640x384 3 stops, 126.7ms\n",
      "Speed: 2.0ms preprocess, 126.7ms inference, 1.0ms postprocess per image at shape (1, 3, 640, 384)\n",
      "\n",
      "0: 640x384 1 Fork_Lift, 82.3ms\n",
      "Speed: 1.8ms preprocess, 82.3ms inference, 1.0ms postprocess per image at shape (1, 3, 640, 384)\n",
      "Object: [527.55, 404.02, 107.25, 110.82]\n",
      "Object: [76.87, 739.75, 249.72, 82.77]\n",
      "Object: [142.28, 642.87, 154.02, 49.62]\n",
      "Object: [134.34, 416.52, 211.43, 240.75]\n",
      "\n",
      "0: 640x384 3 stops, 88.7ms\n",
      "Speed: 2.0ms preprocess, 88.7ms inference, 1.0ms postprocess per image at shape (1, 3, 640, 384)\n",
      "\n",
      "0: 640x384 1 Fork_Lift, 84.7ms\n",
      "Speed: 2.9ms preprocess, 84.7ms inference, 0.0ms postprocess per image at shape (1, 3, 640, 384)\n",
      "Object: [529.21, 405.20, 107.22, 109.87]\n",
      "Object: [80.53, 739.75, 247.99, 81.89]\n",
      "Object: [141.97, 642.73, 159.45, 50.46]\n",
      "Object: [136.47, 421.19, 210.26, 237.55]\n",
      "\n",
      "0: 640x384 3 stops, 70.4ms\n",
      "Speed: 3.0ms preprocess, 70.4ms inference, 1.0ms postprocess per image at shape (1, 3, 640, 384)\n",
      "\n",
      "0: 640x384 1 Fork_Lift, 88.7ms\n",
      "Speed: 2.2ms preprocess, 88.7ms inference, 0.8ms postprocess per image at shape (1, 3, 640, 384)\n",
      "Object: [532.58, 404.24, 107.38, 111.57]\n",
      "Object: [83.25, 739.58, 246.56, 83.64]\n",
      "Object: [146.90, 644.18, 156.59, 49.10]\n",
      "Object: [139.14, 425.11, 215.60, 233.92]\n",
      "\n",
      "0: 640x384 3 stops, 84.7ms\n",
      "Speed: 2.0ms preprocess, 84.7ms inference, 1.0ms postprocess per image at shape (1, 3, 640, 384)\n",
      "\n",
      "0: 640x384 1 Fork_Lift, 86.8ms\n",
      "Speed: 2.1ms preprocess, 86.8ms inference, 1.0ms postprocess per image at shape (1, 3, 640, 384)\n",
      "Object: [535.00, 404.78, 105.00, 112.90]\n",
      "Object: [88.64, 738.57, 242.30, 85.44]\n",
      "Object: [151.11, 646.93, 160.63, 45.08]\n",
      "Object: [141.32, 427.05, 216.85, 232.10]\n",
      "\n",
      "0: 640x384 3 stops, 87.2ms\n",
      "Speed: 2.0ms preprocess, 87.2ms inference, 1.0ms postprocess per image at shape (1, 3, 640, 384)\n",
      "\n",
      "0: 640x384 1 Fork_Lift, 84.7ms\n",
      "Speed: 2.5ms preprocess, 84.7ms inference, 0.0ms postprocess per image at shape (1, 3, 640, 384)\n",
      "Object: [541.41, 405.71, 98.59, 112.38]\n",
      "Object: [92.20, 740.38, 241.07, 83.46]\n",
      "Object: [152.60, 645.25, 159.55, 49.11]\n",
      "Object: [143.57, 425.58, 219.09, 233.66]\n",
      "\n",
      "0: 640x384 3 stops, 127.5ms\n",
      "Speed: 2.6ms preprocess, 127.5ms inference, 1.0ms postprocess per image at shape (1, 3, 640, 384)\n",
      "\n",
      "0: 640x384 1 Fork_Lift, 84.9ms\n",
      "Speed: 3.0ms preprocess, 84.9ms inference, 1.0ms postprocess per image at shape (1, 3, 640, 384)\n",
      "Object: [543.87, 407.95, 96.13, 110.45]\n",
      "Object: [96.16, 739.68, 245.90, 85.39]\n",
      "Object: [157.26, 645.89, 157.33, 50.16]\n",
      "Object: [144.33, 426.48, 220.67, 233.62]\n",
      "\n",
      "0: 640x384 3 stops, 82.6ms\n",
      "Speed: 2.0ms preprocess, 82.6ms inference, 1.0ms postprocess per image at shape (1, 3, 640, 384)\n",
      "\n",
      "0: 640x384 1 Fork_Lift, 87.1ms\n",
      "Speed: 2.0ms preprocess, 87.1ms inference, 1.5ms postprocess per image at shape (1, 3, 640, 384)\n",
      "Object: [102.24, 741.69, 242.11, 83.94]\n",
      "Object: [546.59, 409.29, 93.41, 109.92]\n",
      "Object: [164.01, 648.75, 154.49, 47.02]\n",
      "Object: [145.41, 425.50, 222.19, 235.16]\n",
      "\n",
      "0: 640x384 3 stops, 75.6ms\n",
      "Speed: 2.0ms preprocess, 75.6ms inference, 1.0ms postprocess per image at shape (1, 3, 640, 384)\n",
      "\n",
      "0: 640x384 1 Fork_Lift, 79.0ms\n",
      "Speed: 2.5ms preprocess, 79.0ms inference, 1.0ms postprocess per image at shape (1, 3, 640, 384)\n",
      "Object: [550.27, 410.79, 89.73, 109.27]\n",
      "Object: [104.46, 742.62, 243.58, 82.74]\n",
      "Object: [166.22, 649.87, 154.62, 46.53]\n",
      "Object: [147.92, 426.14, 221.76, 235.38]\n",
      "\n",
      "0: 640x384 3 stops, 77.4ms\n",
      "Speed: 2.0ms preprocess, 77.4ms inference, 1.0ms postprocess per image at shape (1, 3, 640, 384)\n",
      "\n",
      "0: 640x384 1 Fork_Lift, 73.8ms\n",
      "Speed: 2.4ms preprocess, 73.8ms inference, 1.0ms postprocess per image at shape (1, 3, 640, 384)\n",
      "Object: [554.49, 412.13, 84.97, 108.46]\n",
      "Object: [108.55, 744.18, 247.36, 82.11]\n",
      "Object: [169.75, 650.76, 152.58, 46.26]\n",
      "Object: [160.18, 429.82, 214.34, 232.63]\n",
      "\n",
      "0: 640x384 3 stops, 78.3ms\n",
      "Speed: 2.7ms preprocess, 78.3ms inference, 1.0ms postprocess per image at shape (1, 3, 640, 384)\n",
      "\n",
      "0: 640x384 1 Fork_Lift, 75.2ms\n",
      "Speed: 2.5ms preprocess, 75.2ms inference, 0.0ms postprocess per image at shape (1, 3, 640, 384)\n",
      "Object: [558.29, 413.34, 80.91, 107.87]\n",
      "Object: [111.66, 744.40, 243.49, 86.60]\n",
      "Object: [172.57, 651.49, 155.89, 46.66]\n",
      "Object: [164.59, 429.65, 212.05, 233.72]\n",
      "\n",
      "0: 640x384 3 stops, 90.4ms\n",
      "Speed: 3.4ms preprocess, 90.4ms inference, 1.0ms postprocess per image at shape (1, 3, 640, 384)\n",
      "\n",
      "0: 640x384 1 Fork_Lift, 83.6ms\n",
      "Speed: 1.7ms preprocess, 83.6ms inference, 1.2ms postprocess per image at shape (1, 3, 640, 384)\n",
      "Object: [561.65, 414.14, 77.81, 109.70]\n",
      "Object: [117.55, 747.12, 240.98, 85.15]\n",
      "Object: [173.88, 652.12, 159.36, 46.74]\n",
      "Object: [168.28, 432.61, 215.76, 231.92]\n",
      "\n",
      "0: 640x384 3 stops, 65.0ms\n",
      "Speed: 2.1ms preprocess, 65.0ms inference, 1.0ms postprocess per image at shape (1, 3, 640, 384)\n",
      "\n",
      "0: 640x384 1 Fork_Lift, 82.5ms\n",
      "Speed: 1.7ms preprocess, 82.5ms inference, 1.0ms postprocess per image at shape (1, 3, 640, 384)\n",
      "Object: [120.08, 747.07, 240.77, 85.61]\n",
      "Object: [566.71, 418.19, 71.64, 106.69]\n",
      "Object: [174.44, 651.06, 161.90, 50.16]\n",
      "Object: [173.44, 438.42, 217.70, 223.98]\n",
      "\n",
      "0: 640x384 3 stops, 77.6ms\n",
      "Speed: 2.0ms preprocess, 77.6ms inference, 1.0ms postprocess per image at shape (1, 3, 640, 384)\n",
      "\n",
      "0: 640x384 1 Fork_Lift, 88.1ms\n",
      "Speed: 2.0ms preprocess, 88.1ms inference, 1.1ms postprocess per image at shape (1, 3, 640, 384)\n",
      "Object: [124.87, 748.62, 240.78, 85.03]\n",
      "Object: [570.79, 418.06, 67.25, 106.51]\n",
      "Object: [185.58, 657.11, 158.40, 45.72]\n",
      "Object: [176.20, 438.58, 218.07, 224.05]\n",
      "\n",
      "0: 640x384 3 stops, 81.4ms\n",
      "Speed: 2.0ms preprocess, 81.4ms inference, 1.0ms postprocess per image at shape (1, 3, 640, 384)\n",
      "\n",
      "0: 640x384 1 Fork_Lift, 83.7ms\n",
      "Speed: 2.1ms preprocess, 83.7ms inference, 1.0ms postprocess per image at shape (1, 3, 640, 384)\n",
      "Object: [574.50, 417.94, 63.43, 107.54]\n",
      "Object: [127.85, 751.27, 238.81, 83.10]\n",
      "Object: [187.56, 657.19, 164.21, 45.99]\n",
      "Object: [176.64, 441.41, 221.11, 222.02]\n",
      "\n",
      "0: 640x384 3 stops, 70.6ms\n",
      "Speed: 1.0ms preprocess, 70.6ms inference, 1.0ms postprocess per image at shape (1, 3, 640, 384)\n",
      "\n",
      "0: 640x384 1 Fork_Lift, 132.1ms\n",
      "Speed: 3.1ms preprocess, 132.1ms inference, 1.0ms postprocess per image at shape (1, 3, 640, 384)\n",
      "Object: [130.39, 753.50, 245.01, 83.24]\n",
      "Object: [578.87, 419.63, 59.01, 107.40]\n",
      "Object: [192.74, 659.11, 153.90, 46.41]\n",
      "Object: [177.23, 440.60, 221.73, 223.28]\n",
      "\n",
      "0: 640x384 3 stops, 80.5ms\n",
      "Speed: 2.0ms preprocess, 80.5ms inference, 0.0ms postprocess per image at shape (1, 3, 640, 384)\n",
      "\n",
      "0: 640x384 1 Fork_Lift, 74.9ms\n",
      "Speed: 2.4ms preprocess, 74.9ms inference, 1.0ms postprocess per image at shape (1, 3, 640, 384)\n",
      "Object: [582.86, 418.79, 54.70, 112.64]\n",
      "Object: [133.24, 755.12, 248.52, 82.18]\n",
      "Object: [192.99, 660.01, 160.02, 45.39]\n",
      "Object: [177.90, 443.60, 223.26, 219.82]\n",
      "\n",
      "0: 640x384 3 stops, 77.5ms\n",
      "Speed: 2.0ms preprocess, 77.5ms inference, 0.0ms postprocess per image at shape (1, 3, 640, 384)\n",
      "\n",
      "0: 640x384 1 Fork_Lift, 87.4ms\n",
      "Speed: 3.3ms preprocess, 87.4ms inference, 1.0ms postprocess per image at shape (1, 3, 640, 384)\n",
      "Object: [586.43, 419.01, 51.30, 112.43]\n",
      "Object: [136.05, 755.65, 249.95, 84.61]\n",
      "Object: [199.76, 664.41, 151.57, 45.13]\n",
      "Object: [181.96, 446.41, 219.35, 218.21]\n",
      "\n",
      "0: 640x384 3 stops, 77.8ms\n",
      "Speed: 2.8ms preprocess, 77.8ms inference, 1.0ms postprocess per image at shape (1, 3, 640, 384)\n",
      "\n",
      "0: 640x384 1 Fork_Lift, 82.5ms\n",
      "Speed: 2.7ms preprocess, 82.5ms inference, 0.0ms postprocess per image at shape (1, 3, 640, 384)\n",
      "Object: [587.95, 419.73, 49.48, 112.68]\n",
      "Object: [141.30, 756.91, 246.24, 83.51]\n",
      "Object: [198.07, 662.69, 152.03, 46.58]\n",
      "Object: [186.02, 446.52, 214.14, 224.57]\n",
      "\n",
      "0: 640x384 3 stops, 83.2ms\n",
      "Speed: 2.2ms preprocess, 83.2ms inference, 1.0ms postprocess per image at shape (1, 3, 640, 384)\n",
      "\n",
      "0: 640x384 1 Fork_Lift, 82.1ms\n",
      "Speed: 3.2ms preprocess, 82.1ms inference, 1.0ms postprocess per image at shape (1, 3, 640, 384)\n",
      "Object: [145.36, 758.24, 240.62, 83.53]\n",
      "Object: [590.35, 420.99, 46.99, 111.72]\n",
      "Object: [199.88, 665.89, 151.37, 45.01]\n",
      "Object: [187.74, 449.97, 213.90, 223.11]\n",
      "\n",
      "0: 640x384 3 stops, 100.6ms\n",
      "Speed: 10.9ms preprocess, 100.6ms inference, 1.0ms postprocess per image at shape (1, 3, 640, 384)\n",
      "\n",
      "0: 640x384 1 Fork_Lift, 83.8ms\n",
      "Speed: 2.9ms preprocess, 83.8ms inference, 1.0ms postprocess per image at shape (1, 3, 640, 384)\n",
      "Object: [147.69, 761.13, 241.08, 81.08]\n",
      "Object: [591.76, 422.53, 45.60, 114.94]\n",
      "Object: [201.86, 664.80, 155.28, 45.48]\n",
      "Object: [193.85, 452.66, 209.38, 217.94]\n",
      "\n",
      "0: 640x384 3 stops, 70.3ms\n",
      "Speed: 2.5ms preprocess, 70.3ms inference, 1.0ms postprocess per image at shape (1, 3, 640, 384)\n",
      "\n",
      "0: 640x384 1 Fork_Lift, 81.9ms\n",
      "Speed: 2.4ms preprocess, 81.9ms inference, 1.2ms postprocess per image at shape (1, 3, 640, 384)\n",
      "Object: [148.74, 761.19, 243.12, 81.97]\n",
      "Object: [594.21, 425.45, 42.98, 112.10]\n",
      "Object: [204.71, 664.56, 157.24, 47.25]\n",
      "Object: [196.47, 452.94, 207.26, 219.12]\n",
      "\n",
      "0: 640x384 3 stops, 70.1ms\n",
      "Speed: 2.0ms preprocess, 70.1ms inference, 1.0ms postprocess per image at shape (1, 3, 640, 384)\n",
      "\n",
      "0: 640x384 1 Fork_Lift, 79.9ms\n",
      "Speed: 2.1ms preprocess, 79.9ms inference, 1.0ms postprocess per image at shape (1, 3, 640, 384)\n",
      "Object: [150.96, 763.05, 244.55, 80.86]\n",
      "Object: [206.00, 665.15, 156.09, 46.62]\n",
      "Object: [596.02, 430.78, 41.45, 109.38]\n",
      "Object: [197.00, 453.98, 211.99, 220.79]\n",
      "\n",
      "0: 640x384 3 stops, 93.6ms\n",
      "Speed: 2.0ms preprocess, 93.6ms inference, 1.0ms postprocess per image at shape (1, 3, 640, 384)\n",
      "\n",
      "0: 640x384 1 Fork_Lift, 182.2ms\n",
      "Speed: 3.5ms preprocess, 182.2ms inference, 0.5ms postprocess per image at shape (1, 3, 640, 384)\n",
      "Object: [155.48, 762.68, 246.37, 82.12]\n",
      "Object: [206.13, 666.14, 159.98, 48.08]\n",
      "Object: [597.93, 430.90, 39.99, 113.76]\n",
      "Object: [199.52, 454.19, 213.46, 220.70]\n",
      "\n",
      "0: 640x384 2 stops, 123.8ms\n",
      "Speed: 2.5ms preprocess, 123.8ms inference, 2.4ms postprocess per image at shape (1, 3, 640, 384)\n",
      "\n",
      "0: 640x384 1 Fork_Lift, 160.8ms\n",
      "Speed: 4.7ms preprocess, 160.8ms inference, 1.0ms postprocess per image at shape (1, 3, 640, 384)\n",
      "Object: [159.66, 762.30, 244.48, 83.74]\n",
      "Object: [211.15, 665.08, 157.31, 49.54]\n",
      "Object: [200.32, 455.05, 216.91, 222.30]\n",
      "\n",
      "0: 640x384 2 stops, 68.7ms\n",
      "Speed: 2.2ms preprocess, 68.7ms inference, 0.0ms postprocess per image at shape (1, 3, 640, 384)\n",
      "\n",
      "0: 640x384 1 Fork_Lift, 79.0ms\n",
      "Speed: 1.8ms preprocess, 79.0ms inference, 1.1ms postprocess per image at shape (1, 3, 640, 384)\n",
      "Object: [163.35, 762.88, 245.29, 81.32]\n",
      "Object: [211.71, 667.27, 161.37, 45.18]\n",
      "Object: [200.93, 453.56, 220.45, 223.62]\n",
      "\n",
      "0: 640x384 2 stops, 81.6ms\n",
      "Speed: 3.0ms preprocess, 81.6ms inference, 1.0ms postprocess per image at shape (1, 3, 640, 384)\n",
      "\n",
      "0: 640x384 1 Fork_Lift, 81.5ms\n",
      "Speed: 2.4ms preprocess, 81.5ms inference, 0.0ms postprocess per image at shape (1, 3, 640, 384)\n",
      "Object: [171.20, 762.77, 242.35, 82.21]\n",
      "Object: [219.82, 666.88, 155.94, 44.99]\n",
      "Object: [201.89, 453.63, 223.65, 222.95]\n",
      "\n",
      "0: 640x384 2 stops, 82.3ms\n",
      "Speed: 2.0ms preprocess, 82.3ms inference, 1.0ms postprocess per image at shape (1, 3, 640, 384)\n",
      "\n",
      "0: 640x384 1 Fork_Lift, 74.3ms\n",
      "Speed: 2.0ms preprocess, 74.3ms inference, 1.0ms postprocess per image at shape (1, 3, 640, 384)\n",
      "Object: [177.65, 762.49, 244.00, 81.64]\n",
      "Object: [229.08, 665.48, 155.08, 46.37]\n",
      "Object: [219.06, 451.45, 212.88, 223.96]\n",
      "\n",
      "0: 640x384 2 stops, 71.1ms\n",
      "Speed: 1.2ms preprocess, 71.1ms inference, 1.0ms postprocess per image at shape (1, 3, 640, 384)\n",
      "\n",
      "0: 640x384 1 Fork_Lift, 134.3ms\n",
      "Speed: 1.5ms preprocess, 134.3ms inference, 0.0ms postprocess per image at shape (1, 3, 640, 384)\n",
      "Object: [187.75, 762.10, 243.27, 81.92]\n",
      "Object: [235.54, 665.54, 159.84, 46.81]\n",
      "Object: [226.86, 454.33, 217.47, 220.58]\n",
      "\n",
      "0: 640x384 2 stops, 75.0ms\n",
      "Speed: 2.0ms preprocess, 75.0ms inference, 1.0ms postprocess per image at shape (1, 3, 640, 384)\n",
      "\n",
      "0: 640x384 1 Fork_Lift, 122.6ms\n",
      "Speed: 2.8ms preprocess, 122.6ms inference, 0.5ms postprocess per image at shape (1, 3, 640, 384)\n",
      "Object: [199.38, 761.46, 242.25, 82.38]\n",
      "Object: [247.79, 665.99, 154.97, 46.87]\n",
      "Object: [234.08, 453.76, 221.44, 215.79]\n",
      "\n",
      "0: 640x384 2 stops, 82.6ms\n",
      "Speed: 2.7ms preprocess, 82.6ms inference, 2.2ms postprocess per image at shape (1, 3, 640, 384)\n",
      "\n",
      "0: 640x384 1 Fork_Lift, 89.2ms\n",
      "Speed: 3.0ms preprocess, 89.2ms inference, 1.0ms postprocess per image at shape (1, 3, 640, 384)\n",
      "Object: [211.28, 760.22, 249.95, 84.10]\n",
      "Object: [259.66, 665.26, 156.41, 45.69]\n",
      "Object: [250.81, 449.82, 209.11, 220.78]\n",
      "\n",
      "0: 640x384 2 stops, 82.0ms\n",
      "Speed: 2.0ms preprocess, 82.0ms inference, 1.0ms postprocess per image at shape (1, 3, 640, 384)\n",
      "\n",
      "0: 640x384 1 Fork_Lift, 81.2ms\n",
      "Speed: 3.0ms preprocess, 81.2ms inference, 1.0ms postprocess per image at shape (1, 3, 640, 384)\n",
      "Object: [228.45, 758.95, 242.80, 85.42]\n",
      "Object: [276.03, 665.82, 158.45, 45.69]\n",
      "Object: [257.27, 452.28, 219.10, 218.82]\n",
      "\n",
      "0: 640x384 2 stops, 83.9ms\n",
      "Speed: 2.0ms preprocess, 83.9ms inference, 1.0ms postprocess per image at shape (1, 3, 640, 384)\n",
      "\n",
      "0: 640x384 1 Fork_Lift, 85.5ms\n",
      "Speed: 2.8ms preprocess, 85.5ms inference, 1.0ms postprocess per image at shape (1, 3, 640, 384)\n",
      "Object: [243.43, 757.51, 242.80, 86.44]\n",
      "Object: [286.97, 664.87, 159.11, 44.43]\n",
      "Object: [277.03, 446.07, 211.23, 224.21]\n",
      "\n",
      "0: 640x384 2 stops, 85.0ms\n",
      "Speed: 6.1ms preprocess, 85.0ms inference, 1.1ms postprocess per image at shape (1, 3, 640, 384)\n",
      "\n",
      "0: 640x384 1 Fork_Lift, 84.2ms\n",
      "Speed: 2.7ms preprocess, 84.2ms inference, 1.0ms postprocess per image at shape (1, 3, 640, 384)\n",
      "Object: [258.60, 755.68, 245.30, 86.64]\n",
      "Object: [300.34, 662.78, 158.30, 46.74]\n",
      "Object: [289.96, 446.81, 221.26, 218.33]\n",
      "\n",
      "0: 640x384 2 stops, 78.7ms\n",
      "Speed: 2.6ms preprocess, 78.7ms inference, 1.0ms postprocess per image at shape (1, 3, 640, 384)\n",
      "\n",
      "0: 640x384 1 Fork_Lift, 78.0ms\n",
      "Speed: 3.4ms preprocess, 78.0ms inference, 1.0ms postprocess per image at shape (1, 3, 640, 384)\n",
      "Object: [274.43, 754.23, 246.27, 87.63]\n",
      "Object: [326.71, 662.04, 152.40, 45.86]\n",
      "Object: [307.08, 444.24, 209.88, 220.70]\n",
      "\n",
      "0: 640x384 2 stops, 64.7ms\n",
      "Speed: 2.0ms preprocess, 64.7ms inference, 0.0ms postprocess per image at shape (1, 3, 640, 384)\n",
      "\n",
      "0: 640x384 1 Fork_Lift, 87.0ms\n",
      "Speed: 2.3ms preprocess, 87.0ms inference, 1.0ms postprocess per image at shape (1, 3, 640, 384)\n",
      "Object: [289.42, 751.48, 249.19, 90.05]\n",
      "Object: [336.46, 659.87, 155.73, 48.51]\n",
      "Object: [314.66, 442.93, 220.41, 223.52]\n",
      "\n",
      "0: 640x384 2 stops, 69.2ms\n",
      "Speed: 2.0ms preprocess, 69.2ms inference, 0.0ms postprocess per image at shape (1, 3, 640, 384)\n",
      "\n",
      "0: 640x384 1 Fork_Lift, 78.2ms\n",
      "Speed: 2.5ms preprocess, 78.2ms inference, 0.0ms postprocess per image at shape (1, 3, 640, 384)\n",
      "Object: [308.42, 751.14, 246.09, 87.91]\n",
      "Object: [344.08, 653.79, 163.80, 52.67]\n",
      "Object: [338.59, 441.37, 215.94, 225.00]\n",
      "\n",
      "0: 640x384 2 stops, 96.0ms\n",
      "Speed: 22.0ms preprocess, 96.0ms inference, 1.0ms postprocess per image at shape (1, 3, 640, 384)\n",
      "\n",
      "0: 640x384 1 Fork_Lift, 86.4ms\n",
      "Speed: 3.2ms preprocess, 86.4ms inference, 1.5ms postprocess per image at shape (1, 3, 640, 384)\n",
      "Object: [326.95, 746.57, 251.48, 95.10]\n",
      "Object: [370.54, 652.51, 156.00, 55.46]\n",
      "Object: [352.02, 443.01, 219.81, 225.15]\n",
      "\n",
      "0: 640x384 2 stops, 80.7ms\n",
      "Speed: 3.0ms preprocess, 80.7ms inference, 1.0ms postprocess per image at shape (1, 3, 640, 384)\n",
      "\n",
      "0: 640x384 1 Fork_Lift, 76.7ms\n",
      "Speed: 2.8ms preprocess, 76.7ms inference, 0.0ms postprocess per image at shape (1, 3, 640, 384)\n",
      "Object: [345.86, 745.73, 256.52, 97.26]\n",
      "Object: [385.98, 652.22, 163.36, 54.33]\n",
      "Object: [370.93, 434.92, 222.21, 229.74]\n",
      "\n",
      "0: 640x384 2 stops, 80.2ms\n",
      "Speed: 1.4ms preprocess, 80.2ms inference, 1.2ms postprocess per image at shape (1, 3, 640, 384)\n",
      "\n",
      "0: 640x384 1 Fork_Lift, 87.2ms\n",
      "Speed: 2.2ms preprocess, 87.2ms inference, 1.0ms postprocess per image at shape (1, 3, 640, 384)\n",
      "Object: [366.09, 746.58, 259.82, 95.27]\n",
      "Object: [402.83, 648.67, 169.69, 55.83]\n",
      "Object: [398.95, 434.15, 221.82, 228.10]\n",
      "\n",
      "0: 640x384 2 stops, 85.6ms\n",
      "Speed: 2.0ms preprocess, 85.6ms inference, 1.0ms postprocess per image at shape (1, 3, 640, 384)\n",
      "\n",
      "0: 640x384 1 Fork_Lift, 74.5ms\n",
      "Speed: 2.0ms preprocess, 74.5ms inference, 1.0ms postprocess per image at shape (1, 3, 640, 384)\n",
      "Object: [388.18, 747.50, 250.88, 95.10]\n",
      "Object: [427.11, 649.08, 166.55, 55.24]\n",
      "Object: [417.30, 428.41, 214.28, 233.24]\n",
      "\n",
      "0: 640x384 2 stops, 95.2ms\n",
      "Speed: 23.1ms preprocess, 95.2ms inference, 1.0ms postprocess per image at shape (1, 3, 640, 384)\n",
      "\n",
      "0: 640x384 1 Fork_Lift, 72.3ms\n",
      "Speed: 3.0ms preprocess, 72.3ms inference, 1.0ms postprocess per image at shape (1, 3, 640, 384)\n",
      "Object: [410.41, 747.72, 229.59, 95.92]\n",
      "Object: [449.29, 650.86, 178.92, 52.35]\n",
      "Object: [430.27, 427.03, 203.64, 235.46]\n",
      "\n",
      "0: 640x384 2 stops, 79.7ms\n",
      "Speed: 2.0ms preprocess, 79.7ms inference, 1.1ms postprocess per image at shape (1, 3, 640, 384)\n",
      "\n",
      "0: 640x384 1 Fork_Lift, 85.5ms\n",
      "Speed: 2.2ms preprocess, 85.5ms inference, 1.0ms postprocess per image at shape (1, 3, 640, 384)\n",
      "Object: [430.45, 747.39, 206.85, 97.90]\n",
      "Object: [473.41, 652.14, 165.16, 53.85]\n",
      "Object: [460.21, 417.07, 175.81, 247.57]\n",
      "\n",
      "0: 640x384 2 stops, 76.1ms\n",
      "Speed: 2.5ms preprocess, 76.1ms inference, 0.0ms postprocess per image at shape (1, 3, 640, 384)\n",
      "\n",
      "0: 640x384 1 Fork_Lift, 84.8ms\n",
      "Speed: 1.7ms preprocess, 84.8ms inference, 1.6ms postprocess per image at shape (1, 3, 640, 384)\n",
      "Object: [452.47, 747.50, 186.66, 98.83]\n",
      "Object: [491.71, 647.34, 148.29, 54.74]\n",
      "Object: [484.35, 411.87, 154.54, 250.07]\n",
      "\n",
      "0: 640x384 2 stops, 78.9ms\n",
      "Speed: 2.0ms preprocess, 78.9ms inference, 1.0ms postprocess per image at shape (1, 3, 640, 384)\n",
      "\n",
      "0: 640x384 1 Fork_Lift, 82.9ms\n",
      "Speed: 2.5ms preprocess, 82.9ms inference, 0.0ms postprocess per image at shape (1, 3, 640, 384)\n",
      "Object: [475.01, 748.52, 164.99, 96.93]\n",
      "Object: [520.59, 652.72, 119.41, 45.74]\n",
      "Object: [504.30, 414.89, 135.70, 248.49]\n",
      "\n",
      "0: 640x384 2 stops, 137.5ms\n",
      "Speed: 2.0ms preprocess, 137.5ms inference, 1.0ms postprocess per image at shape (1, 3, 640, 384)\n",
      "\n",
      "0: 640x384 (no detections), 82.1ms\n",
      "Speed: 2.9ms preprocess, 82.1ms inference, 0.0ms postprocess per image at shape (1, 3, 640, 384)\n",
      "Object: [498.78, 749.49, 141.22, 97.36]\n",
      "Object: [542.58, 655.82, 95.74, 42.07]\n",
      "\n",
      "0: 640x384 2 stops, 72.3ms\n",
      "Speed: 2.0ms preprocess, 72.3ms inference, 1.0ms postprocess per image at shape (1, 3, 640, 384)\n",
      "\n",
      "0: 640x384 (no detections), 79.5ms\n",
      "Speed: 2.0ms preprocess, 79.5ms inference, 0.0ms postprocess per image at shape (1, 3, 640, 384)\n",
      "Object: [520.63, 750.65, 118.56, 93.16]\n",
      "Object: [561.73, 656.08, 77.46, 39.44]\n",
      "\n",
      "0: 640x384 1 stop, 79.2ms\n",
      "Speed: 2.5ms preprocess, 79.2ms inference, 0.0ms postprocess per image at shape (1, 3, 640, 384)\n",
      "\n",
      "0: 640x384 (no detections), 85.8ms\n",
      "Speed: 2.4ms preprocess, 85.8ms inference, 0.5ms postprocess per image at shape (1, 3, 640, 384)\n",
      "Object: [544.77, 755.84, 94.29, 75.92]\n",
      "\n",
      "0: 640x384 1 stop, 70.0ms\n",
      "Speed: 2.8ms preprocess, 70.0ms inference, 1.0ms postprocess per image at shape (1, 3, 640, 384)\n",
      "\n",
      "0: 640x384 (no detections), 134.2ms\n",
      "Speed: 2.7ms preprocess, 134.2ms inference, 0.0ms postprocess per image at shape (1, 3, 640, 384)\n",
      "Object: [569.38, 760.38, 70.56, 72.98]\n"
     ]
    }
   ],
   "source": [
    "import os \n",
    "os.environ[\"KMP_DUPLICATE_LIB_OK\"] = \"TRUE\"\n",
    "\n",
    "import cv2\n",
    "from ultralytics import YOLO\n",
    "\n",
    "def get_box_dimensions(results):\n",
    "    box_dimensions = []\n",
    "    for box, box2 in zip(results[0].boxes.xyxy, results[0].boxes.xywh):\n",
    "        box_dimensions.append([box[0].item(), box[1].item(), box2[2].item(), box2[3].item()])\n",
    "    return box_dimensions\n",
    "\n",
    "# Initialize the trained YOLO models for stop sign and forklift detection\n",
    "\n",
    "forklift_model = YOLO('last.pt')\n",
    "stop_sign_model = YOLO('ss_best.pt')\n",
    "\n",
    "# Specify the path to the video file\n",
    "video_path = 'video.mp4'\n",
    "\n",
    "# Open the video file for reading\n",
    "cap = cv2.VideoCapture(video_path)\n",
    "\n",
    "# Check if the video opened successfully\n",
    "if not cap.isOpened():\n",
    "    print(\"Error: Unable to open video.\")\n",
    "else:\n",
    "    # Get the original dimensions of the video\n",
    "    original_width = int(cap.get(cv2.CAP_PROP_FRAME_WIDTH))\n",
    "    original_height = int(cap.get(cv2.CAP_PROP_FRAME_HEIGHT))\n",
    "    original_dims = (original_width, original_height)\n",
    "    \n",
    "    # Define the desired dimensions for resizing\n",
    "    new_width = 640  # Choose a new width\n",
    "    new_height = int(original_height * (new_width / original_width))  # Maintain aspect ratio\n",
    "    \n",
    "    # Variable to keep track of frames\n",
    "    frame_count = 0\n",
    "    \n",
    "    # Loop to read and process each frame\n",
    "    while True:\n",
    "        # Read a frame from the video\n",
    "        ret, frame = cap.read()\n",
    "        \n",
    "        # Increment frame count\n",
    "        frame_count += 1\n",
    "\n",
    "        # Check if the frame was read successfully\n",
    "        if not ret:\n",
    "            print(\"End of video or unable to read frame.\")\n",
    "            break\n",
    "        \n",
    "        # Skip frames if necessary\n",
    "        if frame_count % 2 != 0:\n",
    "            continue\n",
    "\n",
    "        # Resize the frame\n",
    "        frame_resized = cv2.resize(frame, (new_width, new_height))\n",
    "\n",
    "        # Perform object detection on the resized frame for stop signs\n",
    "        stop_sign_results = stop_sign_model.predict(frame_resized)\n",
    "        stop_sign_box_dimensions = get_box_dimensions(stop_sign_results)\n",
    "\n",
    "        # Perform object detection on the resized frame for forklifts\n",
    "        forklift_results = forklift_model.predict(frame_resized)\n",
    "        forklift_box_dimensions = get_box_dimensions(forklift_results)\n",
    "\n",
    "        # Combine box dimensions from both models\n",
    "        combined_box_dimensions = stop_sign_box_dimensions + forklift_box_dimensions\n",
    "\n",
    "        # Draw bounding boxes for stop signs and forklifts on the resized frame\n",
    "        annotated_frame = stop_sign_results[0].plot()\n",
    "        annotated_frame = forklift_results[0].plot()\n",
    "        \n",
    "        for box_dim in forklift_box_dimensions:\n",
    "            annotated_frame = cv2.rectangle(annotated_frame, (int(box_dim[0]), int(box_dim[1])), (int(box_dim[2]), int(box_dim[3])), (0, 255, 255), 2)\n",
    "\n",
    "        # Display the annotated frame\n",
    "        cv2.imshow('Annotated Frame with Detected Objects', annotated_frame)\n",
    "\n",
    "        # Print the box dimensions\n",
    "        for box_dim in combined_box_dimensions:\n",
    "            print(f\"Object: [{box_dim[0]:.2f}, {box_dim[1]:.2f}, {box_dim[2]:.2f}, {box_dim[3]:.2f}]\")\n",
    "\n",
    "        # Check for user input to exit\n",
    "        if cv2.waitKey(25) & 0xFF == ord('q'):\n",
    "            break\n",
    "\n",
    "    # Release the video capture object\n",
    "    cap.release()\n",
    "    cv2.destroyAllWindows()\n"
   ]
  },
  {
   "cell_type": "code",
   "execution_count": null,
   "id": "e222df1b-8ee9-4256-b702-8c3d40e96b58",
   "metadata": {},
   "outputs": [],
   "source": []
  }
 ],
 "metadata": {
  "kernelspec": {
   "display_name": "Python 3 (ipykernel)",
   "language": "python",
   "name": "python3"
  },
  "language_info": {
   "codemirror_mode": {
    "name": "ipython",
    "version": 3
   },
   "file_extension": ".py",
   "mimetype": "text/x-python",
   "name": "python",
   "nbconvert_exporter": "python",
   "pygments_lexer": "ipython3",
   "version": "3.12.0"
  }
 },
 "nbformat": 4,
 "nbformat_minor": 5
}
